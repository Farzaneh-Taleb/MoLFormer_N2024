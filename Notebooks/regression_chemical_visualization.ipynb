{
 "cells": [
  {
   "cell_type": "markdown",
   "metadata": {
    "pycharm": {
     "name": "#%% md\n"
    },
    "tags": []
   },
   "source": [
    "# Load checkpoint and imports"
   ]
  },
  {
   "cell_type": "code",
   "execution_count": 1,
   "metadata": {
    "pycharm": {
     "name": "#%%\n"
    }
   },
   "source": [
    "import sys\n",
    "import warnings\n",
    "warnings.filterwarnings('ignore')\n",
    "# !{sys.executable} -m pip install seaborn"
   ],
   "outputs": []
  },
  {
   "cell_type": "code",
   "execution_count": 2,
   "metadata": {
    "collapsed": false,
    "jupyter": {
     "outputs_hidden": false
    },
    "pycharm": {
     "name": "#%%\n"
    }
   },
   "source": [
    "import sklearn\n",
    "import pandas as pd\n",
    "import numpy as np\n",
    "from sklearn.model_selection import cross_validate,train_test_split\n",
    "import ast\n",
    "from sklearn.linear_model import LinearRegression,Lasso,LassoCV,MultiTaskLassoCV\n",
    "from sklearn.metrics import roc_auc_score, mean_squared_error\n",
    "import scipy\n",
    "import os\n",
    "import seaborn as sns\n",
    "import matplotlib.pyplot as plt\n",
    "from sklearn.decomposition import PCA\n",
    "from scipy import stats\n",
    "base_path= '../../../../../../T5 EVO/'\n",
    "from sklearn.preprocessing import StandardScaler\n",
    "import torch\n",
    "from sklearn.linear_model import LogisticRegression,LassoCV\n",
    "import random\n",
    "plt.rcParams[\"font.size\"] = 35\n",
    "# [x[0] for x in os.walk(base_path)]\n",
    "# input_file_keller_pom = '/local_storage/datasets/farzaneh/openpom/data/curated_datasets/embeddings/pom/keller_pom_embeddings_Apr17.csv'\n",
    "# "
   ],
   "outputs": []
  },
  {
   "cell_type": "code",
   "execution_count": 3,
   "metadata": {},
   "source": [
    "seed = 2024\n",
    "torch.manual_seed(seed)\n",
    "torch.cuda.manual_seed(seed)\n",
    "np.random.seed(seed)\n",
    "random.seed(seed)\n",
    "torch.cuda.manual_seed_all(seed)"
   ],
   "outputs": []
  },
  {
   "cell_type": "code",
   "execution_count": 4,
   "metadata": {
    "collapsed": false,
    "jupyter": {
     "outputs_hidden": false
    },
    "pycharm": {
     "name": "#%%\n"
    }
   },
   "source": [
    "times=30\n",
    "n_components=20"
   ],
   "outputs": []
  },
  {
   "cell_type": "markdown",
   "metadata": {
    "collapsed": false,
    "jupyter": {
     "outputs_hidden": false
    },
    "pycharm": {
     "name": "#%% md\n"
    }
   },
   "source": [
    "# Helper Methods"
   ]
  },
  {
   "cell_type": "code",
   "execution_count": 5,
   "metadata": {
    "collapsed": false,
    "jupyter": {
     "outputs_hidden": false
    },
    "pycharm": {
     "name": "#%%\n"
    }
   },
   "source": [
    "def combine_visualize(df1,df2,tasks,ax,title,type=\"corr\",figure_name=\"def\"):\n",
    "    df_combined = pd.concat((df1,df2))\n",
    "    # df_combined =  pd.concat((df12,df3))\n",
    "    melted_df_keller = df_combined.melt(id_vars=['model'], var_name='descritpor')\n",
    "    \n",
    "    # g1.despine(left=True)\n",
    "    # g1.set_axis_labels(\"\", title)\n",
    "    # g1.legend.set_title(\"\")\n",
    "    # g1.set_xticklabels(tasks, rotation=45)\n",
    "    \n",
    "    if type==\"corr\":\n",
    "        melted_df_keller['value'] = melted_df_keller['value'].abs()\n",
    "    else:\n",
    "        pass\n",
    "        # melted_df_keller['value'] = melted_df_keller[['value']].apply(np.sqrt)\n",
    "        # melted_df_keller['value'] = melted_df_keller.groupby('descritpor')['value'].transform(lambda x: (x) / (x.max() - x.min()))\n",
    "\n",
    "        # melted_df_keller = melted_df_keller / (melted_df_keller.max() - melted_df_keller.min() )\n",
    "    # melted_df_keller = melted_df_keller.dropna()\n",
    "\n",
    "\n",
    "    g1 = sns.barplot(\n",
    "    data=melted_df_keller,\n",
    "    x=\"descritpor\", y=\"value\", hue=\"model\",\n",
    "    errorbar=\"se\",ax=ax,palette=['#4d79a4','#ecc947','#b07aa0'], linewidth=7 )\n",
    "    g1.set(xlabel='Model', ylabel=title)\n",
    "    g1.spines['top'].set_visible(False)\n",
    "    g1.spines['right'].set_visible(False)\n",
    "    # g2 = sns.barplot(\n",
    "    # data=melted_df_keller,\n",
    "    # x=\"model\", y=\"value\",\n",
    "    # errorbar=\"sd\", palette=\"dark\", alpha=.6)\n",
    "    # g2.despine(left=True)\n",
    "    # g2.set_axis_labels(\"\", \"Body mass (g)\")\n",
    "    # g2.legend.set_title(\"\")\n",
    "    g1.set_xticklabels(tasks, rotation=90)\n",
    "    # change_width(g1, 0.1)\n",
    "    # g1.figure.savefig(figure_name+\".pdf\")\n",
    "    return g1,melted_df_keller"
   ],
   "outputs": []
  },
  {
   "cell_type": "code",
   "execution_count": 6,
   "metadata": {
    "collapsed": false,
    "jupyter": {
     "outputs_hidden": false
    },
    "pycharm": {
     "name": "#%%\n"
    }
   },
   "source": [
    "def combine_visualize_separate(df1,df2,tasks,ax,title,type=\"corr\"):\n",
    "    df_combined = pd.concat((df1,df2))\n",
    "    melted_df_keller = df_combined.melt(id_vars=['model'], var_name='descritpor')\n",
    "    # g1 = sns.catplot(\n",
    "    # data=melted_df_keller, kind=\"bar\",\n",
    "    # x=\"descritpor\", y=\"value\", hue=\"model\",\n",
    "    # errorbar=\"sd\", palette=\"dark\", alpha=.6, height=6,aspect =2 )\n",
    "    # g1.despine(left=True)\n",
    "    # g1.set_axis_labels(\"\", \"Body mass (g)\")\n",
    "    # g1.legend.set_title(\"\")\n",
    "    # g1.set_xticklabels(tasks, rotation=45)\n",
    "    if type==\"corr\":\n",
    "        melted_df_keller['value'] = melted_df_keller['value'].abs()\n",
    "    else:\n",
    "        pass\n",
    "        # melted_df_keller['value'] = melted_df_keller[['value']].apply(np.sqrt)\n",
    "    g2 = sns.barplot(\n",
    "    data=melted_df_keller,\n",
    "    x=\"model\", y=\"value\",\n",
    "    errorbar=\"se\", palette=\"dark\", alpha=.6,ax=ax)\n",
    "    # g2.set_axis_labels(\"\", title)\n",
    "    g2.set(xlabel='Model', ylabel=title)\n",
    "    # g2.despine(left=True)\n",
    "    # g2.set_axis_labels(\"\", \"Body mass (g)\")\n",
    "    # g2.legend.set_title(\"\")\n",
    "    # g.set_xticklabels(tasks, rotation=45)"
   ],
   "outputs": []
  },
  {
   "cell_type": "code",
   "execution_count": 7,
   "metadata": {},
   "source": [
    "def normalize_rmse(df,min_max,j):\n",
    "    df=df.loc[:, (df != 0).any(axis=0)] \n",
    "    min_max=min_max.loc[:, (min_max != 0).any(axis=0)] \n",
    "    \n",
    "    max_values = min_max.max()\n",
    "    min_values = min_max.min()\n",
    "    min_max.columns = ['Dataset','Type']+df.columns.values.tolist()[:j]\n",
    "    # df = df[['nCIR', 'ZM1', 'GNar', 'S1K', 'piPC08', 'MATS1v', 'MATS7v', 'GATS1v',\n",
    "    #    'Eig05_AEA(bo)', 'SM02_AEA(bo)', 'SM03_AEA(dm)', 'SM10_AEA(dm)',\n",
    "    #    'SM13_AEA(dm)', 'SpMin3_Bh(v)' ,'nRCOSR']]\n",
    "    # min_max =  min_max[['nCIR', 'ZM1', 'GNar', 'S1K', 'piPC08', 'MATS1v', 'MATS7v', 'GATS1v',\n",
    "    #    'Eig05_AEA(bo)', 'SM02_AEA(bo)', 'SM03_AEA(dm)', 'SM10_AEA(dm)',\n",
    "    #    'SM13_AEA(dm)', 'SpMin3_Bh(v)' ,'nRCOSR']]+['Dataset','Type','layer']\n",
    "    # Drop 'Dataset' and 'Type' as they are not numeric columns\n",
    "\n",
    "    # df= df.dropna(inplace=False,axis=1,how='any')\n",
    "    # min_max= min_max.dropna(inplace=False,axis=1,how='any')\n",
    "\n",
    "    \n",
    "    \n",
    "    min_values = min_values.drop(['Dataset', 'Type'])\n",
    "    max_values = max_values.drop(['Dataset', 'Type'])\n",
    "    \n",
    "    for i,col in enumerate(df.columns[:j]):\n",
    "        print(i,col)\n",
    "        print(max_values[i], min_values[i])\n",
    "        df[col] = np.sqrt(df[col]) / (max_values[i] - min_values[i])\n",
    "    return df\n",
    "\n"
   ],
   "outputs": []
  },
  {
   "cell_type": "code",
   "execution_count": 35,
   "metadata": {},
   "source": [
    "def post_process_dataframe(corrss,msess,df_cor_pom,df_mse_pom,tasks,figure_name=\"def\"):\n",
    "    corrss=corrss.loc[:, (corrss != 0).any(axis=0)] \n",
    "    df_cor_pom=df_cor_pom.loc[:, (df_cor_pom != 0).any(axis=0)] \n",
    "    corrss=corrss.dropna(axis=1)\n",
    "    df_cor_pom=df_cor_pom.dropna(axis=1)\n",
    "    # corrss_1_12 = corrss.loc[((corrss[\"layer\"]==0) | (corrss[\"layer\"]==12)) & (corrss[\"model\"]==\"molformer\")]\n",
    "    # del corrss_1_12[\"model\"]\n",
    "    # melted_corrss_1_12 = corrss_1_12.melt(id_vars=['layer'], var_name='descritpor')\n",
    "    # melted_corrss_filtered_increasing=melted_corrss_1_12.groupby('descritpor').filter(lambda x: x.loc[x['layer'] == 12, 'value'].abs().mean() > x.loc[x['layer'] == 0, 'value'].abs().mean())\n",
    "    # melted_corrss_filtered_decreasing=melted_corrss_1_12.groupby('descritpor').filter(lambda x: x.loc[x['layer'] == 0, 'value'].abs().mean() > x.loc[x['layer'] == 12, 'value'].abs().mean())\n",
    "\n",
    "    # print(melted_corrss_1_12.descritpor.unique())\n",
    "\n",
    "    # melted_corrss_filtered_increasing['trend']='Increasing'\n",
    "    # melted_corrss_filtered_decreasing['trend']='Decreasing'\n",
    "\n",
    "    # melted_corrss_filtered = pd.concat((melted_corrss_filtered_increasing,melted_corrss_filtered_decreasing))\n",
    "    # fig, ax = plt.subplots(nrows=1,ncols=2,figsize=(30,10))\n",
    "    # sns.lineplot(\n",
    "    # data=melted_corrss_filtered_increasing, x=\"layer\", y=\"value\", hue=\"descritpor\", err_style='bars',ax=ax[0],errorbar=\"se\"\n",
    "    # )\n",
    "    # sns.lineplot(\n",
    "    # data=melted_corrss_filtered_decreasing, x=\"layer\", y=\"value\", hue=\"descritpor\", err_style='bars',ax=ax[1],errorbar=\"se\"\n",
    "    # )\n",
    "\n",
    "    # f1, ax_agg = plt.subplots(1, 2,figsize=(20, 5))\n",
    "\n",
    "    f2, ax = plt.subplots(1, 2, figsize=(30,12))\n",
    "    # combine_visualize_separate(corrss.loc[corrss[\"layer\"]==12,].iloc[:,corrss.columns != 'layer'], df_cor_pom,df_cor_alva,tasks,ax_agg[0],'Correlation Coefficient',figure_name=\"Correlation_Avg_\"+figure_name)\n",
    "    g1,melted_df_keller=combine_visualize(corrss.loc[corrss[\"layer\"]==12].iloc[:,corrss.columns != 'layer'], df_cor_pom,tasks,ax[0],'Correlation Coefficient',figure_name=\"Correlation_\"+figure_name)\n",
    "    g1.set_xlabel('')\n",
    "    \n",
    "    # combine_visualize_separate(msess.loc[msess[\"layer\"]==12].iloc[:,msess.columns != 'layer'], df_mse_pom,df_mse_alva,tasks,ax_agg[1],'MSE',type=\"mse\",figure_name=\"MSE_Avg_\"+figure_name)\n",
    "    g2,melted_df_keller=combine_visualize(msess.loc[msess[\"layer\"]==12].iloc[:,msess.columns != 'layer'], df_mse_pom,tasks,ax[1],'NRMSE',type=\"mse\",figure_name=\"MSE__\"+figure_name)\n",
    "    g2.set_xlabel('Descriptor')\n",
    "\n",
    "    g1.legend().set_title(\"Model\")\n",
    "    handles, labels = g1.get_legend_handles_labels()\n",
    "    g1.get_legend().remove()\n",
    "    g2.legend().set_title(\"Model\")\n",
    "    handles, labels = g2.get_legend_handles_labels()\n",
    "    g2.get_legend().remove()\n",
    "    print(labels)\n",
    "    f2.subplots_adjust(bottom=0,left=0.1,right=0.95,top=0.7)\n",
    "    labels = ['MoLFormer', 'Open-POM']\n",
    "    f2.legend(handles, labels, ncol=3, columnspacing=1, prop={'size': 25}, handlelength=1.5, loc=\"lower center\",\n",
    "               borderpad=0.3,\n",
    "               \n",
    "               bbox_to_anchor=(0.54, -0.05), \n",
    "               \n",
    "               frameon=True, labelspacing=0.4,handletextpad=0.2,)\n",
    "    # plt.legend(title='Smoker', loc='upper left',)\n",
    "\n",
    "    plt.subplots_adjust(hspace = 0.65)\n",
    "    plt.subplots_adjust(wspace = 0.8)\n",
    "    plt.tight_layout()\n",
    "\n",
    "    f2.savefig(figure_name+\"_h.pdf\", bbox_inches='tight')\n",
    "    \n",
    "    corrss_molformer = corrss.loc[(corrss[\"model\"]==\"molformer\")]\n",
    "    del corrss_molformer[\"model\"]\n",
    "    melted_corrss_molformer = corrss_molformer.melt(id_vars=['layer'], var_name='descritpor')\n",
    "    # melted_corrss_molformer=melted_corrss_molformer.dropna()\n",
    "    g = sns.FacetGrid(melted_corrss_molformer, col='descritpor', col_wrap=5, height=4, aspect=1.5)\n",
    "    g.map(sns.lineplot, 'layer', 'value',palette=['#4d79a4','#ecc947','#b07aa0'])\n",
    "    g.set_titles(col_template='{col_name}')\n",
    "    g.set_axis_labels('Layer', 'Correlation Coefficient')\n",
    "\n",
    "    max_stages = melted_corrss_molformer.loc[melted_corrss_molformer.groupby('descritpor')['value'].idxmax()]\n",
    "\n",
    "    # \n",
    "\n",
    "    for ax, (idx, row) in zip(g.axes.flat, max_stages.iterrows()):\n",
    "        # ax.plot(row['layer'], row['value'], 'ro')  # 'ro' means red color, round marker\n",
    "        # ax.annotate(f'Stage {int(row[\"layer\"])}', \n",
    "        #             xy=(row['layer'], row['value']),\n",
    "        #             xytext=(row['layer'], row['value']+0.05),\n",
    "        #             arrowprops=dict(facecolor='black', shrink=0.05),\n",
    "        #             ha='center')\n",
    "        ax.set_xticks([1,3,5,7,9,11])  # Set x-ticks to match data stages\n",
    "        ax.set_xticklabels([2,4,6,8,10,12])  # Change x-tick labels to range from 1 to 12\n",
    "\n",
    "    \n",
    "    # return melted_corrss_filtered,melted_df_keller\n",
    "\n",
    "    g.set_axis_labels('', '')  # Remove individual axis labels\n",
    "\n",
    "    # Adding a single x-axis and y-axis label for the entire figure\n",
    "    g.fig.text(0.5, 0.04, 'Layer', ha='center', va='center', fontsize=35)\n",
    "    g.fig.text(0.0, 0.5, 'Correlation Coefficient', ha='center', va='center', rotation='vertical', fontsize=35)\n",
    "    g.fig.set_size_inches(25, 15)\n",
    "\n",
    "    g.savefig(figure_name+\"_molformer_trend.pdf\")\n",
    "\n",
    "    return melted_df_keller,melted_df_keller\n",
    "    \n"
   ],
   "outputs": []
  },
  {
   "cell_type": "markdown",
   "metadata": {
    "collapsed": false,
    "jupyter": {
     "outputs_hidden": false
    },
    "pycharm": {
     "name": "#%% md\n"
    }
   },
   "source": [
    "# Extracting Representations"
   ]
  },
  {
   "cell_type": "markdown",
   "metadata": {
    "collapsed": false,
    "jupyter": {
     "outputs_hidden": false
    },
    "pycharm": {
     "name": "#%% md\n"
    }
   },
   "source": [
    "## Keller"
   ]
  },
  {
   "cell_type": "code",
   "execution_count": 19,
   "metadata": {
    "collapsed": false,
    "jupyter": {
     "outputs_hidden": false
    },
    "pycharm": {
     "name": "#%%\n"
    }
   },
   "source": [
    "chemical_features_r=[\"nCIR\",\n",
    "                     \"ZM1\", \n",
    "                     \"GNar\", \n",
    "                     \"S1K\", \n",
    "                     \"piPC08\",\n",
    "                     \"MATS1v\",\n",
    "                     \"MATS7v\",\n",
    "                     \"GATS1v\", \n",
    "                     \"Eig05_AEA(bo)\", \n",
    "                     \"SM02_AEA(bo)\",\n",
    "                     \"SM03_AEA(dm)\",\n",
    "                     \"SM10_AEA(dm)\",\n",
    "                     \"SM13_AEA(dm)\",\n",
    "                      \"SpMin3_Bh(v)\",\n",
    "                     # \"RDF035v\",\n",
    "                     # \"G1m\",\n",
    "                     # \"G1v\",\n",
    "                     # \"G1e\",\n",
    "                     # \"G3s\",\n",
    "                     # \"R8u+\",\n",
    "                     \"nRCOSR\"]"
   ],
   "outputs": []
  },
  {
   "cell_type": "code",
   "execution_count": 20,
   "metadata": {},
   "source": [
    "# df_mse_pom"
   ],
   "outputs": []
  },
  {
   "cell_type": "code",
   "execution_count": 21,
   "metadata": {},
   "source": [
    "# min_max"
   ],
   "outputs": []
  },
  {
   "cell_type": "code",
   "execution_count": 22,
   "metadata": {},
   "source": [
    "# df_corrs_molfomer=pd.read_csv(\"df_\"+ds+\"_corrs_chemical_molfomer.csv\")\n",
    "# df_mse_pom"
   ],
   "outputs": []
  },
  {
   "cell_type": "code",
   "execution_count": 36,
   "metadata": {
    "collapsed": false,
    "jupyter": {
     "outputs_hidden": false
    },
    "pycharm": {
     "name": "#%%\n"
    }
   },
   "source": [
    "ds = 'keller'\n",
    "\n",
    "df_cor_pom=pd.read_csv(\"df_\"+ds+\"_cor_chemical_pom.csv\")\n",
    "df_mse_pom=pd.read_csv(\"df_\"+ds+\"_mse_chemical_pom.csv\")\n",
    "\n",
    "df_corrs_molfomer=pd.read_csv(\"df_\"+ds+\"_corrs_chemical_molfomer.csv\")\n",
    "df_mses_molfomer=pd.read_csv(\"df_\"+ds+\"_mses_chemical_molfomer.csv\")\n",
    "\n",
    "min_max = pd.read_csv(ds+\"_min_max_alva.csv\")\n",
    "df_mses_molfomer=normalize_rmse(df_mses_molfomer,min_max,j=-2)\n",
    "df_mse_pom=normalize_rmse(df_mse_pom,min_max,j=-1)\n",
    "trend_learning_molformer,melted_df_keller =  post_process_dataframe(df_corrs_molfomer,df_mses_molfomer,df_cor_pom,df_mse_pom,chemical_features_r,\"keller_chems\")\n",
    "# trend_learning_molformer['dataset']=ds"
   ],
   "outputs": []
  },
  {
   "cell_type": "code",
   "execution_count": null,
   "metadata": {},
   "source": [],
   "outputs": []
  },
  {
   "cell_type": "code",
   "execution_count": 24,
   "metadata": {
    "collapsed": false,
    "jupyter": {
     "outputs_hidden": false
    },
    "pycharm": {
     "name": "#%%\n"
    }
   },
   "source": [
    "ds = 'ravia'\n",
    "df_cor_pom=pd.read_csv(\"df_\"+ds+\"_cor_chemical_pom.csv\")\n",
    "df_mse_pom=pd.read_csv(\"df_\"+ds+\"_mse_chemical_pom.csv\")\n",
    "\n",
    "df_corrs_molfomer=pd.read_csv(\"df_\"+ds+\"_corrs_chemical_molfomer.csv\")\n",
    "df_mses_molfomer=pd.read_csv(\"df_\"+ds+\"_mses_chemical_molfomer.csv\")\n",
    "min_max = pd.read_csv(ds+\"_min_max_alva.csv\")\n",
    "df_mses_molfomer=normalize_rmse(df_mses_molfomer,min_max,j=-2)\n",
    "df_mse_pom=normalize_rmse(df_mse_pom,min_max,j=-1)\n",
    "\n",
    "trend_learning_molformer,melted_df_keller =  post_process_dataframe(df_corrs_molfomer,df_mses_molfomer,df_cor_pom,df_mse_pom,chemical_features_r,\"ravia_chems\")\n",
    "# trend_learning_molformer['dataset']=ds"
   ],
   "outputs": []
  },
  {
   "cell_type": "code",
   "execution_count": 25,
   "metadata": {
    "collapsed": false,
    "jupyter": {
     "outputs_hidden": false
    },
    "pycharm": {
     "name": "#%%\n"
    }
   },
   "source": [
    "ds = 'snitz'\n",
    "df_cor_pom=pd.read_csv(\"df_\"+ds+\"_cor_chemical_pom.csv\")\n",
    "df_mse_pom=pd.read_csv(\"df_\"+ds+\"_mse_chemical_pom.csv\")\n",
    "\n",
    "df_corrs_molfomer=pd.read_csv(\"df_\"+ds+\"_corrs_chemical_molfomer.csv\")\n",
    "df_mses_molfomer=pd.read_csv(\"df_\"+ds+\"_mses_chemical_molfomer.csv\")\n",
    "min_max = pd.read_csv(ds+\"_min_max_alva.csv\")\n",
    "df_mses_molfomer=normalize_rmse(df_mses_molfomer,min_max,j=-2)\n",
    "df_mse_pom=normalize_rmse(df_mse_pom,min_max,j=-1)\n",
    "\n",
    "trend_learning_molformer,melted_df_keller  =  post_process_dataframe(df_corrs_molfomer,df_mses_molfomer,df_cor_pom,df_mse_pom,chemical_features_r,\"snitz_chems\")\n",
    "trend_learning_molformer['dataset']=ds"
   ],
   "outputs": []
  },
  {
   "cell_type": "code",
   "execution_count": 26,
   "metadata": {},
   "source": [
    "ds = 'sagar'\n",
    "df_cor_pom=pd.read_csv(\"df_\"+ds+\"_cor_chemical_pom.csv\")\n",
    "df_mse_pom=pd.read_csv(\"df_\"+ds+\"_mse_chemical_pom.csv\")\n",
    "\n",
    "df_corrs_molfomer=pd.read_csv(\"df_\"+ds+\"_corrs_chemical_molfomer.csv\")\n",
    "df_mses_molfomer=pd.read_csv(\"df_\"+ds+\"_mses_chemical_molfomer.csv\")\n",
    "min_max = pd.read_csv(ds+\"_min_max_alva.csv\")\n",
    "df_mses_molfomer=normalize_rmse(df_mses_molfomer,min_max,j=-2)\n",
    "df_mse_pom=normalize_rmse(df_mse_pom,min_max,j=-1)\n",
    "trend_learning_molformer,melted_df_keller =  post_process_dataframe(df_corrs_molfomer,df_mses_molfomer,df_cor_pom,df_mse_pom,chemical_features_r,\"sagar_chems\")\n",
    "trend_learning_molformer['dataset']=ds"
   ],
   "outputs": []
  },
  {
   "cell_type": "code",
   "execution_count": 27,
   "metadata": {},
   "source": [
    "ds = 'gslf'\n",
    "df_cor_pom=pd.read_csv(\"df_\"+ds+\"_cor_chemical_pom.csv\")\n",
    "df_mse_pom=pd.read_csv(\"df_\"+ds+\"_mse_chemical_pom.csv\")\n",
    "\n",
    "df_corrs_molfomer=pd.read_csv(\"df_\"+ds+\"_corrs_chemical_molfomer.csv\")\n",
    "df_mses_molfomer=pd.read_csv(\"df_\"+ds+\"_mses_chemical_molfomer.csv\")\n",
    "min_max = pd.read_csv(ds+\"_min_max_alva.csv\")\n",
    "df_mses_molfomer=normalize_rmse(df_mses_molfomer,min_max,j=-2)\n",
    "df_mse_pom=normalize_rmse(df_mse_pom,min_max,j=-1)\n",
    "trend_learning_molformer,melted_df_keller =  post_process_dataframe(df_corrs_molfomer,df_mses_molfomer,df_cor_pom,df_mse_pom,chemical_features_r,\"gslf_chems\")\n",
    "trend_learning_molformer['dataset']=ds"
   ],
   "outputs": []
  },
  {
   "cell_type": "code",
   "execution_count": 37,
   "metadata": {},
   "source": [
    "ds = 'all'\n",
    "df_cor_pom=pd.read_csv(\"df_\"+ds+\"_cor_chemical_pom.csv\")\n",
    "df_mse_pom=pd.read_csv(\"df_\"+ds+\"_mse_chemical_pom.csv\")\n",
    "\n",
    "df_corrs_molfomer=pd.read_csv(\"df_\"+ds+\"_corrs_chemical_molfomer.csv\")\n",
    "df_mses_molfomer=pd.read_csv(\"df_\"+ds+\"_mses_chemical_molfomer.csv\")\n",
    "min_max = pd.read_csv(ds+\"_min_max_alva.csv\")\n",
    "df_mses_molfomer=normalize_rmse(df_mses_molfomer,min_max,j=-2)\n",
    "df_mse_pom=normalize_rmse(df_mse_pom,min_max,j=-1)\n",
    "trend_learning_molformer,melted_df_keller =  post_process_dataframe(df_corrs_molfomer,df_mses_molfomer,df_cor_pom,df_mse_pom,chemical_features_r,\"all_chems\")\n",
    "trend_learning_molformer['dataset']=ds"
   ],
   "outputs": []
  },
  {
   "cell_type": "code",
   "execution_count": null,
   "metadata": {},
   "source": [],
   "outputs": []
  }
 ],
 "metadata": {
  "kernelspec": {
   "display_name": "Python 3 (ipykernel)",
   "language": "python",
   "name": "python3"
  },
  "language_info": {
   "codemirror_mode": {
    "name": "ipython",
    "version": 3
   },
   "file_extension": ".py",
   "mimetype": "text/x-python",
   "name": "python",
   "nbconvert_exporter": "python",
   "pygments_lexer": "ipython3",
   "version": "3.9.18"
  },
  "toc-autonumbering": true,
  "toc-showmarkdowntxt": true
 },
 "nbformat": 4,
 "nbformat_minor": 4
}

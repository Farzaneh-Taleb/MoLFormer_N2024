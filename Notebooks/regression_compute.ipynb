{
 "cells": [
  {
   "cell_type": "markdown",
   "metadata": {
    "pycharm": {
     "name": "#%% md\n"
    },
    "tags": []
   },
   "source": [
    "# Load checkpoint and imports"
   ]
  },
  {
   "metadata": {
    "ExecuteTime": {
     "end_time": "2024-08-04T12:49:41.794111Z",
     "start_time": "2024-08-04T12:49:41.790806Z"
    }
   },
   "cell_type": "code",
   "source": "print(10)",
   "outputs": [
    {
     "name": "stdout",
     "output_type": "stream",
     "text": [
      "10\n"
     ]
    }
   ],
   "execution_count": 1
  },
  {
   "cell_type": "code",
   "metadata": {
    "pycharm": {
     "name": "#%%\n"
    },
    "ExecuteTime": {
     "end_time": "2024-08-04T12:49:41.797909Z",
     "start_time": "2024-08-04T12:49:41.795581Z"
    }
   },
   "source": [
    "import sys\n",
    "import warnings\n",
    "warnings.filterwarnings('ignore')\n",
    "# !{sys.executable} -m pip i\\nstall seaborn"
   ],
   "outputs": [],
   "execution_count": 2
  },
  {
   "metadata": {
    "ExecuteTime": {
     "end_time": "2024-08-04T12:49:41.802150Z",
     "start_time": "2024-08-04T12:49:41.799597Z"
    }
   },
   "cell_type": "code",
   "source": [
    "# parent_dir = \"/Midgard/home/farzantn/phd/Olfaction/MoLFormer_N2024\"\n",
    "parent_dir=\"/Volumes/work/phd/MoLFormer_N2024\"\n",
    "\n",
    "sys.path.append(parent_dir)\n",
    "parent_dir=\"/Midgard/home/farzantn/mambaforge/envs/MolTran_CUDA11_cuda/lib/python3.8\"\n",
    "sys.path.append(parent_dir)"
   ],
   "outputs": [],
   "execution_count": 3
  },
  {
   "cell_type": "code",
   "metadata": {
    "collapsed": false,
    "jupyter": {
     "outputs_hidden": false
    },
    "pycharm": {
     "name": "#%%\n"
    },
    "ExecuteTime": {
     "end_time": "2024-08-04T12:57:10.737577Z",
     "start_time": "2024-08-04T12:57:10.724142Z"
    }
   },
   "source": [
    "import pandas as pd\n",
    "import numpy as np\n",
    "from sklearn.model_selection import cross_validate,train_test_split\n",
    "import ast\n",
    "from sklearn.metrics import roc_auc_score, mean_squared_error\n",
    "import scipy\n",
    "\n",
    "# base_path = '/local_storage/datasets/farzaneh/alignment_olfaction_datasets/'\n",
    "base_path = '../../../../T5 EVO/alignment_olfaction_datasets/'\n",
    "from utils.util_alignment import set_seeds,grand_average,average_over_subject,post_process_results_df\n",
    "from utils.prepare_datasets import prepare_dataset,select_features\n",
    "from utils.helper_methods import custom_linear_regression,pipeline_regression,metrics_per_descritor\n",
    "from constants import *"
   ],
   "outputs": [],
   "execution_count": 17
  },
  {
   "cell_type": "code",
   "metadata": {
    "pycharm": {
     "name": "#%%\n"
    },
    "ExecuteTime": {
     "end_time": "2024-08-04T12:49:42.291168Z",
     "start_time": "2024-08-04T12:49:42.288543Z"
    }
   },
   "source": [
    "seed= 2024\n",
    "set_seeds(seed)"
   ],
   "outputs": [],
   "execution_count": 5
  },
  {
   "cell_type": "code",
   "metadata": {
    "collapsed": false,
    "jupyter": {
     "outputs_hidden": false
    },
    "pycharm": {
     "name": "#%%\n"
    },
    "ExecuteTime": {
     "end_time": "2024-08-04T12:49:42.294832Z",
     "start_time": "2024-08-04T12:49:42.292666Z"
    }
   },
   "source": [
    "times=30\n",
    "n_components=20"
   ],
   "outputs": [],
   "execution_count": 6
  },
  {
   "cell_type": "markdown",
   "metadata": {
    "collapsed": false,
    "jupyter": {
     "outputs_hidden": false
    },
    "pycharm": {
     "name": "#%% md\n"
    }
   },
   "source": [
    "# Helper Methods"
   ]
  },
  {
   "cell_type": "code",
   "metadata": {
    "collapsed": false,
    "jupyter": {
     "outputs_hidden": false
    },
    "pycharm": {
     "name": "#%%\n"
    },
    "ExecuteTime": {
     "end_time": "2024-08-04T12:49:42.604614Z",
     "start_time": "2024-08-04T12:49:42.602138Z"
    }
   },
   "source": [
    "# def literal_eval_list(list_string):\n",
    "#     list_string_temp=list_string.values.tolist()\n",
    "#     list_string_all = []\n",
    "#     for value in list_string_temp:\n",
    "#         list_string_all.append(ast.literal_eval(value))\n",
    "#     \n",
    "#     list_numpy = np.asarray(list_string_all)\n",
    "#     return list_numpy\n"
   ],
   "outputs": [],
   "execution_count": 7
  },
  {
   "metadata": {
    "ExecuteTime": {
     "end_time": "2024-08-04T12:49:42.784409Z",
     "start_time": "2024-08-04T12:49:42.782219Z"
    }
   },
   "cell_type": "code",
   "source": "",
   "outputs": [],
   "execution_count": 7
  },
  {
   "metadata": {
    "ExecuteTime": {
     "end_time": "2024-08-04T12:49:42.967252Z",
     "start_time": "2024-08-04T12:49:42.965207Z"
    }
   },
   "cell_type": "code",
   "source": "",
   "outputs": [],
   "execution_count": 7
  },
  {
   "cell_type": "code",
   "metadata": {
    "collapsed": false,
    "jupyter": {
     "outputs_hidden": false
    },
    "pycharm": {
     "name": "#%%\n"
    },
    "ExecuteTime": {
     "end_time": "2024-08-04T12:49:43.157812Z",
     "start_time": "2024-08-04T12:49:43.156068Z"
    }
   },
   "source": [
    "\n",
    "    \n",
    "    "
   ],
   "outputs": [],
   "execution_count": 7
  },
  {
   "cell_type": "code",
   "metadata": {
    "collapsed": false,
    "jupyter": {
     "outputs_hidden": false
    },
    "pycharm": {
     "name": "#%%\n"
    },
    "ExecuteTime": {
     "end_time": "2024-08-04T12:49:43.307950Z",
     "start_time": "2024-08-04T12:49:43.306094Z"
    }
   },
   "source": "",
   "outputs": [],
   "execution_count": 7
  },
  {
   "metadata": {
    "ExecuteTime": {
     "end_time": "2024-08-04T12:49:43.473912Z",
     "start_time": "2024-08-04T12:49:43.468804Z"
    }
   },
   "cell_type": "code",
   "source": [
    "def train_and_eval(data_groupbyCID,times,n_components=None):\n",
    "    mserrorrs_corssvalidated = []\n",
    "    correlations_corssvalidated = []\n",
    "    predicteds = []\n",
    "    y_tests = []\n",
    "    runs = []\n",
    "    CIDs = []\n",
    "    \n",
    "    X=np.asarray(data_groupbyCID.embeddings.values.tolist())\n",
    "    \n",
    "    y=np.asarray(data_groupbyCID.y.values.tolist())\n",
    "    # varss=[]\n",
    "    for i in range(times):\n",
    "        X_train, X_test, y_train, y_test,CID_train, CID_test = train_test_split(X, y,data_groupbyCID.CID, test_size=0.2, random_state=seed+i) \n",
    "        linreg,X_test,var = pipeline_regression(X_train,y_train,X_test,custom_linear_regression,seed,n_components=n_components)\n",
    "        \n",
    "        \n",
    "        predicted, mseerrors, correlations=metrics_per_descritor(X_test,y_test,linreg)\n",
    "        mserrorrs_corssvalidated.append(mseerrors)\n",
    "        correlations_corssvalidated.append(correlations)\n",
    "        predicteds.extend(predicted)\n",
    "        y_tests.extend(y_test)\n",
    "        runs.extend([i]*len(y_test))\n",
    "        CIDs.extend(CID_test)\n",
    "        \n",
    "        \n",
    "    return CIDs,predicteds,y_tests,runs,mserrorrs_corssvalidated, correlations_corssvalidated"
   ],
   "outputs": [],
   "execution_count": 8
  },
  {
   "cell_type": "code",
   "metadata": {
    "ExecuteTime": {
     "end_time": "2024-08-04T12:49:43.646425Z",
     "start_time": "2024-08-04T12:49:43.641262Z"
    }
   },
   "source": [
    "def min_max_extraction(data_groupbyCID,times,y_i=None):\n",
    "    min_max_dfs = []\n",
    "    X=np.asarray(data_groupbyCID.embeddings.values.tolist())\n",
    "    if y_i is not None:\n",
    "        y=np.asarray(data_groupbyCID.y.values.tolist())[:,y_i].reshape(-1,1)\n",
    "    else:\n",
    "       y=np.asarray(data_groupbyCID.y.values.tolist())\n",
    "    for i in range(times):\n",
    "        \n",
    "        X_train, X_test, y_train, y_test = train_test_split(X, y, test_size=0.2, random_state=seed+i)  \n",
    "        # print(X_train.shape,\"x shape\")\n",
    "        # print(y_train.shape,\"y shape\")\n",
    "        df = pd.DataFrame(y_test)\n",
    "\n",
    "        # Step 3: Extract the min and max values for each column\n",
    "        min_values = df.min()\n",
    "        max_values = df.max()\n",
    "\n",
    "       # Create DataFrames for min and max values with an additional column for the label\n",
    "        min_df = pd.DataFrame(min_values).T\n",
    "        min_df['Type'] = 'Min'\n",
    "    \n",
    "        max_df = pd.DataFrame(max_values).T\n",
    "        max_df['Type'] = 'Max'\n",
    "    \n",
    "        # Concatenate the min and max DataFrames\n",
    "        min_max_df = pd.concat([min_df, max_df])\n",
    "        min_max_df['Dataset'] = i\n",
    "    \n",
    "        # Append the concatenated DataFrame to the lis\n",
    "    \n",
    "        # Append the min_max_df to the list\n",
    "        min_max_dfs.append(min_max_df)\n",
    "    \n",
    "    final_df = pd.concat(min_max_dfs)   \n",
    "        # Step 4: Create a new DataFrame with the min and max values per column\n",
    "    final_df.set_index(['Dataset', 'Type'], inplace=True)\n",
    "    return final_df\n",
    "    # min_max_df = pd.DataFrame([min_values, max_values], index=['Min', 'Max'])\n",
    "        \n"
   ],
   "outputs": [],
   "execution_count": 9
  },
  {
   "cell_type": "code",
   "metadata": {
    "collapsed": false,
    "jupyter": {
     "outputs_hidden": false
    },
    "pycharm": {
     "name": "#%%\n"
    },
    "ExecuteTime": {
     "end_time": "2024-08-04T12:49:43.814697Z",
     "start_time": "2024-08-04T12:49:43.807585Z"
    }
   },
   "source": [
    "def pipeline(model_name,input_file,input_file_alva=None,times=30,n_components=None,ds=\"keller\",count=False):\n",
    "    df_predictions,df_df_mse, df_df_cor = None,None,None\n",
    "    \n",
    "    # input_file_keller = base_path+'openpom/data/curated_datasets/embeddings/molformer/keller_molformer_embeddings_13_Apr17.csv'\n",
    "    df=pd.read_csv(input_file)\n",
    "    df=prepare_dataset(df,'embeddings','y')\n",
    "    df_groupbyCID=grand_average(df,ds)\n",
    "    df_groupbyCIDSubject=average_over_subject(df,ds)\n",
    "    \n",
    "    \n",
    "\n",
    "    if input_file_alva is not None:\n",
    "        \n",
    "        df_alva = select_features(input_file_alva)\n",
    "        df_alva = df_alva.drop_duplicates(subset=['CID'])\n",
    "        del df_groupbyCID['embeddings']\n",
    "        df_groupbyCID= pd.merge(df_alva,df_groupbyCID,on=\"CID\")\n",
    "    \n",
    "        \n",
    "    \n",
    "    if count:\n",
    "        min_max_df=min_max_extraction(df_groupbyCID,times)\n",
    "        return min_max_df\n",
    "    else:\n",
    "        CIDs, predicteds, y_tests,runs, mserrorrs_df_corssvalidated, correlations_df_corssvalidated=train_and_eval(df_groupbyCID,times=times,n_components=n_components)\n",
    "   \n",
    "    mserrorrs_corssvalidated_df,statistics_correlations_corssvalidated_df,pvalues_correlations_corssvalidated_df=post_process_results_df(mserrorrs_df_corssvalidated, correlations_df_corssvalidated)\n",
    "    df_df_mse= pd.DataFrame(mserrorrs_corssvalidated_df)\n",
    "    # df_df_mse = df_df_mse.T\n",
    "    df_df_mse['model'] = model_name\n",
    "    df_df_cor= pd.DataFrame(statistics_correlations_corssvalidated_df)\n",
    "    df_df_cor['model'] = model_name\n",
    "    print(np.asarray(predicteds).shape,np.asarray(y_tests).shape, np.asarray(runs).shape, np.asarray(CIDs).shape)\n",
    "\n",
    "    # I want to make a dataframe with the predicted values, the true values and the run number for each prediction, (192, 22) (192, 22) (192,) should be converted to (196, 22+22+1), \n",
    "    df_predictions = pd.DataFrame(np.concatenate([np.asarray(CIDs).reshape(-1,1),np.asarray(predicteds),np.asarray(y_tests),np.asarray(runs).reshape(-1,1)],axis=1))\n",
    "    df_predictions['model'] = model_name\n",
    "    #and add a prefix to the columns to indicate the predicted vs true values\n",
    "    tasks_length = len(sagar_tasks) if ds.startswith('sagar') else len(keller_tasks)\n",
    "    df_predictions.columns = ['CID']+[str(i)+'_predicted' for i in range(tasks_length)]+[str(i)+'_true' for i in range(tasks_length,int(tasks_length*2))]+['run']+['model']\n",
    "    \n",
    "    \n",
    "    return df_predictions,df_df_mse, df_df_cor"
   ],
   "outputs": [],
   "execution_count": 10
  },
  {
   "cell_type": "code",
   "metadata": {
    "collapsed": false,
    "jupyter": {
     "outputs_hidden": false
    },
    "pycharm": {
     "name": "#%%\n"
    },
    "ExecuteTime": {
     "end_time": "2024-08-04T12:49:44.108911Z",
     "start_time": "2024-08-04T12:49:44.104213Z"
    }
   },
   "source": [
    "def compute_correlation(times,n_components,input_file_molformer,input_file_pom,input_file_alva,input_file_molformerfinetuned,ds=\"keller\"):\n",
    "    df_keller_cor_pom, df_keller_mse_pom, df_keller_cor_alva, df_keller_mse_alva, df_predictions_pom,df_predictions_alva = None,None,None,None,None,None\n",
    "    \n",
    "    # print(\"pom\")\n",
    "    # df_predictions_pom, df_keller_mse_pom, df_keller_cor_pom = pipeline('pom',input_file_pom,times=times,n_components=n_components,ds=ds)\n",
    "    #\n",
    "    print(\"alva\")\n",
    "    df_predictions_alva,df_keller_mse_alva, df_keller_cor_alva = pipeline('alva',input_file_pom,input_file_alva,times=times,n_components=None,ds=ds)\n",
    "    # \n",
    "    corrs_molformer=[]\n",
    "    corrs_molformerfinetuned = [] \n",
    "    # \n",
    "    mses_molformer=[]\n",
    "    mses_molformerfinetuned=[]\n",
    "    # \n",
    "    \n",
    "    df_predictions_molformers=[]\n",
    "    df_predictions_molformerfinetuneds=[]\n",
    "\n",
    "    # for i in [0,1,2,3,4,5,6,7,8,9,10,11,13]:\n",
    "    # # for i in [13]:\n",
    "    # \n",
    "    # # for i in [0,1]:\n",
    "    #     print(\"molformer\")\n",
    "    #     input_file_keller_molformer = input_file_molformer+str(i)+'_Apr17.csv'\n",
    "    #     df_predictions_molformer,df_keller_mse_molformer, df_keller_cor_molformer = pipeline('molformer',input_file_keller_molformer,times=times,n_components=n_components,ds=ds)\n",
    "    #     # df_predictions_molformer['layer'] = i\n",
    "    #     # corrs_molformer.append(df_keller_cor_molformer)\n",
    "    #     # mses_molformer.append(df_keller_mse_molformer)\n",
    "    #     # df_predictions_molformers.append(df_predictions_molformer)\n",
    "    # \n",
    "    # \n",
    "    #     print(\"molformerfinetuned\")\n",
    "    #     input_file_keller_molformerfinetuned = input_file_molformerfinetuned+str(i)+'_model_1_Apr17.csv'\n",
    "    # \n",
    "    # \n",
    "    #     df_predictions_molformerfinetuned,df_keller_mse_molformerfinetuned, df_keller_cor_molformerfinetuned = pipeline('molformerfinetuned',input_file_keller_molformerfinetuned,times=times,n_components=n_components,ds=ds)\n",
    "    #     # df_predictions_molformerfinetuned['layer'] = i\n",
    "    #     # print(\"df_keller_molformer\", df_keller_cor_molformerfinetuned.columns.values.tolist())\n",
    "    #     # corrs_molformerfinetuned.append(df_keller_cor_molformerfinetuned)\n",
    "    #     # mses_molformerfinetuned.append(df_keller_mse_molformerfinetuned)\n",
    "    #     # df_predictions_molformerfinetuneds.append(df_predictions_molformerfinetuned)\n",
    "    \n",
    "       \n",
    "\n",
    "    # df_predictions_pom['layer'] = 13\n",
    "    # df_predictions_alva['layer'] = 13\n",
    "\n",
    "    return corrs_molformer,mses_molformer,df_keller_cor_pom,df_keller_mse_pom,df_keller_cor_alva,df_keller_mse_alva,corrs_molformerfinetuned,mses_molformerfinetuned,df_predictions_molformers,df_predictions_pom,df_predictions_alva,df_predictions_molformerfinetuneds"
   ],
   "outputs": [],
   "execution_count": 11
  },
  {
   "cell_type": "code",
   "metadata": {
    "ExecuteTime": {
     "end_time": "2024-08-04T12:49:44.215845Z",
     "start_time": "2024-08-04T12:49:44.212268Z"
    }
   },
   "source": [
    "def count_df_x_keller(times , ds=\"keller\"):\n",
    "\n",
    "    # for i in [0,13]:\n",
    "    if ds==\"keller\":\n",
    "        input_file_keller_molformer = base_path+'curated_datasets/embeddings/molformer/keller_molformer_embeddings_'+str(13)+'_Apr17.csv'\n",
    "        min_max_df = pipeline('molformer',input_file_keller_molformer,times=times,n_components=n_components,count=True)\n",
    "    elif ds==\"sagar\":\n",
    "        input_file_sagar_molformer = base_path+'curated_datasets/embeddings/molformer/sagar_molformer_embeddings_'+str(13)+'_Apr17.csv'\n",
    "        min_max_df = pipeline('molformer',input_file_sagar_molformer,times=times,n_components=n_components,ds=\"sagar\",count=True)\n",
    "\n",
    "\n",
    "\n",
    "\n",
    "    return min_max_df"
   ],
   "outputs": [],
   "execution_count": 12
  },
  {
   "cell_type": "code",
   "metadata": {
    "collapsed": false,
    "jupyter": {
     "outputs_hidden": false
    },
    "pycharm": {
     "name": "#%%\n"
    },
    "ExecuteTime": {
     "end_time": "2024-08-04T12:49:44.384152Z",
     "start_time": "2024-08-04T12:49:44.379983Z"
    }
   },
   "source": [
    "def post_process_tocsv(corrs,tasks,title):\n",
    "    corrs[0][\"layer\"]=0\n",
    "    corrss = corrs[0]\n",
    "    for i in range(1,13):\n",
    "        corrs[i][\"layer\"] = i\n",
    "        corrss  = pd.concat([corrss, corrs[i]])\n",
    "        print(\"i\", i )\n",
    "    del corrss['model']\n",
    "    print(corrss.columns.values.tolist(),\"columns\")\n",
    "    corrss.columns = tasks+[\"layer\"]    \n",
    "    corrss['model']=title\n",
    "    return corrss"
   ],
   "outputs": [],
   "execution_count": 13
  },
  {
   "cell_type": "code",
   "metadata": {
    "collapsed": false,
    "jupyter": {
     "outputs_hidden": false
    },
    "pycharm": {
     "name": "#%%\n"
    },
    "ExecuteTime": {
     "end_time": "2024-08-04T13:34:10.401041Z",
     "start_time": "2024-08-04T13:34:10.352783Z"
    }
   },
   "source": [
    "def save_data(ds,df_cor_pom,df_cor_alva,df_mse_pom,df_mse_alva,corrs_molfomer,mses_molformer, corrs_molfomerfinetuned,mses_molfomerfinetuned):\n",
    "    if ds==\"keller\":\n",
    "        tasks= keller_tasks\n",
    "    elif ds==\"sagar\":\n",
    "        tasks= sagar_tasks\n",
    "    else:\n",
    "        raise ValueError(\"Invalid dataset\")\n",
    "    \n",
    "    # df_cor_pom.columns = tasks+[\"model\"]\n",
    "    # df_cor_pom.to_csv('df_'+ds+'_cor_pom.csv', index=False)  \n",
    "    # \n",
    "    # df_mse_pom.columns  = tasks+[\"model\"]\n",
    "    # df_mse_pom.to_csv('df_'+ds+'_mse_pom.csv', index=False)  \n",
    "    # \n",
    "    df_cor_alva.columns = tasks+[\"model\"]\n",
    "    df_cor_alva.to_csv('df_'+ds+'_cor_alvanotnan.csv', index=False)\n",
    "\n",
    "    df_mse_alva.columns = tasks+[\"model\"]\n",
    "    df_mse_alva.to_csv('df_'+ds+'_mse_alvanotnan.csv', index=False)\n",
    "    # \n",
    "    # corrs_molfomer_df = post_process_tocsv(corrs_molfomer,tasks)\n",
    "    # corrs_molfomer_df.to_csv('df_'+ds+'_corrs_molfomer.csv', index=False)   \n",
    "    # \n",
    "    # mses_molformer_df = post_process_tocsv(mses_molformer,tasks)\n",
    "    # mses_molformer_df.to_csv('df_'+ds+'_mses_molfomer.csv', index=False)   \n",
    "    # \n",
    "    # corrs_molfomer_df = post_process_tocsv(corrs_molfomer,tasks)\n",
    "    # corrs_molfomer_df.to_csv('df_'+ds+'_corrs_molfomer.csv', index=False)   \n",
    "    # \n",
    "    # mses_molformer_df = post_process_tocsv(mses_molformer,tasks)\n",
    "    # mses_molformer_df.to_csv('df_'+ds+'_mses_molfomer.csv', index=False)\n",
    "\n",
    "\n",
    "    # \n",
    "    # df_cor_alva.columns = tasks+[\"model\"]\n",
    "    # df_cor_alva.to_csv('df_'+ds+'_cor_mordred.csv', index=False)\n",
    "    # \n",
    "    # df_mse_alva.columns = tasks+[\"model\"]\n",
    "    # df_mse_alva.to_csv('df_'+ds+'_mse_mordred.csv', index=False)\n",
    "\n",
    "    # corrs_molfomerfinetuned_df = post_process_tocsv(corrs_molfomerfinetuned,tasks,\"molformerfinetuned\")\n",
    "    # corrs_molfomerfinetuned_df.to_csv('df_'+ds+'_corrs_molfomerfinetuned.csv', index=False)   \n",
    "    # \n",
    "    # mses_molfomerfinetuned_df = post_process_tocsv(mses_molfomerfinetuned,tasks,\"molformerfinetuned\")\n",
    "    # mses_molfomerfinetuned_df.to_csv('df_'+ds+'_mses_molfomerfinetuned.csv', index=False)   "
   ],
   "outputs": [],
   "execution_count": 19
  },
  {
   "metadata": {
    "ExecuteTime": {
     "end_time": "2024-08-04T12:49:44.902177Z",
     "start_time": "2024-08-04T12:49:44.899996Z"
    }
   },
   "cell_type": "code",
   "source": "",
   "outputs": [],
   "execution_count": 14
  },
  {
   "metadata": {
    "ExecuteTime": {
     "end_time": "2024-08-04T12:49:45.346804Z",
     "start_time": "2024-08-04T12:49:45.343465Z"
    }
   },
   "cell_type": "code",
   "source": [
    "def concat_dfs(df_predictions_molformers,df_predictions_pom,df_predictions_alva):\n",
    "    df_predictions = pd.concat([df_predictions_molformers[0],df_predictions_molformers[1],df_predictions_molformers[2],df_predictions_molformers[3],df_predictions_molformers[4],df_predictions_molformers[5],df_predictions_molformers[6],df_predictions_molformers[7],df_predictions_molformers[8],df_predictions_molformers[9],df_predictions_molformers[10],df_predictions_molformers[11],df_predictions_molformers[12],df_predictions_pom,df_predictions_alva])\n",
    "    return df_predictions"
   ],
   "outputs": [],
   "execution_count": 15
  },
  {
   "cell_type": "markdown",
   "metadata": {
    "collapsed": false,
    "jupyter": {
     "outputs_hidden": false
    },
    "pycharm": {
     "name": "#%% md\n"
    }
   },
   "source": [
    "# Extracting Representations"
   ]
  },
  {
   "cell_type": "markdown",
   "metadata": {
    "collapsed": false,
    "jupyter": {
     "outputs_hidden": false
    },
    "pycharm": {
     "name": "#%% md\n"
    }
   },
   "source": [
    "## Keller"
   ]
  },
  {
   "cell_type": "markdown",
   "metadata": {},
   "source": [
    "### Representations"
   ]
  },
  {
   "cell_type": "code",
   "metadata": {
    "collapsed": false,
    "jupyter": {
     "outputs_hidden": false
    },
    "pycharm": {
     "name": "#%%\n"
    },
    "ExecuteTime": {
     "end_time": "2024-08-04T12:58:08.663766Z",
     "start_time": "2024-08-04T12:57:15.677672Z"
    }
   },
   "source": [
    "input_file_keller_pom = base_path+'curated_datasets/embeddings/pom/keller_pom_embeddings_Apr17.csv'\n",
    "input_file_keller_dam = base_path+'curated_datasets/alva/keller_molecules_alva_17Apr.csv'\n",
    "# input_file_keller_dam_mordred = base_path+'curated_datasets/mordred/keller_molecules_mordred_17Apr.csv'\n",
    "input_file_keller_molformer = base_path+'curated_datasets/embeddings/molformer/keller_molformer_embeddings_'\n",
    "input_file_keller_molformerfinetuned = base_path+'curated_datasets/embeddings/molformerfinetuned/keller_molformerfinetuned_embeddings_'\n",
    "corrs_molfomer,mses_molformer,df_keller_cor_pom,df_keller_mse_pom,df_keller_cor_alva,df_keller_mse_alva,df_keller_cor_molformerfinetuned,df_keller_mse_molformerfinetuned,df_predictions_molformers,df_predictions_pom,df_predictions_alva,df_predictions_molformerfinetuned =compute_correlation(times, n_components,input_file_keller_molformer,input_file_keller_pom,input_file_keller_dam,input_file_keller_molformerfinetuned,ds=\"keller2\")\n",
    "# pd.read_csv(input_file_keller_molformerfinetuned+str(0)+'_model_1_Apr17.csv')\n",
    " "
   ],
   "outputs": [
    {
     "name": "stdout",
     "output_type": "stream",
     "text": [
      "alva\n",
      "(480, 17)\n",
      "(2880, 22) (2880, 22) (2880,) (2880,)\n"
     ]
    }
   ],
   "execution_count": 18
  },
  {
   "metadata": {
    "ExecuteTime": {
     "end_time": "2024-08-04T12:48:22.111646Z",
     "start_time": "2024-08-04T12:48:21.625484Z"
    }
   },
   "cell_type": "code",
   "source": "pd.read_csv(input_file_keller_dam)",
   "outputs": [
    {
     "data": {
      "text/plain": [
       "     Unnamed: 0                                  IsomericSMILES  \\\n",
       "0             0                               C1=CC(=CC=C1C=O)O   \n",
       "1            34                                         CC(=O)O   \n",
       "2            46                                            CC=O   \n",
       "3            69                                         CC(=O)C   \n",
       "4            93                              C(CCC(=O)O)CC(=O)O   \n",
       "..          ...                                             ...   \n",
       "475       14968       C/C=C/C1=CC(=C(C=C1)OC(=O)CC2=CC=CC=C2)OC   \n",
       "476       15011                         C/C=C(/C=O)\\C1=CC=CC=C1   \n",
       "477       15024                             CCCCOC(=O)[C@H](C)O   \n",
       "478       15048  C[C@]12CCCC([C@@H]1CC[C@@]3([C@@H]2CCO3)C)(C)C   \n",
       "479       15091                       CC/C=C\\CCOC(=O)/C(=C\\C)/C   \n",
       "\n",
       "                       nonStereoSMILES       CID  nonStereoSMILES___MW  \\\n",
       "0                       O=Cc1ccc(O)cc1       126                122.13   \n",
       "1                              CC(=O)O       176                 60.06   \n",
       "2                                 CC=O       177                 44.06   \n",
       "3                              CC(C)=O       180                 58.09   \n",
       "4                     O=C(O)CCCCC(=O)O       196                146.16   \n",
       "..                                 ...       ...                   ...   \n",
       "475  CC=Cc1ccc(OC(=O)Cc2ccccc2)c(OC)c1   6114390                282.36   \n",
       "476                  CC=C(C=O)c1ccccc1   6429333                146.20   \n",
       "477                    CCCCOC(=O)C(C)O   6999977                146.21   \n",
       "478      CC1(C)CCCC2(C)C1CCC1(C)OCCC12  10857465                236.44   \n",
       "479               CC=C(C)C(=O)OCCC=CCC  16220109                182.29   \n",
       "\n",
       "     nonStereoSMILES___AMW  nonStereoSMILES___Sv  nonStereoSMILES___Se  \\\n",
       "0                 8.142000               10.0100               15.3054   \n",
       "1                 7.507500                4.4832                8.4218   \n",
       "2                 6.294286                3.7684                7.0945   \n",
       "3                 5.809000                5.2952                9.9781   \n",
       "4                 7.308000               11.4932               20.7272   \n",
       "..                     ...                   ...                   ...   \n",
       "475               7.240000               24.8856               38.9343   \n",
       "476               6.961905               13.3488               20.7453   \n",
       "477               6.092083               12.8320               24.1671   \n",
       "478               5.254222               24.0900               43.6977   \n",
       "479               5.880323               17.1708               30.6070   \n",
       "\n",
       "     nonStereoSMILES___Sp  nonStereoSMILES___Si  ...  \\\n",
       "0                 10.1932               16.6644  ...   \n",
       "1                  4.4318                9.2492  ...   \n",
       "2                  3.9773                8.0398  ...   \n",
       "3                  5.7387               11.4550  ...   \n",
       "4                 11.6250               22.9136  ...   \n",
       "..                    ...                   ...  ...   \n",
       "475               26.2161               43.3650  ...   \n",
       "476               14.2615               23.2854  ...   \n",
       "477               13.6933               27.5346  ...   \n",
       "478               27.1141               51.0222  ...   \n",
       "479               18.7616               35.1556  ...   \n",
       "\n",
       "     nonStereoSMILES___s1_numAroBonds  nonStereoSMILES___s2_numAroBonds  \\\n",
       "0                                 0.0                               0.0   \n",
       "1                                 0.0                               0.0   \n",
       "2                                 0.0                               0.0   \n",
       "3                                 0.0                               0.0   \n",
       "4                                 0.0                               0.0   \n",
       "..                                ...                               ...   \n",
       "475                               0.0                               0.0   \n",
       "476                               0.0                               0.0   \n",
       "477                               0.0                               0.0   \n",
       "478                               0.0                               0.0   \n",
       "479                               0.0                               0.0   \n",
       "\n",
       "     nonStereoSMILES___s3_numAroBonds  nonStereoSMILES___s4_numAroBonds  \\\n",
       "0                                 0.0                               0.0   \n",
       "1                                 0.0                               0.0   \n",
       "2                                 0.0                               0.0   \n",
       "3                                 0.0                               0.0   \n",
       "4                                 0.0                               0.0   \n",
       "..                                ...                               ...   \n",
       "475                               0.0                               0.0   \n",
       "476                               0.0                               0.0   \n",
       "477                               0.0                               0.0   \n",
       "478                               0.0                               0.0   \n",
       "479                               0.0                               0.0   \n",
       "\n",
       "     nonStereoSMILES___s34_size  nonStereoSMILES___s34_relSize  \\\n",
       "0                           0.0                       0.000000   \n",
       "1                           0.0                       0.000000   \n",
       "2                           0.0                       0.000000   \n",
       "3                           0.0                       0.000000   \n",
       "4                           0.0                       0.000000   \n",
       "..                          ...                            ...   \n",
       "475                         0.0                       0.000000   \n",
       "476                         0.0                       0.000000   \n",
       "477                         8.0                       0.800000   \n",
       "478                        13.0                       0.764706   \n",
       "479                         0.0                       0.000000   \n",
       "\n",
       "     nonStereoSMILES___s34_phSize  nonStereoSMILES___s34_phRelSize  \\\n",
       "0                           0.000                         0.000000   \n",
       "1                           0.000                         0.000000   \n",
       "2                           0.000                         0.000000   \n",
       "3                           0.000                         0.000000   \n",
       "4                           0.000                         0.000000   \n",
       "..                            ...                              ...   \n",
       "475                         0.000                         0.000000   \n",
       "476                         0.000                         0.000000   \n",
       "477                         3.000                         0.300000   \n",
       "478                         0.625                         0.036765   \n",
       "479                         0.000                         0.000000   \n",
       "\n",
       "     nonStereoSMILES___chiralMoment  nonStereoSMILES___chiralPhMoment  \n",
       "0                          0.000000                          0.000000  \n",
       "1                          0.000000                          0.000000  \n",
       "2                          0.000000                          0.000000  \n",
       "3                          0.000000                          0.000000  \n",
       "4                          0.000000                          0.000000  \n",
       "..                              ...                               ...  \n",
       "475                        0.000000                          0.000000  \n",
       "476                        0.000000                          0.000000  \n",
       "477                       11.090537                          3.316625  \n",
       "478                       11.615970                          1.549038  \n",
       "479                        0.000000                          0.000000  \n",
       "\n",
       "[480 rows x 5670 columns]"
      ],
      "text/html": [
       "<div>\n",
       "<style scoped>\n",
       "    .dataframe tbody tr th:only-of-type {\n",
       "        vertical-align: middle;\n",
       "    }\n",
       "\n",
       "    .dataframe tbody tr th {\n",
       "        vertical-align: top;\n",
       "    }\n",
       "\n",
       "    .dataframe thead th {\n",
       "        text-align: right;\n",
       "    }\n",
       "</style>\n",
       "<table border=\"1\" class=\"dataframe\">\n",
       "  <thead>\n",
       "    <tr style=\"text-align: right;\">\n",
       "      <th></th>\n",
       "      <th>Unnamed: 0</th>\n",
       "      <th>IsomericSMILES</th>\n",
       "      <th>nonStereoSMILES</th>\n",
       "      <th>CID</th>\n",
       "      <th>nonStereoSMILES___MW</th>\n",
       "      <th>nonStereoSMILES___AMW</th>\n",
       "      <th>nonStereoSMILES___Sv</th>\n",
       "      <th>nonStereoSMILES___Se</th>\n",
       "      <th>nonStereoSMILES___Sp</th>\n",
       "      <th>nonStereoSMILES___Si</th>\n",
       "      <th>...</th>\n",
       "      <th>nonStereoSMILES___s1_numAroBonds</th>\n",
       "      <th>nonStereoSMILES___s2_numAroBonds</th>\n",
       "      <th>nonStereoSMILES___s3_numAroBonds</th>\n",
       "      <th>nonStereoSMILES___s4_numAroBonds</th>\n",
       "      <th>nonStereoSMILES___s34_size</th>\n",
       "      <th>nonStereoSMILES___s34_relSize</th>\n",
       "      <th>nonStereoSMILES___s34_phSize</th>\n",
       "      <th>nonStereoSMILES___s34_phRelSize</th>\n",
       "      <th>nonStereoSMILES___chiralMoment</th>\n",
       "      <th>nonStereoSMILES___chiralPhMoment</th>\n",
       "    </tr>\n",
       "  </thead>\n",
       "  <tbody>\n",
       "    <tr>\n",
       "      <th>0</th>\n",
       "      <td>0</td>\n",
       "      <td>C1=CC(=CC=C1C=O)O</td>\n",
       "      <td>O=Cc1ccc(O)cc1</td>\n",
       "      <td>126</td>\n",
       "      <td>122.13</td>\n",
       "      <td>8.142000</td>\n",
       "      <td>10.0100</td>\n",
       "      <td>15.3054</td>\n",
       "      <td>10.1932</td>\n",
       "      <td>16.6644</td>\n",
       "      <td>...</td>\n",
       "      <td>0.0</td>\n",
       "      <td>0.0</td>\n",
       "      <td>0.0</td>\n",
       "      <td>0.0</td>\n",
       "      <td>0.0</td>\n",
       "      <td>0.000000</td>\n",
       "      <td>0.000</td>\n",
       "      <td>0.000000</td>\n",
       "      <td>0.000000</td>\n",
       "      <td>0.000000</td>\n",
       "    </tr>\n",
       "    <tr>\n",
       "      <th>1</th>\n",
       "      <td>34</td>\n",
       "      <td>CC(=O)O</td>\n",
       "      <td>CC(=O)O</td>\n",
       "      <td>176</td>\n",
       "      <td>60.06</td>\n",
       "      <td>7.507500</td>\n",
       "      <td>4.4832</td>\n",
       "      <td>8.4218</td>\n",
       "      <td>4.4318</td>\n",
       "      <td>9.2492</td>\n",
       "      <td>...</td>\n",
       "      <td>0.0</td>\n",
       "      <td>0.0</td>\n",
       "      <td>0.0</td>\n",
       "      <td>0.0</td>\n",
       "      <td>0.0</td>\n",
       "      <td>0.000000</td>\n",
       "      <td>0.000</td>\n",
       "      <td>0.000000</td>\n",
       "      <td>0.000000</td>\n",
       "      <td>0.000000</td>\n",
       "    </tr>\n",
       "    <tr>\n",
       "      <th>2</th>\n",
       "      <td>46</td>\n",
       "      <td>CC=O</td>\n",
       "      <td>CC=O</td>\n",
       "      <td>177</td>\n",
       "      <td>44.06</td>\n",
       "      <td>6.294286</td>\n",
       "      <td>3.7684</td>\n",
       "      <td>7.0945</td>\n",
       "      <td>3.9773</td>\n",
       "      <td>8.0398</td>\n",
       "      <td>...</td>\n",
       "      <td>0.0</td>\n",
       "      <td>0.0</td>\n",
       "      <td>0.0</td>\n",
       "      <td>0.0</td>\n",
       "      <td>0.0</td>\n",
       "      <td>0.000000</td>\n",
       "      <td>0.000</td>\n",
       "      <td>0.000000</td>\n",
       "      <td>0.000000</td>\n",
       "      <td>0.000000</td>\n",
       "    </tr>\n",
       "    <tr>\n",
       "      <th>3</th>\n",
       "      <td>69</td>\n",
       "      <td>CC(=O)C</td>\n",
       "      <td>CC(C)=O</td>\n",
       "      <td>180</td>\n",
       "      <td>58.09</td>\n",
       "      <td>5.809000</td>\n",
       "      <td>5.2952</td>\n",
       "      <td>9.9781</td>\n",
       "      <td>5.7387</td>\n",
       "      <td>11.4550</td>\n",
       "      <td>...</td>\n",
       "      <td>0.0</td>\n",
       "      <td>0.0</td>\n",
       "      <td>0.0</td>\n",
       "      <td>0.0</td>\n",
       "      <td>0.0</td>\n",
       "      <td>0.000000</td>\n",
       "      <td>0.000</td>\n",
       "      <td>0.000000</td>\n",
       "      <td>0.000000</td>\n",
       "      <td>0.000000</td>\n",
       "    </tr>\n",
       "    <tr>\n",
       "      <th>4</th>\n",
       "      <td>93</td>\n",
       "      <td>C(CCC(=O)O)CC(=O)O</td>\n",
       "      <td>O=C(O)CCCCC(=O)O</td>\n",
       "      <td>196</td>\n",
       "      <td>146.16</td>\n",
       "      <td>7.308000</td>\n",
       "      <td>11.4932</td>\n",
       "      <td>20.7272</td>\n",
       "      <td>11.6250</td>\n",
       "      <td>22.9136</td>\n",
       "      <td>...</td>\n",
       "      <td>0.0</td>\n",
       "      <td>0.0</td>\n",
       "      <td>0.0</td>\n",
       "      <td>0.0</td>\n",
       "      <td>0.0</td>\n",
       "      <td>0.000000</td>\n",
       "      <td>0.000</td>\n",
       "      <td>0.000000</td>\n",
       "      <td>0.000000</td>\n",
       "      <td>0.000000</td>\n",
       "    </tr>\n",
       "    <tr>\n",
       "      <th>...</th>\n",
       "      <td>...</td>\n",
       "      <td>...</td>\n",
       "      <td>...</td>\n",
       "      <td>...</td>\n",
       "      <td>...</td>\n",
       "      <td>...</td>\n",
       "      <td>...</td>\n",
       "      <td>...</td>\n",
       "      <td>...</td>\n",
       "      <td>...</td>\n",
       "      <td>...</td>\n",
       "      <td>...</td>\n",
       "      <td>...</td>\n",
       "      <td>...</td>\n",
       "      <td>...</td>\n",
       "      <td>...</td>\n",
       "      <td>...</td>\n",
       "      <td>...</td>\n",
       "      <td>...</td>\n",
       "      <td>...</td>\n",
       "      <td>...</td>\n",
       "    </tr>\n",
       "    <tr>\n",
       "      <th>475</th>\n",
       "      <td>14968</td>\n",
       "      <td>C/C=C/C1=CC(=C(C=C1)OC(=O)CC2=CC=CC=C2)OC</td>\n",
       "      <td>CC=Cc1ccc(OC(=O)Cc2ccccc2)c(OC)c1</td>\n",
       "      <td>6114390</td>\n",
       "      <td>282.36</td>\n",
       "      <td>7.240000</td>\n",
       "      <td>24.8856</td>\n",
       "      <td>38.9343</td>\n",
       "      <td>26.2161</td>\n",
       "      <td>43.3650</td>\n",
       "      <td>...</td>\n",
       "      <td>0.0</td>\n",
       "      <td>0.0</td>\n",
       "      <td>0.0</td>\n",
       "      <td>0.0</td>\n",
       "      <td>0.0</td>\n",
       "      <td>0.000000</td>\n",
       "      <td>0.000</td>\n",
       "      <td>0.000000</td>\n",
       "      <td>0.000000</td>\n",
       "      <td>0.000000</td>\n",
       "    </tr>\n",
       "    <tr>\n",
       "      <th>476</th>\n",
       "      <td>15011</td>\n",
       "      <td>C/C=C(/C=O)\\C1=CC=CC=C1</td>\n",
       "      <td>CC=C(C=O)c1ccccc1</td>\n",
       "      <td>6429333</td>\n",
       "      <td>146.20</td>\n",
       "      <td>6.961905</td>\n",
       "      <td>13.3488</td>\n",
       "      <td>20.7453</td>\n",
       "      <td>14.2615</td>\n",
       "      <td>23.2854</td>\n",
       "      <td>...</td>\n",
       "      <td>0.0</td>\n",
       "      <td>0.0</td>\n",
       "      <td>0.0</td>\n",
       "      <td>0.0</td>\n",
       "      <td>0.0</td>\n",
       "      <td>0.000000</td>\n",
       "      <td>0.000</td>\n",
       "      <td>0.000000</td>\n",
       "      <td>0.000000</td>\n",
       "      <td>0.000000</td>\n",
       "    </tr>\n",
       "    <tr>\n",
       "      <th>477</th>\n",
       "      <td>15024</td>\n",
       "      <td>CCCCOC(=O)[C@H](C)O</td>\n",
       "      <td>CCCCOC(=O)C(C)O</td>\n",
       "      <td>6999977</td>\n",
       "      <td>146.21</td>\n",
       "      <td>6.092083</td>\n",
       "      <td>12.8320</td>\n",
       "      <td>24.1671</td>\n",
       "      <td>13.6933</td>\n",
       "      <td>27.5346</td>\n",
       "      <td>...</td>\n",
       "      <td>0.0</td>\n",
       "      <td>0.0</td>\n",
       "      <td>0.0</td>\n",
       "      <td>0.0</td>\n",
       "      <td>8.0</td>\n",
       "      <td>0.800000</td>\n",
       "      <td>3.000</td>\n",
       "      <td>0.300000</td>\n",
       "      <td>11.090537</td>\n",
       "      <td>3.316625</td>\n",
       "    </tr>\n",
       "    <tr>\n",
       "      <th>478</th>\n",
       "      <td>15048</td>\n",
       "      <td>C[C@]12CCCC([C@@H]1CC[C@@]3([C@@H]2CCO3)C)(C)C</td>\n",
       "      <td>CC1(C)CCCC2(C)C1CCC1(C)OCCC12</td>\n",
       "      <td>10857465</td>\n",
       "      <td>236.44</td>\n",
       "      <td>5.254222</td>\n",
       "      <td>24.0900</td>\n",
       "      <td>43.6977</td>\n",
       "      <td>27.1141</td>\n",
       "      <td>51.0222</td>\n",
       "      <td>...</td>\n",
       "      <td>0.0</td>\n",
       "      <td>0.0</td>\n",
       "      <td>0.0</td>\n",
       "      <td>0.0</td>\n",
       "      <td>13.0</td>\n",
       "      <td>0.764706</td>\n",
       "      <td>0.625</td>\n",
       "      <td>0.036765</td>\n",
       "      <td>11.615970</td>\n",
       "      <td>1.549038</td>\n",
       "    </tr>\n",
       "    <tr>\n",
       "      <th>479</th>\n",
       "      <td>15091</td>\n",
       "      <td>CC/C=C\\CCOC(=O)/C(=C\\C)/C</td>\n",
       "      <td>CC=C(C)C(=O)OCCC=CCC</td>\n",
       "      <td>16220109</td>\n",
       "      <td>182.29</td>\n",
       "      <td>5.880323</td>\n",
       "      <td>17.1708</td>\n",
       "      <td>30.6070</td>\n",
       "      <td>18.7616</td>\n",
       "      <td>35.1556</td>\n",
       "      <td>...</td>\n",
       "      <td>0.0</td>\n",
       "      <td>0.0</td>\n",
       "      <td>0.0</td>\n",
       "      <td>0.0</td>\n",
       "      <td>0.0</td>\n",
       "      <td>0.000000</td>\n",
       "      <td>0.000</td>\n",
       "      <td>0.000000</td>\n",
       "      <td>0.000000</td>\n",
       "      <td>0.000000</td>\n",
       "    </tr>\n",
       "  </tbody>\n",
       "</table>\n",
       "<p>480 rows × 5670 columns</p>\n",
       "</div>"
      ]
     },
     "execution_count": 17,
     "metadata": {},
     "output_type": "execute_result"
    }
   ],
   "execution_count": 17
  },
  {
   "metadata": {},
   "cell_type": "code",
   "source": "",
   "outputs": [],
   "execution_count": null
  },
  {
   "metadata": {},
   "cell_type": "code",
   "source": "df_keller_cor_molformerfinetuned",
   "outputs": [],
   "execution_count": null
  },
  {
   "metadata": {},
   "cell_type": "code",
   "source": [
    "# df_predictions = concat_dfs(df_predictions_molformers,df_predictions_pom,df_predictions_alva)\n",
    "# save_predictions(df_predictions,ds=\"keller\")"
   ],
   "outputs": [],
   "execution_count": null
  },
  {
   "metadata": {},
   "cell_type": "code",
   "source": "# pd.read_csv('kellerpredictions.csv')",
   "outputs": [],
   "execution_count": null
  },
  {
   "metadata": {
    "ExecuteTime": {
     "end_time": "2024-08-04T13:34:17.637510Z",
     "start_time": "2024-08-04T13:34:17.609192Z"
    }
   },
   "cell_type": "code",
   "source": "save_data(\"keller\",df_keller_cor_pom,df_keller_cor_alva,df_keller_mse_pom,df_keller_mse_alva,corrs_molfomer,mses_molformer,df_keller_cor_molformerfinetuned,df_keller_mse_molformerfinetuned)",
   "outputs": [],
   "execution_count": 20
  },
  {
   "metadata": {},
   "cell_type": "code",
   "source": [
    "min_max_df =count_df_x_keller(times )\n",
    "min_max_df.to_csv('keller_min_max.csv', index=True)"
   ],
   "outputs": [],
   "execution_count": null
  },
  {
   "cell_type": "markdown",
   "metadata": {},
   "source": "## Sagar"
  },
  {
   "metadata": {},
   "cell_type": "markdown",
   "source": "### Representations\n"
  },
  {
   "cell_type": "code",
   "metadata": {
    "collapsed": false,
    "jupyter": {
     "outputs_hidden": false
    },
    "pycharm": {
     "name": "#%%\n"
    },
    "ExecuteTime": {
     "end_time": "2024-08-04T13:34:51.328968Z",
     "start_time": "2024-08-04T13:34:33.034641Z"
    }
   },
   "source": [
    "input_file_sagar_pom = base_path+'curated_datasets/embeddings/pom/sagar_pom_embeddings_Apr17.csv'\n",
    "\n",
    "input_file_sagar_alva = base_path+'curated_datasets/alva/sagar_molecules_alva_17Apr.csv'\n",
    "input_file_sagar_mordred = base_path+'curated_datasets/mordred/sagar_molecules_mordred_17Apr.csv'\n",
    "input_file_sagar_molformer = base_path+'curated_datasets/embeddings/molformer/sagar_molformer_embeddings_'\n",
    "input_file_sagar_molformerfinetuned = base_path+'curated_datasets/embeddings/molformerfinetuned/sagar_molformerfinetuned_embeddings_'\n",
    "\n",
    "\n",
    "corrs_molfomer_sagar,mses_molformer_sagar,df_sagar_cor_pom,df_sagar_mse_pom,df_sagar_cor_alva,df_sagar_mse_alva,df_sagar_cor_molformerfinetuned,df_sagar_mse_molformerfinetuned,df_sagar_predictions_molformers,df_sagar_predictions_pom,df_sagar_predictions_alva ,df_sagar_predictions_molformerfinetuned=compute_correlation(times , n_components,input_file_sagar_molformer, input_file_sagar_pom,input_file_sagar_alva,input_file_sagar_molformerfinetuned, ds=\"sagar2\")"
   ],
   "outputs": [
    {
     "name": "stdout",
     "output_type": "stream",
     "text": [
      "alva\n",
      "(480, 17)\n",
      "(1170, 15) (1170, 15) (1170,) (1170,)\n"
     ]
    }
   ],
   "execution_count": 21
  },
  {
   "metadata": {},
   "cell_type": "code",
   "source": "",
   "outputs": [],
   "execution_count": null
  },
  {
   "metadata": {},
   "cell_type": "code",
   "source": "# pd.read_csv(input_file_sagar_molformerfinetuned+str(0)+'_model_1_Apr17.csv')",
   "outputs": [],
   "execution_count": null
  },
  {
   "metadata": {},
   "cell_type": "code",
   "source": [
    "df_predictions_sagar = concat_dfs(df_sagar_predictions_molformers,df_sagar_predictions_pom,df_sagar_predictions_alva)\n",
    "save_predictions(df_predictions_sagar,ds=\"sagar\")"
   ],
   "outputs": [],
   "execution_count": null
  },
  {
   "cell_type": "code",
   "metadata": {
    "collapsed": false,
    "jupyter": {
     "outputs_hidden": false
    },
    "pycharm": {
     "name": "#%%\n"
    },
    "ExecuteTime": {
     "end_time": "2024-08-04T13:34:51.339605Z",
     "start_time": "2024-08-04T13:34:51.331082Z"
    }
   },
   "source": "save_data(\"sagar\",df_sagar_cor_pom,df_sagar_cor_alva,df_sagar_mse_pom,df_sagar_mse_alva,corrs_molfomer_sagar,mses_molformer_sagar,df_sagar_cor_molformerfinetuned,df_sagar_mse_molformerfinetuned)",
   "outputs": [],
   "execution_count": 22
  },
  {
   "cell_type": "code",
   "metadata": {},
   "source": [
    "min_max_df =count_df_x_keller(times ,ds=\"sagar\")\n",
    "min_max_df.to_csv('sagar_min_max.csv', index=True)   "
   ],
   "outputs": [],
   "execution_count": null
  },
  {
   "metadata": {},
   "cell_type": "markdown",
   "source": "## Draviensk "
  },
  {
   "metadata": {},
   "cell_type": "markdown",
   "source": "### Representations"
  },
  {
   "metadata": {},
   "cell_type": "code",
   "source": [
    "input_file_dravinsk_pom = base_path+'curated_datasets/embeddings/pom/dravienks1985App1_pom_embeddings_Apr17.csv'\n",
    "input_file_dravinsk_alva = base_path+'curated_datasets/alva/dravienks1985App1_molecules_alva_17Apr.csv'\n",
    "input_file_dravinsk_molformer = base_path+'curated_datasets/embeddings/molformer/dravienks1985App1_molformer_embeddings_'\n",
    "\n",
    "corrs_molfomer_dravinsk,mses_molformer_dravinsk,df_dravinsk_cor_pom,df_dravinsk_mse_pom,df_dravinsk_cor_alva,df_dravinsk_mse_alva =compute_correlation(times , n_components,input_file_dravinsk_molformer,input_file_dravinsk_pom,input_file_dravinsk_alva,ds=\"dravinsk\")   \n"
   ],
   "outputs": [],
   "execution_count": null
  },
  {
   "metadata": {},
   "cell_type": "code",
   "source": "save_data(\"dravienks1985App1\",df_dravinsk_cor_pom,df_dravinsk_cor_alva,df_dravinsk_mse_pom,df_dravinsk_mse_alva,corrs_molfomer_dravinsk,mses_molformer_dravinsk)",
   "outputs": [],
   "execution_count": null
  },
  {
   "metadata": {},
   "cell_type": "code",
   "source": [
    "input_file_dravinsk_molformer = base_path+'curated_datasets/embeddings/molformer/dravienks1985App1_molformer_embeddings_13_Apr17.csv'\n",
    "file = pd.read_csv(input_file_dravinsk_molformer)"
   ],
   "outputs": [],
   "execution_count": null
  },
  {
   "metadata": {},
   "cell_type": "code",
   "source": "",
   "outputs": [],
   "execution_count": null
  },
  {
   "metadata": {},
   "cell_type": "code",
   "source": "# iffd",
   "outputs": [],
   "execution_count": null
  },
  {
   "metadata": {},
   "cell_type": "code",
   "source": "",
   "outputs": [],
   "execution_count": null
  }
 ],
 "metadata": {
  "kernelspec": {
   "display_name": "MoLFormer_N2024",
   "language": "python",
   "name": "molformer_n2024"
  },
  "language_info": {
   "codemirror_mode": {
    "name": "ipython",
    "version": 3
   },
   "file_extension": ".py",
   "mimetype": "text/x-python",
   "name": "python",
   "nbconvert_exporter": "python",
   "pygments_lexer": "ipython3",
   "version": "3.9.18"
  },
  "toc-autonumbering": true,
  "toc-showmarkdowntxt": true
 },
 "nbformat": 4,
 "nbformat_minor": 4
}

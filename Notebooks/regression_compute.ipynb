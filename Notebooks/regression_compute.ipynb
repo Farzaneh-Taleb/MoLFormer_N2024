{
 "cells": [
  {
   "cell_type": "markdown",
   "metadata": {
    "pycharm": {
     "name": "#%% md\n"
    },
    "tags": []
   },
   "source": [
    "# Load checkpoint and imports"
   ]
  },
  {
   "cell_type": "code",
   "metadata": {
    "pycharm": {
     "name": "#%%\n"
    },
    "ExecuteTime": {
     "end_time": "2024-07-01T07:08:34.174900Z",
     "start_time": "2024-07-01T07:08:34.164386Z"
    }
   },
   "source": [
    "import sys\n",
    "import warnings\n",
    "warnings.filterwarnings('ignore')\n",
    "# !{sys.executable} -m pip install seaborn"
   ],
   "outputs": [],
   "execution_count": 1
  },
  {
   "metadata": {
    "ExecuteTime": {
     "end_time": "2024-07-01T07:08:34.213037Z",
     "start_time": "2024-07-01T07:08:34.177113Z"
    }
   },
   "cell_type": "code",
   "source": [
    "parent_dir = \"/Midgard/home/farzantn/phd/Olfaction/MoLFormer_N2024\"\n",
    "sys.path.append(parent_dir)\n",
    "parent_dir=\"/Midgard/home/farzantn/mambaforge/envs/MolTran_CUDA11_cuda/lib/python3.8\"\n",
    "sys.path.append(parent_dir)"
   ],
   "outputs": [],
   "execution_count": 2
  },
  {
   "cell_type": "code",
   "metadata": {
    "collapsed": false,
    "jupyter": {
     "outputs_hidden": false
    },
    "pycharm": {
     "name": "#%%\n"
    },
    "ExecuteTime": {
     "end_time": "2024-07-01T07:09:00.850409Z",
     "start_time": "2024-07-01T07:08:34.214796Z"
    }
   },
   "source": [
    "import pandas as pd\n",
    "import numpy as np\n",
    "from sklearn.model_selection import cross_validate,train_test_split\n",
    "import ast\n",
    "from sklearn.metrics import roc_auc_score, mean_squared_error\n",
    "import scipy\n",
    "import os\n",
    "from sklearn.decomposition import PCA\n",
    "# base_path= '../../../../../../T5 EVO/'\n",
    "base_path = '/local_storage/datasets/farzaneh/alignment_olfaction_datasets/'\n",
    "from sklearn.preprocessing import StandardScaler\n",
    "from utils.util_alignment import set_seeds\n",
    "from utils.prepare_datasets import prepare_dataset,select_features\n",
    "from utils.helper_methods import custom_linear_regression,pipeline_regression\n",
    "from constants import *\n",
    "# [x[0] for x in os.walk(base_path)]\n",
    "# input_file_keller_pom = '/local_storage/datasets/farzaneh/openpom/data/curated_datasets/embeddings/pom/keller_pom_embeddings_Apr17.csv'\n",
    "# "
   ],
   "outputs": [
    {
     "name": "stderr",
     "output_type": "stream",
     "text": [
      "Skipped loading some Tensorflow models, missing a dependency. No module named 'tensorflow'\n",
      "Skipped loading modules with pytorch-geometric dependency, missing a dependency. No module named 'torch_geometric'\n",
      "Skipped loading modules with pytorch-geometric dependency, missing a dependency. cannot import name 'DMPNN' from 'deepchem.models.torch_models' (/Midgard/home/farzantn/mambaforge/envs/Mol/lib/python3.8/site-packages/deepchem/models/torch_models/__init__.py)\n",
      "Skipped loading some Jax models, missing a dependency. No module named 'jax'\n"
     ]
    }
   ],
   "execution_count": 3
  },
  {
   "cell_type": "code",
   "metadata": {
    "pycharm": {
     "name": "#%%\n"
    }
   },
   "source": [
    "seed= 2024\n",
    "set_seeds(seed)"
   ],
   "outputs": [],
   "execution_count": null
  },
  {
   "cell_type": "code",
   "metadata": {
    "collapsed": false,
    "jupyter": {
     "outputs_hidden": false
    },
    "pycharm": {
     "name": "#%%\n"
    }
   },
   "source": [
    "times=30\n",
    "n_components=20"
   ],
   "outputs": [],
   "execution_count": null
  },
  {
   "cell_type": "code",
   "metadata": {
    "collapsed": false,
    "jupyter": {
     "outputs_hidden": false
    },
    "pycharm": {
     "name": "#%%\n"
    }
   },
   "source": [
    "print(os.getcwd())"
   ],
   "outputs": [],
   "execution_count": null
  },
  {
   "cell_type": "markdown",
   "metadata": {
    "collapsed": false,
    "jupyter": {
     "outputs_hidden": false
    },
    "pycharm": {
     "name": "#%% md\n"
    }
   },
   "source": [
    "# Helper Methods"
   ]
  },
  {
   "cell_type": "code",
   "metadata": {
    "collapsed": false,
    "jupyter": {
     "outputs_hidden": false
    },
    "pycharm": {
     "name": "#%%\n"
    },
    "ExecuteTime": {
     "end_time": "2024-06-28T10:16:32.500833Z",
     "start_time": "2024-06-28T10:16:32.495971Z"
    }
   },
   "source": [
    "def literal_eval_list(list_string):\n",
    "    list_string_temp=list_string.values.tolist()\n",
    "    list_string_all = []\n",
    "    for value in list_string_temp:\n",
    "        list_string_all.append(ast.literal_eval(value))\n",
    "    \n",
    "    list_numpy = np.asarray(list_string_all)\n",
    "    return list_numpy\n"
   ],
   "outputs": [],
   "execution_count": 8
  },
  {
   "metadata": {
    "ExecuteTime": {
     "end_time": "2024-06-28T10:20:32.146527Z",
     "start_time": "2024-06-28T10:20:32.139693Z"
    }
   },
   "cell_type": "code",
   "source": [
    "def grand_average(df,ds):\n",
    "    \n",
    "    if ds==\"keller\":\n",
    "        descriptors=keller_descriptors\n",
    "       \n",
    "    elif ds==\"sagar\":\n",
    "        descriptors=sagar_descriptors\n",
    "    elif ds==\"dravinsk\":\n",
    "        descriptors=dravinsk_descriptors\n",
    "    else:\n",
    "        raise ValueError(\"Invalid dataset\")\n",
    "        \n",
    "        \n",
    "    df_groupbyCID=df.groupby('CID')[descriptors].mean().reset_index()\n",
    "\n",
    "    df_groupbyCID['y'] = df_groupbyCID.loc[:, '0.1':descriptors[-1]].values.tolist()\n",
    "    df_embeddings=df.drop_duplicates(subset=['CID'])\n",
    "    df_embeddings=df_embeddings[['CID','embeddings']]\n",
    "    df_groupbyCID = pd.merge(df_groupbyCID, df_embeddings, on='CID', how='left')\n",
    "    return df_groupbyCID"
   ],
   "outputs": [],
   "execution_count": 24
  },
  {
   "metadata": {
    "ExecuteTime": {
     "end_time": "2024-06-28T10:20:25.272402Z",
     "start_time": "2024-06-28T10:20:25.265408Z"
    }
   },
   "cell_type": "code",
   "source": [
    "def average_over_subject(df,ds):\n",
    "    if ds==\"keller\":\n",
    "        descriptors=keller_descriptors\n",
    "       \n",
    "    elif ds==\"sagar\":\n",
    "        descriptors=sagar_descriptors\n",
    "    else:\n",
    "        raise ValueError(\"Invalid dataset\")\n",
    "        \n",
    "    df_groupbyCID=df.groupby(['CID','subject'])[descriptors].mean().reset_index()\n",
    "\n",
    "    df_groupbyCID['y'] = df_groupbyCID.loc[:, '0.1':descriptors[-1]].values.tolist()\n",
    "    df_embeddings=df.drop_duplicates(subset=['CID'])\n",
    "    df_embeddings=df_embeddings[['CID','embeddings']]\n",
    "    df_groupbyCID = pd.merge(df_groupbyCID, df_embeddings, on='CID', how='left')\n",
    "    return df_groupbyCID"
   ],
   "outputs": [],
   "execution_count": 23
  },
  {
   "cell_type": "code",
   "metadata": {
    "collapsed": false,
    "jupyter": {
     "outputs_hidden": false
    },
    "pycharm": {
     "name": "#%%\n"
    },
    "ExecuteTime": {
     "end_time": "2024-06-28T10:16:32.539348Z",
     "start_time": "2024-06-28T10:16:32.532092Z"
    }
   },
   "source": [
    "def metrics_per_descritor(X,y,linreg):\n",
    "    predicted=linreg.predict(X)\n",
    "    mseerrors = []\n",
    "    correlations = []\n",
    "    if len(y.shape)>1:\n",
    "        for i in range(y.shape[1]):\n",
    "            mseerror=mean_squared_error(predicted[:,i],y[:,i])\n",
    "            correlation=scipy.stats.pearsonr(predicted[:,i], y[:,i])\n",
    "            mseerrors.append(mseerror)\n",
    "            correlations.append(correlation)\n",
    "            # print(predicted[:,i], y[:,i])\n",
    "        \n",
    "    else:\n",
    "        mseerror=mean_squared_error(predicted,y)\n",
    "        correlation=scipy.stats.pearsonr(predicted, y)\n",
    "        mseerrors.append(mseerror)\n",
    "        correlations.append(correlation)\n",
    "     # print(predicted[:,i], y[:,i])\n",
    "    \n",
    "    return mseerrors, correlations\n",
    "        # plot()\n",
    "        \n",
    "    \n",
    "    "
   ],
   "outputs": [],
   "execution_count": 11
  },
  {
   "cell_type": "code",
   "metadata": {
    "collapsed": false,
    "jupyter": {
     "outputs_hidden": false
    },
    "pycharm": {
     "name": "#%%\n"
    },
    "ExecuteTime": {
     "end_time": "2024-06-28T10:16:32.548208Z",
     "start_time": "2024-06-28T10:16:32.541493Z"
    }
   },
   "source": [
    "def post_process_results_df(mserrorrs_corssvalidated,correlations_corssvalidated):\n",
    "    mserrorrs_corssvalidated_array = np.asarray(mserrorrs_corssvalidated) \n",
    "    if len(mserrorrs_corssvalidated_array.shape)==3:\n",
    "        mserrorrs_corssvalidated_array = np.squeeze(mserrorrs_corssvalidated_array,-1)\n",
    "        mserrorrs_corssvalidated_array = np.moveaxis(mserrorrs_corssvalidated_array, 0,1)\n",
    "    # print(mserrorrs_corssvalidated_array.shape,\"shapeeee1\")\n",
    "    \n",
    "    correlations_corssvalidated = np.asarray(correlations_corssvalidated)\n",
    "    if len(correlations_corssvalidated.shape)==4:\n",
    "        correlations_corssvalidated = np.moveaxis(correlations_corssvalidated, 0,1)\n",
    "        # print(\"correlations_corssvalidateds\",correlations_corssvalidated.shape)\n",
    "        correlations_corssvalidated = np.squeeze(correlations_corssvalidated,2)\n",
    "    # print(correlations_corssvalidated.shape,\"shapeeee2\")\n",
    "    statistics_correlations_corssvalidated_array = correlations_corssvalidated[:,:,0]\n",
    "    pvalues_correlations_corssvalidated_array = correlations_corssvalidated[:,:,1]\n",
    "\n",
    "    return mserrorrs_corssvalidated_array,statistics_correlations_corssvalidated_array,pvalues_correlations_corssvalidated_array\n",
    "    "
   ],
   "outputs": [],
   "execution_count": 12
  },
  {
   "cell_type": "code",
   "metadata": {
    "collapsed": false,
    "jupyter": {
     "outputs_hidden": false
    },
    "pycharm": {
     "name": "#%%\n"
    },
    "ExecuteTime": {
     "end_time": "2024-06-28T10:16:32.560366Z",
     "start_time": "2024-06-28T10:16:32.551276Z"
    }
   },
   "source": [
    "def train_and_eval(data_groupbyCID,times,n_components=None,y_i=None):\n",
    "    mserrorrs_corssvalidated = []\n",
    "    correlations_corssvalidated = []\n",
    "    X=np.asarray(data_groupbyCID.embeddings.values.tolist())\n",
    "    if y_i is not None:\n",
    "        y=np.asarray(data_groupbyCID.y.values.tolist())[:,y_i].reshape(-1,1)\n",
    "    else:\n",
    "       y=np.asarray(data_groupbyCID.y.values.tolist())\n",
    "    for i in range(times):\n",
    "        X_train, X_test, y_train, y_test = train_test_split(X, y, test_size=0.2, random_state=seed+i) \n",
    "        linreg,X_test = pipeline_regression(X_train,y_train,X_test,y_test,custom_linear_regression,n_components=n_components)\n",
    "        \n",
    "        mseerrors, correlations=metrics_per_descritor(X_test,y_test,linreg)\n",
    "        mserrorrs_corssvalidated.append(mseerrors)\n",
    "        correlations_corssvalidated.append(correlations)\n",
    "        \n",
    "    return mserrorrs_corssvalidated, correlations_corssvalidated"
   ],
   "outputs": [],
   "execution_count": 13
  },
  {
   "cell_type": "code",
   "metadata": {
    "ExecuteTime": {
     "end_time": "2024-06-28T10:16:32.569669Z",
     "start_time": "2024-06-28T10:16:32.561997Z"
    }
   },
   "source": [
    "def min_max_extraction(data_groupbyCID,times,y_i=None):\n",
    "    min_max_dfs = []\n",
    "    X=np.asarray(data_groupbyCID.embeddings.values.tolist())\n",
    "    if y_i is not None:\n",
    "        y=np.asarray(data_groupbyCID.y.values.tolist())[:,y_i].reshape(-1,1)\n",
    "    else:\n",
    "       y=np.asarray(data_groupbyCID.y.values.tolist())\n",
    "    for i in range(times):\n",
    "        \n",
    "        X_train, X_test, y_train, y_test = train_test_split(X, y, test_size=0.2, random_state=seed+i)  \n",
    "        # print(X_train.shape,\"x shape\")\n",
    "        # print(y_train.shape,\"y shape\")\n",
    "        df = pd.DataFrame(y_test)\n",
    "\n",
    "        # Step 3: Extract the min and max values for each column\n",
    "        min_values = df.min()\n",
    "        max_values = df.max()\n",
    "\n",
    "       # Create DataFrames for min and max values with an additional column for the label\n",
    "        min_df = pd.DataFrame(min_values).T\n",
    "        min_df['Type'] = 'Min'\n",
    "    \n",
    "        max_df = pd.DataFrame(max_values).T\n",
    "        max_df['Type'] = 'Max'\n",
    "    \n",
    "        # Concatenate the min and max DataFrames\n",
    "        min_max_df = pd.concat([min_df, max_df])\n",
    "        min_max_df['Dataset'] = i\n",
    "    \n",
    "        # Append the concatenated DataFrame to the lis\n",
    "    \n",
    "        # Append the min_max_df to the list\n",
    "        min_max_dfs.append(min_max_df)\n",
    "    \n",
    "    final_df = pd.concat(min_max_dfs)   \n",
    "        # Step 4: Create a new DataFrame with the min and max values per column\n",
    "    final_df.set_index(['Dataset', 'Type'], inplace=True)\n",
    "    # min_max_df = pd.DataFrame([min_values, max_values], index=['Min', 'Max'])\n",
    "        \n"
   ],
   "outputs": [],
   "execution_count": 14
  },
  {
   "cell_type": "code",
   "metadata": {
    "collapsed": false,
    "jupyter": {
     "outputs_hidden": false
    },
    "pycharm": {
     "name": "#%%\n"
    },
    "ExecuteTime": {
     "end_time": "2024-06-28T10:16:32.585497Z",
     "start_time": "2024-06-28T10:16:32.579873Z"
    }
   },
   "source": "",
   "outputs": [],
   "execution_count": 16
  },
  {
   "cell_type": "code",
   "metadata": {
    "collapsed": false,
    "jupyter": {
     "outputs_hidden": false
    },
    "pycharm": {
     "name": "#%%\n"
    },
    "ExecuteTime": {
     "end_time": "2024-06-28T10:16:32.595862Z",
     "start_time": "2024-06-28T10:16:32.587786Z"
    }
   },
   "source": [
    "def pipeline(model_name,input_file,input_file_alva=None,times=30,n_components=None,ds=\"keller\",count=False):\n",
    "    # input_file_keller = base_path+'openpom/data/curated_datasets/embeddings/molformer/keller_molformer_embeddings_13_Apr17.csv'\n",
    "    df=pd.read_csv(input_file)\n",
    "    df=prepare_dataset(df,'embeddings','y')\n",
    "    df_groupbyCID=grand_average(df,ds)\n",
    "    df_groupbyCIDSubject=average_over_subject(df,ds)\n",
    "    \n",
    "    \n",
    "\n",
    "    if input_file_alva is not None:\n",
    "        df_alva = select_features(input_file_alva)\n",
    "        del df_groupbyCID['embeddings']\n",
    "        df_groupbyCID= pd.merge(df_alva,df_groupbyCID,on=\"CID\")\n",
    "    \n",
    "        \n",
    "    \n",
    "    if count:\n",
    "        min_max_df=min_max_extraction(df_groupbyCID,times)\n",
    "        return min_max_df\n",
    "    else:\n",
    "        mserrorrs_df_corssvalidated, correlations_df_corssvalidated=train_and_eval(df_groupbyCID,times=times,n_components=n_components)\n",
    "   \n",
    "    mserrorrs_corssvalidated_df,statistics_correlations_corssvalidated_df,pvalues_correlations_corssvalidated_df=post_process_results_df(mserrorrs_df_corssvalidated, correlations_df_corssvalidated)\n",
    "    df_df_mse= pd.DataFrame(mserrorrs_corssvalidated_df)\n",
    "    # df_df_mse = df_df_mse.T\n",
    "    df_df_mse['model'] = model_name\n",
    "    df_df_cor= pd.DataFrame(statistics_correlations_corssvalidated_df)\n",
    "    df_df_cor['model'] = model_name\n",
    "    # df_keller = pd.concat((df_keller_molformer,df_keller_pom))\n",
    "    return df_df_mse, df_df_cor"
   ],
   "outputs": [],
   "execution_count": 17
  },
  {
   "cell_type": "code",
   "metadata": {
    "collapsed": false,
    "jupyter": {
     "outputs_hidden": false
    },
    "pycharm": {
     "name": "#%%\n"
    },
    "ExecuteTime": {
     "end_time": "2024-06-28T10:16:32.605317Z",
     "start_time": "2024-06-28T10:16:32.598104Z"
    }
   },
   "source": [
    "def compute_correlation(times,n_components,input_file_molformer,input_file_pom,input_file_alva,ds=\"keller\"):\n",
    "    \n",
    "    \n",
    "    df_keller_mse_pom, df_keller_cor_pom = pipeline('pom',input_file_pom,times=times,n_components=n_components)\n",
    "    \n",
    "    \n",
    "    df_keller_mse_alva, df_keller_cor_alva = pipeline('alva',input_file_pom,input_file_alva,times=times,n_components=n_components)\n",
    "    \n",
    "    corrs_molformer=[]\n",
    "\n",
    "    mses_molformer=[]\n",
    "    \n",
    "    for i in [0,1,2,3,4,5,6,7,8,9,10,11,13]:\n",
    "        input_file_keller_molformer = input_file_molformer+str(i)+'_Apr17.csv'\n",
    "    # for i in [0,13]:\n",
    "        \n",
    "        df_keller_mse_molformer, df_keller_cor_molformer = pipeline('molformer',input_file_keller_molformer,times=times,n_components=n_components,ds=ds)\n",
    "        \n",
    "        \n",
    "        \n",
    "        corrs_molformer.append(df_keller_cor_molformer)\n",
    "        mses_molformer.append(df_keller_mse_molformer)\n",
    "\n",
    "    return corrs_molformer,mses_molformer,df_keller_cor_pom,df_keller_mse_pom,df_keller_cor_alva,df_keller_mse_alva"
   ],
   "outputs": [],
   "execution_count": 18
  },
  {
   "cell_type": "code",
   "metadata": {
    "ExecuteTime": {
     "end_time": "2024-06-28T10:16:32.612419Z",
     "start_time": "2024-06-28T10:16:32.607126Z"
    }
   },
   "source": [
    "def count_df_x_keller(times ,per_descritor=False,ds=\"keller\"):\n",
    "\n",
    "    # for i in [0,13]:\n",
    "    if ds==\"keller\":\n",
    "        input_file_keller_molformer = base_path+'alignment_olfaction_datasets/data/curated_datasets/embeddings/molformer/keller_molformer_embeddings_'+str(13)+'_Apr17.csv'\n",
    "        min_max_df = pipeline('molformer',input_file_keller_molformer,times=times,n_components=n_components,count=True)\n",
    "    elif ds==\"sagar\":\n",
    "        input_file_sagar_molformer = base_path+'alignment_olfaction_datasets/data/curated_datasets/embeddings/molformer/sagar_molformer_embeddings_'+str(13)+'_Apr17.csv'\n",
    "        min_max_df = pipeline('molformer',input_file_sagar_molformer,times=times,n_components=n_components,ds=\"sagar\",count=True)\n",
    "\n",
    "\n",
    "\n",
    "\n",
    "    return min_max_df"
   ],
   "outputs": [],
   "execution_count": 19
  },
  {
   "cell_type": "code",
   "metadata": {
    "collapsed": false,
    "jupyter": {
     "outputs_hidden": false
    },
    "pycharm": {
     "name": "#%%\n"
    },
    "ExecuteTime": {
     "end_time": "2024-06-28T10:16:32.618488Z",
     "start_time": "2024-06-28T10:16:32.614016Z"
    }
   },
   "source": [
    "def post_process_tocsv(corrs,tasks):\n",
    "    corrs[0][\"layer\"]=0\n",
    "    corrss = corrs[0]\n",
    "    for i in range(1,13):\n",
    "        corrs[i][\"layer\"] = i\n",
    "        corrss  = pd.concat([corrss, corrs[i]])\n",
    "    del corrss['model']\n",
    "    corrss.columns = tasks+[\"layer\"]    \n",
    "    corrss['model']='molformer'\n",
    "    return corrss"
   ],
   "outputs": [],
   "execution_count": 20
  },
  {
   "cell_type": "code",
   "metadata": {
    "collapsed": false,
    "jupyter": {
     "outputs_hidden": false
    },
    "pycharm": {
     "name": "#%%\n"
    },
    "ExecuteTime": {
     "end_time": "2024-06-28T10:16:32.625067Z",
     "start_time": "2024-06-28T10:16:32.620116Z"
    }
   },
   "source": [
    "def save_data(ds,df_cor_pom,df_cor_alva,df_mse_pom,df_mse_alva,corrs_molfomer,mses_molformer):\n",
    "    if ds==\"keller\":\n",
    "        tasks= keller_tasks\n",
    "    elif ds==\"sagar\":\n",
    "        tasks= sagar_tasks\n",
    "    else:\n",
    "        raise ValueError(\"Invalid dataset\")\n",
    "    \n",
    "    df_cor_pom.columns = tasks+[\"model\"]\n",
    "    df_cor_pom.to_csv('df_'+ds+'_cor_pom.csv', index=False)  \n",
    "    \n",
    "    df_mse_pom.columns  = tasks+[\"model\"]\n",
    "    df_mse_pom.to_csv('df_'+ds+'_mse_pom.csv', index=False)  \n",
    "    \n",
    "    df_cor_alva.columns = tasks+[\"model\"]\n",
    "    df_cor_alva.to_csv('df_'+ds+'_cor_alva.csv', index=False)  \n",
    "    \n",
    "    df_mse_alva.columns = tasks+[\"model\"]\n",
    "    df_mse_alva.to_csv('df_'+ds+'_mse_alva.csv', index=False)   \n",
    "    \n",
    "    corrs_molfomer_df = post_process_tocsv(corrs_molfomer,tasks)\n",
    "    corrs_molfomer_df.to_csv('df_'+ds+'_corrs_molfomer.csv', index=False)   \n",
    "    \n",
    "    mses_molformer_df = post_process_tocsv(mses_molformer,tasks)\n",
    "    mses_molformer_df.to_csv('df_'+ds+'_mses_molfomer.csv', index=False)   "
   ],
   "outputs": [],
   "execution_count": 21
  },
  {
   "cell_type": "markdown",
   "metadata": {
    "collapsed": false,
    "jupyter": {
     "outputs_hidden": false
    },
    "pycharm": {
     "name": "#%% md\n"
    }
   },
   "source": [
    "# Extracting Representations"
   ]
  },
  {
   "cell_type": "markdown",
   "metadata": {
    "collapsed": false,
    "jupyter": {
     "outputs_hidden": false
    },
    "pycharm": {
     "name": "#%% md\n"
    }
   },
   "source": [
    "## Keller"
   ]
  },
  {
   "cell_type": "markdown",
   "metadata": {},
   "source": [
    "### Representations"
   ]
  },
  {
   "cell_type": "code",
   "metadata": {
    "collapsed": false,
    "jupyter": {
     "outputs_hidden": false
    },
    "pycharm": {
     "name": "#%%\n"
    },
    "ExecuteTime": {
     "end_time": "2024-06-28T10:20:49.257742Z",
     "start_time": "2024-06-28T10:20:44.678974Z"
    }
   },
   "source": [
    "input_file_keller_pom = base_path+'curated_datasets/embeddings/pom/keller_pom_embeddings_Apr17.csv'\n",
    "input_file_keller_alva = base_path+'curated_datasets/alva/keller_molecules_alva_17Apr.csv'\n",
    "input_file_keller_molformer = base_path+'curated_datasets/embeddings/molformer/keller_molformer_embeddings_'\n",
    "corrs_molfomer,mses_molformer,df_keller_cor_pom,df_keller_mse_pom,df_keller_cor_alva,df_keller_mse_alva =compute_correlation(times , n_components,input_file_keller_molformer,input_file_keller_pom,input_file_keller_alva,ds=\"keller\")"
   ],
   "outputs": [
    {
     "ename": "KeyboardInterrupt",
     "evalue": "",
     "output_type": "error",
     "traceback": [
      "\u001B[0;31m---------------------------------------------------------------------------\u001B[0m",
      "\u001B[0;31mKeyboardInterrupt\u001B[0m                         Traceback (most recent call last)",
      "Cell \u001B[0;32mIn[25], line 4\u001B[0m\n\u001B[1;32m      2\u001B[0m input_file_keller_alva \u001B[38;5;241m=\u001B[39m base_path\u001B[38;5;241m+\u001B[39m\u001B[38;5;124m'\u001B[39m\u001B[38;5;124mcurated_datasets/alva/keller_molecules_alva_17Apr.csv\u001B[39m\u001B[38;5;124m'\u001B[39m\n\u001B[1;32m      3\u001B[0m input_file_keller_molformer \u001B[38;5;241m=\u001B[39m base_path\u001B[38;5;241m+\u001B[39m\u001B[38;5;124m'\u001B[39m\u001B[38;5;124mcurated_datasets/embeddings/molformer/keller_molformer_embeddings_\u001B[39m\u001B[38;5;124m'\u001B[39m\n\u001B[0;32m----> 4\u001B[0m corrs_molfomer,mses_molformer,df_keller_cor_pom,df_keller_mse_pom,df_keller_cor_alva,df_keller_mse_alva \u001B[38;5;241m=\u001B[39m\u001B[43mcompute_correlation\u001B[49m\u001B[43m(\u001B[49m\u001B[43mtimes\u001B[49m\u001B[43m \u001B[49m\u001B[43m,\u001B[49m\u001B[43m \u001B[49m\u001B[43mn_components\u001B[49m\u001B[43m,\u001B[49m\u001B[43minput_file_keller_molformer\u001B[49m\u001B[43m,\u001B[49m\u001B[43minput_file_keller_pom\u001B[49m\u001B[43m,\u001B[49m\u001B[43minput_file_keller_alva\u001B[49m\u001B[43m,\u001B[49m\u001B[43mds\u001B[49m\u001B[38;5;241;43m=\u001B[39;49m\u001B[38;5;124;43m\"\u001B[39;49m\u001B[38;5;124;43mkeller\u001B[39;49m\u001B[38;5;124;43m\"\u001B[39;49m\u001B[43m,\u001B[49m\u001B[43mper_descritor\u001B[49m\u001B[38;5;241;43m=\u001B[39;49m\u001B[38;5;28;43;01mFalse\u001B[39;49;00m\u001B[43m)\u001B[49m\n",
      "Cell \u001B[0;32mIn[18], line 4\u001B[0m, in \u001B[0;36mcompute_correlation\u001B[0;34m(times, n_components, input_file_molformer, input_file_pom, input_file_alva, ds, per_descritor)\u001B[0m\n\u001B[1;32m      1\u001B[0m \u001B[38;5;28;01mdef\u001B[39;00m \u001B[38;5;21mcompute_correlation\u001B[39m(times,n_components,input_file_molformer,input_file_pom,input_file_alva,ds\u001B[38;5;241m=\u001B[39m\u001B[38;5;124m\"\u001B[39m\u001B[38;5;124mkeller\u001B[39m\u001B[38;5;124m\"\u001B[39m,per_descritor\u001B[38;5;241m=\u001B[39m\u001B[38;5;28;01mFalse\u001B[39;00m):\n\u001B[0;32m----> 4\u001B[0m     df_keller_mse_pom, df_keller_cor_pom \u001B[38;5;241m=\u001B[39m \u001B[43mpipeline\u001B[49m\u001B[43m(\u001B[49m\u001B[38;5;124;43m'\u001B[39;49m\u001B[38;5;124;43mpom\u001B[39;49m\u001B[38;5;124;43m'\u001B[39;49m\u001B[43m,\u001B[49m\u001B[43minput_file_pom\u001B[49m\u001B[43m,\u001B[49m\u001B[43mtimes\u001B[49m\u001B[38;5;241;43m=\u001B[39;49m\u001B[43mtimes\u001B[49m\u001B[43m,\u001B[49m\u001B[43mn_components\u001B[49m\u001B[38;5;241;43m=\u001B[39;49m\u001B[43mn_components\u001B[49m\u001B[43m)\u001B[49m\n\u001B[1;32m      7\u001B[0m     df_keller_mse_alva, df_keller_cor_alva \u001B[38;5;241m=\u001B[39m pipeline(\u001B[38;5;124m'\u001B[39m\u001B[38;5;124malva\u001B[39m\u001B[38;5;124m'\u001B[39m,input_file_pom,input_file_alva,times\u001B[38;5;241m=\u001B[39mtimes,n_components\u001B[38;5;241m=\u001B[39mn_components)\n\u001B[1;32m      9\u001B[0m     corrs_molformer\u001B[38;5;241m=\u001B[39m[]\n",
      "Cell \u001B[0;32mIn[17], line 4\u001B[0m, in \u001B[0;36mpipeline\u001B[0;34m(model_name, input_file, input_file_alva, times, n_components, ds, per_descritor, count)\u001B[0m\n\u001B[1;32m      1\u001B[0m \u001B[38;5;28;01mdef\u001B[39;00m \u001B[38;5;21mpipeline\u001B[39m(model_name,input_file,input_file_alva\u001B[38;5;241m=\u001B[39m\u001B[38;5;28;01mNone\u001B[39;00m,times\u001B[38;5;241m=\u001B[39m\u001B[38;5;241m30\u001B[39m,n_components\u001B[38;5;241m=\u001B[39m\u001B[38;5;28;01mNone\u001B[39;00m,ds\u001B[38;5;241m=\u001B[39m\u001B[38;5;124m\"\u001B[39m\u001B[38;5;124mkeller\u001B[39m\u001B[38;5;124m\"\u001B[39m,per_descritor\u001B[38;5;241m=\u001B[39m\u001B[38;5;28;01mFalse\u001B[39;00m,count\u001B[38;5;241m=\u001B[39m\u001B[38;5;28;01mFalse\u001B[39;00m):\n\u001B[1;32m      2\u001B[0m     \u001B[38;5;66;03m# input_file_keller = base_path+'openpom/data/curated_datasets/embeddings/molformer/keller_molformer_embeddings_13_Apr17.csv'\u001B[39;00m\n\u001B[1;32m      3\u001B[0m     df\u001B[38;5;241m=\u001B[39mpd\u001B[38;5;241m.\u001B[39mread_csv(input_file)\n\u001B[0;32m----> 4\u001B[0m     df\u001B[38;5;241m=\u001B[39m\u001B[43mprepare_dataset\u001B[49m\u001B[43m(\u001B[49m\u001B[43mdf\u001B[49m\u001B[43m,\u001B[49m\u001B[38;5;124;43m'\u001B[39;49m\u001B[38;5;124;43membeddings\u001B[39;49m\u001B[38;5;124;43m'\u001B[39;49m\u001B[43m,\u001B[49m\u001B[38;5;124;43m'\u001B[39;49m\u001B[38;5;124;43my\u001B[39;49m\u001B[38;5;124;43m'\u001B[39;49m\u001B[43m)\u001B[49m\n\u001B[1;32m      5\u001B[0m     df_groupbyCID\u001B[38;5;241m=\u001B[39mgrand_average(df,ds)\n\u001B[1;32m      6\u001B[0m     df_groupbyCIDSubject\u001B[38;5;241m=\u001B[39maverage_over_subject(df,ds)\n",
      "File \u001B[0;32m~/phd/Olfaction/MoLFormer_N2024/utils/prepare_datasets.py:407\u001B[0m, in \u001B[0;36mprepare_dataset\u001B[0;34m(ds, x_att, y_att)\u001B[0m\n\u001B[1;32m    405\u001B[0m \u001B[38;5;28;01mdef\u001B[39;00m \u001B[38;5;21mprepare_dataset\u001B[39m(ds,x_att,y_att):\n\u001B[1;32m    406\u001B[0m     ds[y_att] \u001B[38;5;241m=\u001B[39m ds[y_att]\u001B[38;5;241m.\u001B[39mapply(ast\u001B[38;5;241m.\u001B[39mliteral_eval)\n\u001B[0;32m--> 407\u001B[0m     ds[x_att] \u001B[38;5;241m=\u001B[39m \u001B[43mds\u001B[49m\u001B[43m[\u001B[49m\u001B[43mx_att\u001B[49m\u001B[43m]\u001B[49m\u001B[38;5;241;43m.\u001B[39;49m\u001B[43mapply\u001B[49m\u001B[43m(\u001B[49m\u001B[43mast\u001B[49m\u001B[38;5;241;43m.\u001B[39;49m\u001B[43mliteral_eval\u001B[49m\u001B[43m)\u001B[49m\n\u001B[1;32m    408\u001B[0m     \u001B[38;5;28;01mreturn\u001B[39;00m ds\n",
      "File \u001B[0;32m~/mambaforge/envs/Mol/lib/python3.8/site-packages/pandas/core/series.py:4630\u001B[0m, in \u001B[0;36mSeries.apply\u001B[0;34m(self, func, convert_dtype, args, **kwargs)\u001B[0m\n\u001B[1;32m   4520\u001B[0m \u001B[38;5;28;01mdef\u001B[39;00m \u001B[38;5;21mapply\u001B[39m(\n\u001B[1;32m   4521\u001B[0m     \u001B[38;5;28mself\u001B[39m,\n\u001B[1;32m   4522\u001B[0m     func: AggFuncType,\n\u001B[0;32m   (...)\u001B[0m\n\u001B[1;32m   4525\u001B[0m     \u001B[38;5;241m*\u001B[39m\u001B[38;5;241m*\u001B[39mkwargs,\n\u001B[1;32m   4526\u001B[0m ) \u001B[38;5;241m-\u001B[39m\u001B[38;5;241m>\u001B[39m DataFrame \u001B[38;5;241m|\u001B[39m Series:\n\u001B[1;32m   4527\u001B[0m \u001B[38;5;250m    \u001B[39m\u001B[38;5;124;03m\"\"\"\u001B[39;00m\n\u001B[1;32m   4528\u001B[0m \u001B[38;5;124;03m    Invoke function on values of Series.\u001B[39;00m\n\u001B[1;32m   4529\u001B[0m \n\u001B[0;32m   (...)\u001B[0m\n\u001B[1;32m   4628\u001B[0m \u001B[38;5;124;03m    dtype: float64\u001B[39;00m\n\u001B[1;32m   4629\u001B[0m \u001B[38;5;124;03m    \"\"\"\u001B[39;00m\n\u001B[0;32m-> 4630\u001B[0m     \u001B[38;5;28;01mreturn\u001B[39;00m \u001B[43mSeriesApply\u001B[49m\u001B[43m(\u001B[49m\u001B[38;5;28;43mself\u001B[39;49m\u001B[43m,\u001B[49m\u001B[43m \u001B[49m\u001B[43mfunc\u001B[49m\u001B[43m,\u001B[49m\u001B[43m \u001B[49m\u001B[43mconvert_dtype\u001B[49m\u001B[43m,\u001B[49m\u001B[43m \u001B[49m\u001B[43margs\u001B[49m\u001B[43m,\u001B[49m\u001B[43m \u001B[49m\u001B[43mkwargs\u001B[49m\u001B[43m)\u001B[49m\u001B[38;5;241;43m.\u001B[39;49m\u001B[43mapply\u001B[49m\u001B[43m(\u001B[49m\u001B[43m)\u001B[49m\n",
      "File \u001B[0;32m~/mambaforge/envs/Mol/lib/python3.8/site-packages/pandas/core/apply.py:1025\u001B[0m, in \u001B[0;36mSeriesApply.apply\u001B[0;34m(self)\u001B[0m\n\u001B[1;32m   1022\u001B[0m     \u001B[38;5;28;01mreturn\u001B[39;00m \u001B[38;5;28mself\u001B[39m\u001B[38;5;241m.\u001B[39mapply_str()\n\u001B[1;32m   1024\u001B[0m \u001B[38;5;66;03m# self.f is Callable\u001B[39;00m\n\u001B[0;32m-> 1025\u001B[0m \u001B[38;5;28;01mreturn\u001B[39;00m \u001B[38;5;28;43mself\u001B[39;49m\u001B[38;5;241;43m.\u001B[39;49m\u001B[43mapply_standard\u001B[49m\u001B[43m(\u001B[49m\u001B[43m)\u001B[49m\n",
      "File \u001B[0;32m~/mambaforge/envs/Mol/lib/python3.8/site-packages/pandas/core/apply.py:1076\u001B[0m, in \u001B[0;36mSeriesApply.apply_standard\u001B[0;34m(self)\u001B[0m\n\u001B[1;32m   1074\u001B[0m     \u001B[38;5;28;01melse\u001B[39;00m:\n\u001B[1;32m   1075\u001B[0m         values \u001B[38;5;241m=\u001B[39m obj\u001B[38;5;241m.\u001B[39mastype(\u001B[38;5;28mobject\u001B[39m)\u001B[38;5;241m.\u001B[39m_values\n\u001B[0;32m-> 1076\u001B[0m         mapped \u001B[38;5;241m=\u001B[39m \u001B[43mlib\u001B[49m\u001B[38;5;241;43m.\u001B[39;49m\u001B[43mmap_infer\u001B[49m\u001B[43m(\u001B[49m\n\u001B[1;32m   1077\u001B[0m \u001B[43m            \u001B[49m\u001B[43mvalues\u001B[49m\u001B[43m,\u001B[49m\n\u001B[1;32m   1078\u001B[0m \u001B[43m            \u001B[49m\u001B[43mf\u001B[49m\u001B[43m,\u001B[49m\n\u001B[1;32m   1079\u001B[0m \u001B[43m            \u001B[49m\u001B[43mconvert\u001B[49m\u001B[38;5;241;43m=\u001B[39;49m\u001B[38;5;28;43mself\u001B[39;49m\u001B[38;5;241;43m.\u001B[39;49m\u001B[43mconvert_dtype\u001B[49m\u001B[43m,\u001B[49m\n\u001B[1;32m   1080\u001B[0m \u001B[43m        \u001B[49m\u001B[43m)\u001B[49m\n\u001B[1;32m   1082\u001B[0m \u001B[38;5;28;01mif\u001B[39;00m \u001B[38;5;28mlen\u001B[39m(mapped) \u001B[38;5;129;01mand\u001B[39;00m \u001B[38;5;28misinstance\u001B[39m(mapped[\u001B[38;5;241m0\u001B[39m], ABCSeries):\n\u001B[1;32m   1083\u001B[0m     \u001B[38;5;66;03m# GH#43986 Need to do list(mapped) in order to get treated as nested\u001B[39;00m\n\u001B[1;32m   1084\u001B[0m     \u001B[38;5;66;03m#  See also GH#25959 regarding EA support\u001B[39;00m\n\u001B[1;32m   1085\u001B[0m     \u001B[38;5;28;01mreturn\u001B[39;00m obj\u001B[38;5;241m.\u001B[39m_constructor_expanddim(\u001B[38;5;28mlist\u001B[39m(mapped), index\u001B[38;5;241m=\u001B[39mobj\u001B[38;5;241m.\u001B[39mindex)\n",
      "File \u001B[0;32m~/mambaforge/envs/Mol/lib/python3.8/site-packages/pandas/_libs/lib.pyx:2834\u001B[0m, in \u001B[0;36mpandas._libs.lib.map_infer\u001B[0;34m()\u001B[0m\n",
      "File \u001B[0;32m~/mambaforge/envs/Mol/lib/python3.8/ast.py:59\u001B[0m, in \u001B[0;36mliteral_eval\u001B[0;34m(node_or_string)\u001B[0m\n\u001B[1;32m     52\u001B[0m \u001B[38;5;250m\u001B[39m\u001B[38;5;124;03m\"\"\"\u001B[39;00m\n\u001B[1;32m     53\u001B[0m \u001B[38;5;124;03mSafely evaluate an expression node or a string containing a Python\u001B[39;00m\n\u001B[1;32m     54\u001B[0m \u001B[38;5;124;03mexpression.  The string or node provided may only consist of the following\u001B[39;00m\n\u001B[1;32m     55\u001B[0m \u001B[38;5;124;03mPython literal structures: strings, bytes, numbers, tuples, lists, dicts,\u001B[39;00m\n\u001B[1;32m     56\u001B[0m \u001B[38;5;124;03msets, booleans, and None.\u001B[39;00m\n\u001B[1;32m     57\u001B[0m \u001B[38;5;124;03m\"\"\"\u001B[39;00m\n\u001B[1;32m     58\u001B[0m \u001B[38;5;28;01mif\u001B[39;00m \u001B[38;5;28misinstance\u001B[39m(node_or_string, \u001B[38;5;28mstr\u001B[39m):\n\u001B[0;32m---> 59\u001B[0m     node_or_string \u001B[38;5;241m=\u001B[39m \u001B[43mparse\u001B[49m\u001B[43m(\u001B[49m\u001B[43mnode_or_string\u001B[49m\u001B[43m,\u001B[49m\u001B[43m \u001B[49m\u001B[43mmode\u001B[49m\u001B[38;5;241;43m=\u001B[39;49m\u001B[38;5;124;43m'\u001B[39;49m\u001B[38;5;124;43meval\u001B[39;49m\u001B[38;5;124;43m'\u001B[39;49m\u001B[43m)\u001B[49m\n\u001B[1;32m     60\u001B[0m \u001B[38;5;28;01mif\u001B[39;00m \u001B[38;5;28misinstance\u001B[39m(node_or_string, Expression):\n\u001B[1;32m     61\u001B[0m     node_or_string \u001B[38;5;241m=\u001B[39m node_or_string\u001B[38;5;241m.\u001B[39mbody\n",
      "File \u001B[0;32m~/mambaforge/envs/Mol/lib/python3.8/ast.py:47\u001B[0m, in \u001B[0;36mparse\u001B[0;34m(source, filename, mode, type_comments, feature_version)\u001B[0m\n\u001B[1;32m     45\u001B[0m     feature_version \u001B[38;5;241m=\u001B[39m \u001B[38;5;241m-\u001B[39m\u001B[38;5;241m1\u001B[39m\n\u001B[1;32m     46\u001B[0m \u001B[38;5;66;03m# Else it should be an int giving the minor version for 3.x.\u001B[39;00m\n\u001B[0;32m---> 47\u001B[0m \u001B[38;5;28;01mreturn\u001B[39;00m \u001B[38;5;28;43mcompile\u001B[39;49m\u001B[43m(\u001B[49m\u001B[43msource\u001B[49m\u001B[43m,\u001B[49m\u001B[43m \u001B[49m\u001B[43mfilename\u001B[49m\u001B[43m,\u001B[49m\u001B[43m \u001B[49m\u001B[43mmode\u001B[49m\u001B[43m,\u001B[49m\u001B[43m \u001B[49m\u001B[43mflags\u001B[49m\u001B[43m,\u001B[49m\n\u001B[1;32m     48\u001B[0m \u001B[43m               \u001B[49m\u001B[43m_feature_version\u001B[49m\u001B[38;5;241;43m=\u001B[39;49m\u001B[43mfeature_version\u001B[49m\u001B[43m)\u001B[49m\n",
      "\u001B[0;31mKeyboardInterrupt\u001B[0m: "
     ]
    }
   ],
   "execution_count": 25
  },
  {
   "metadata": {},
   "cell_type": "code",
   "source": "save_data(\"keller\",df_keller_cor_pom,df_keller_cor_alva,df_keller_mse_pom,df_keller_mse_alva,corrs_molfomer,mses_molformer)",
   "outputs": [],
   "execution_count": null
  },
  {
   "cell_type": "markdown",
   "metadata": {},
   "source": "## Sagar"
  },
  {
   "metadata": {},
   "cell_type": "markdown",
   "source": "### Representations\n"
  },
  {
   "cell_type": "code",
   "metadata": {
    "collapsed": false,
    "jupyter": {
     "outputs_hidden": false
    },
    "pycharm": {
     "name": "#%%\n"
    },
    "ExecuteTime": {
     "start_time": "2024-06-28T10:14:26.474352Z"
    }
   },
   "source": [
    "input_file_sagar_pom = base_path+'curated_datasets/embeddings/pom/sagar_pom_embeddings_Apr17.csv'\n",
    "\n",
    "input_file_sagar_alva = base_path+'curated_datasets/alva/sagar_molecules_alva_17Apr.csv'\n",
    "input_file_sagar_molformer = base_path+'curated_datasets/embeddings/molformer/sagar_molformer_embeddings_'\n",
    "\n",
    "\n",
    "corrs_molfomer_sagar,mses_molformer_sagar,df_sagar_cor_pom,df_sagar_mse_pom,df_sagar_cor_alva,df_sagar_mse_alva =compute_correlation(times , n_components,input_file_sagar_molformer, input_file_sagar_pom,input_file_sagar_alva, ds=\"sagar\")"
   ],
   "outputs": [],
   "execution_count": null
  },
  {
   "metadata": {},
   "cell_type": "code",
   "outputs": [],
   "execution_count": null,
   "source": ""
  },
  {
   "cell_type": "code",
   "metadata": {
    "collapsed": false,
    "jupyter": {
     "outputs_hidden": false
    },
    "pycharm": {
     "name": "#%%\n"
    },
    "ExecuteTime": {
     "start_time": "2024-06-28T10:14:26.474852Z"
    }
   },
   "source": "save_data(\"sagar\",df_sagar_cor_pom,df_sagar_cor_alva,df_sagar_mse_pom,df_sagar_mse_alva,corrs_molfomer_sagar,mses_molformer_sagar)\n",
   "outputs": [],
   "execution_count": null
  },
  {
   "cell_type": "code",
   "metadata": {
    "ExecuteTime": {
     "start_time": "2024-06-28T10:14:26.476956Z"
    }
   },
   "source": [
    "min_max_df =count_df_x_keller(times ,per_descritor=False)\n",
    "min_max_df.to_csv('keller_min_max.csv', index=True)   \n",
    "\n",
    "min_max_df =count_df_x_keller(times ,per_descritor=False,ds=\"sagar\")\n",
    "min_max_df.to_csv('sagar_min_max.csv', index=True)   "
   ],
   "outputs": [],
   "execution_count": null
  },
  {
   "metadata": {},
   "cell_type": "markdown",
   "source": "## Draviensk "
  },
  {
   "metadata": {},
   "cell_type": "markdown",
   "source": "### Representations"
  },
  {
   "metadata": {},
   "cell_type": "code",
   "outputs": [],
   "execution_count": null,
   "source": [
    "input_file_dravinsk_pom = base_path+'curated_datasets/embeddings/pom/dravienks1985App1_pom_embeddings_Apr17.csv'\n",
    "input_file_dravinsk_alva = base_path+'curated_datasets/alva/dravienks1985App1_molecules_alva_17Apr.csv'\n",
    "input_file_dravinsk_molformer = base_path+'curated_datasets/embeddings/molformer/dravienks1985App1_molformer_embeddings_'\n",
    "\n",
    "corrs_molfomer_dravinsk,mses_molformer_dravinsk,df_dravinsk_cor_pom,df_dravinsk_mse_pom,df_dravinsk_cor_alva,df_dravinsk_mse_alva =compute_correlation(times , n_components,input_file_dravinsk_molformer,input_file_dravinsk_pom,input_file_dravinsk_alva,ds=\"dravinsk\")   \n"
   ]
  },
  {
   "metadata": {},
   "cell_type": "code",
   "outputs": [],
   "execution_count": null,
   "source": "save_data(\"dravienks1985App1\",df_dravinsk_cor_pom,df_dravinsk_cor_alva,df_dravinsk_mse_pom,df_dravinsk_mse_alva,corrs_molfomer_dravinsk,mses_molformer_dravinsk)"
  },
  {
   "metadata": {
    "ExecuteTime": {
     "end_time": "2024-07-01T06:04:25.242911Z",
     "start_time": "2024-07-01T06:04:25.061218Z"
    }
   },
   "cell_type": "code",
   "source": [
    "input_file_dravinsk_molformer = base_path+'curated_datasets/embeddings/molformer/dravienks1985App1_molformer_embeddings_13_Apr17.csv'\n",
    "file = pd.read_csv(input_file_dravinsk_molformer)"
   ],
   "outputs": [],
   "execution_count": 9
  },
  {
   "metadata": {
    "ExecuteTime": {
     "end_time": "2024-07-01T06:05:26.025782Z",
     "start_time": "2024-07-01T06:05:11.948682Z"
    }
   },
   "cell_type": "code",
   "source": "",
   "outputs": [],
   "execution_count": 11
  },
  {
   "metadata": {
    "ExecuteTime": {
     "end_time": "2024-07-01T06:05:26.036345Z",
     "start_time": "2024-07-01T06:05:26.028206Z"
    }
   },
   "cell_type": "code",
   "source": "",
   "outputs": [
    {
     "data": {
      "text/plain": [
       "['FRUITY,CITRUS',\n",
       " 'LEMON',\n",
       " 'GRAPEFRUIT',\n",
       " 'ORANGE',\n",
       " 'FRUITY,OTHER THAN CITRUS',\n",
       " 'PINEAPPLE',\n",
       " 'GRAPE JUICE',\n",
       " 'STRAWBERRY',\n",
       " 'APPLE, FRUIT',\n",
       " 'PEAR',\n",
       " 'CANTALOUPE, HONEYDEW MELON',\n",
       " 'PEACH FRUIT',\n",
       " 'BANANA',\n",
       " 'FLORAL',\n",
       " 'ROSE',\n",
       " 'VIOLETS',\n",
       " 'LAVENDER',\n",
       " 'COLOGNE',\n",
       " 'MUSK',\n",
       " 'PERFUMERY',\n",
       " 'FRAGRANT',\n",
       " 'AROMATIC',\n",
       " 'HONEY',\n",
       " 'CHERRY, BERRY',\n",
       " 'ALMOND',\n",
       " 'NAIL POLISH REMOVER',\n",
       " 'NUTTY, WALNUT ETC.',\n",
       " 'SPICY',\n",
       " 'CLOVE',\n",
       " 'CINNAMON',\n",
       " 'LAUREL LEAVES',\n",
       " 'TEA LEAVES',\n",
       " 'SEASONING FOR MEAT',\n",
       " 'BLACK PEPPER',\n",
       " 'GREEN PEPPER',\n",
       " 'DILL',\n",
       " 'CARAWAY',\n",
       " 'OAK WOOD,COGNAC',\n",
       " 'WOODY, RESINOUS',\n",
       " 'CEDARWOOD',\n",
       " 'MOTHBALLS',\n",
       " 'MINTY, PEPPERMINT',\n",
       " 'CAMPHOR',\n",
       " 'EUCALYPTUS',\n",
       " 'CHOCOLATE',\n",
       " 'VANILLA',\n",
       " 'SWEET',\n",
       " 'MAPLE SYRUP',\n",
       " 'CARAMEL',\n",
       " 'MALTY',\n",
       " 'RAISINS',\n",
       " 'MOLASSES',\n",
       " 'COCONUT',\n",
       " 'ANISE, LICORICE',\n",
       " 'ALCOHOLIC',\n",
       " 'ETHERISH, ANAESTHETIC',\n",
       " 'CLEANING FLUID',\n",
       " 'GASOLINE, SOLVENT',\n",
       " 'TURPENTINE, PINE OIL',\n",
       " 'GERANIUM LEAVES',\n",
       " 'CELERY',\n",
       " 'FRESH GREEN VEGETABLES',\n",
       " 'CRUSHED WEEDS',\n",
       " 'CRUSHED GRASS',\n",
       " 'HERBAL, GREEN,CUTGRASS',\n",
       " 'RAW CUCUMBER',\n",
       " 'HAY',\n",
       " 'GRAINY (AS GRAIN)',\n",
       " 'YEASTY',\n",
       " 'BAKERY (FRESH BREAD)',\n",
       " 'SOUR MILK',\n",
       " 'FERMENTED, ROTTEN FRUIT',\n",
       " 'BEERY',\n",
       " 'SOAPY',\n",
       " 'LEATHER',\n",
       " 'CARDBOARD',\n",
       " 'ROPE',\n",
       " 'WET PAPER',\n",
       " 'WET WOOL,WET DOG',\n",
       " 'DIRTY LINEN',\n",
       " 'STALE',\n",
       " 'MUSTY, EARTHY, MOLDY',\n",
       " 'RAW POTATO',\n",
       " 'MOUSE',\n",
       " 'MUSHROOM',\n",
       " 'PEANUT BUTTER',\n",
       " 'BEANY',\n",
       " 'EGGY, FRESH EGGS',\n",
       " 'BARK,BIRCHBARK',\n",
       " 'CORK',\n",
       " 'BURNT,SMOKY',\n",
       " 'FRESH TOBACCO SMOKE',\n",
       " 'INCENSE',\n",
       " 'COFFEE',\n",
       " 'STALE TOBACCO SMOKE',\n",
       " 'BURNT PAPER',\n",
       " 'BURNT MILK',\n",
       " 'BURNT RUBBER',\n",
       " 'TAR',\n",
       " 'CREOSOTE',\n",
       " 'DISINFECTANT, CARBOLIC',\n",
       " 'MEDICINAL',\n",
       " 'CHEMICAL',\n",
       " 'BITTER',\n",
       " 'SHARP, PUNGENT, ACID',\n",
       " 'SOUR, VINEGAR',\n",
       " 'SAUERKRAUT',\n",
       " 'AMMONIA',\n",
       " 'URINE',\n",
       " 'CAT URINE',\n",
       " 'FISHY',\n",
       " 'KIPPERY,SMOKED FISH',\n",
       " 'SEMINAL, SPERM-LIKE',\n",
       " 'NEW RUBBER',\n",
       " 'SOOTY',\n",
       " 'BURNT CANDLE',\n",
       " 'KEROSENE',\n",
       " 'OILY, FATTY',\n",
       " 'BUTTERY, FRESH BUTTER',\n",
       " 'PAINT',\n",
       " 'VARNISH',\n",
       " 'POPCORN',\n",
       " 'FRIED CHICKEN',\n",
       " 'MEATY ( COOKED,GOOD)',\n",
       " 'SOUPY',\n",
       " 'COOKED VEGETABLES',\n",
       " 'RANCID',\n",
       " 'SWEATY',\n",
       " 'CHEESY',\n",
       " 'HOUSEHOLD GAS',\n",
       " 'SULFIDIC',\n",
       " 'GARLIC, ONION',\n",
       " 'METALLIC',\n",
       " 'BLOOD, RAW MEAT',\n",
       " 'ANIMAL',\n",
       " 'SEWER',\n",
       " 'PUTRID, FOUL, DECAYED',\n",
       " 'FECAL, LIKE MANURE',\n",
       " 'CADAVEROUS',\n",
       " 'SICKENING',\n",
       " 'DRY, POWDERY',\n",
       " 'CHALKY',\n",
       " 'LIGHT',\n",
       " 'HEAVY',\n",
       " 'COOL,COOLING',\n",
       " 'WARM']"
      ]
     },
     "execution_count": 12,
     "metadata": {},
     "output_type": "execute_result"
    }
   ],
   "execution_count": 12
  },
  {
   "metadata": {},
   "cell_type": "code",
   "outputs": [],
   "execution_count": null,
   "source": ""
  }
 ],
 "metadata": {
  "kernelspec": {
   "display_name": "Python 3 (ipykernel)",
   "language": "python",
   "name": "python3"
  },
  "language_info": {
   "codemirror_mode": {
    "name": "ipython",
    "version": 3
   },
   "file_extension": ".py",
   "mimetype": "text/x-python",
   "name": "python",
   "nbconvert_exporter": "python",
   "pygments_lexer": "ipython3",
   "version": "3.9.18"
  },
  "toc-autonumbering": true,
  "toc-showmarkdowntxt": true
 },
 "nbformat": 4,
 "nbformat_minor": 4
}

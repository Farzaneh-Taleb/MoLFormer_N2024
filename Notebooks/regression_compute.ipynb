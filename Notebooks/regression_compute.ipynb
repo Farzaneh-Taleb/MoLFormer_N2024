{
 "cells": [
  {
   "cell_type": "markdown",
   "metadata": {
    "pycharm": {
     "name": "#%% md\n"
    },
    "tags": []
   },
   "source": [
    "# Load checkpoint and imports"
   ]
  },
  {
   "cell_type": "code",
   "metadata": {
    "pycharm": {
     "name": "#%%\n"
    },
    "ExecuteTime": {
     "end_time": "2024-07-25T05:35:37.995665Z",
     "start_time": "2024-07-25T05:35:37.985435Z"
    }
   },
   "source": [
    "import sys\n",
    "import warnings\n",
    "warnings.filterwarnings('ignore')\n",
    "# !{sys.executable} -m pip i\\nstall seaborn"
   ],
   "outputs": [],
   "execution_count": 1
  },
  {
   "metadata": {
    "ExecuteTime": {
     "end_time": "2024-07-25T05:37:41.255185Z",
     "start_time": "2024-07-25T05:37:41.250608Z"
    }
   },
   "cell_type": "code",
   "source": [
    "parent_dir = \"/Midgard/home/farzantn/phd/Olfaction/MoLFormer_N2024\"\n",
    "# parent_dir=\"/Volumes/work/phd/MoLFormer_N2024\"\n",
    "\n",
    "sys.path.append(parent_dir)\n",
    "parent_dir=\"/Midgard/home/farzantn/mambaforge/envs/MolTran_CUDA11_cuda/lib/python3.8\"\n",
    "sys.path.append(parent_dir)"
   ],
   "outputs": [],
   "execution_count": 8
  },
  {
   "cell_type": "code",
   "metadata": {
    "collapsed": false,
    "jupyter": {
     "outputs_hidden": false
    },
    "pycharm": {
     "name": "#%%\n"
    },
    "ExecuteTime": {
     "end_time": "2024-07-25T05:38:27.755199Z",
     "start_time": "2024-07-25T05:37:41.572573Z"
    }
   },
   "source": [
    "import pandas as pd\n",
    "import numpy as np\n",
    "from sklearn.model_selection import cross_validate,train_test_split\n",
    "import ast\n",
    "from sklearn.metrics import roc_auc_score, mean_squared_error\n",
    "import scipy\n",
    "\n",
    "base_path = '/local_storage/datasets/farzaneh/alignment_olfaction_datasets/'\n",
    "# base_path = '../../../../T5 EVO/alignment_olfaction_datasets/'\n",
    "from utils.util_alignment import set_seeds,grand_average,average_over_subject\n",
    "from utils.prepare_datasets import prepare_dataset,select_features\n",
    "from utils.helper_methods import custom_linear_regression,pipeline_regression,metrics_per_descritor\n",
    "from constants import *"
   ],
   "outputs": [
    {
     "name": "stderr",
     "output_type": "stream",
     "text": [
      "Skipped loading some Tensorflow models, missing a dependency. No module named 'tensorflow'\n",
      "Skipped loading modules with pytorch-geometric dependency, missing a dependency. No module named 'torch_geometric'\n",
      "Skipped loading modules with pytorch-geometric dependency, missing a dependency. cannot import name 'DMPNN' from 'deepchem.models.torch_models' (/Midgard/home/farzantn/mambaforge/envs/Mol/lib/python3.8/site-packages/deepchem/models/torch_models/__init__.py)\n",
      "Skipped loading some Jax models, missing a dependency. No module named 'jax'\n"
     ]
    },
    {
     "name": "stdout",
     "output_type": "stream",
     "text": [
      "Mol\n"
     ]
    }
   ],
   "execution_count": 9
  },
  {
   "cell_type": "code",
   "metadata": {
    "pycharm": {
     "name": "#%%\n"
    },
    "ExecuteTime": {
     "end_time": "2024-07-25T05:38:27.861310Z",
     "start_time": "2024-07-25T05:38:27.757652Z"
    }
   },
   "source": [
    "seed= 2024\n",
    "set_seeds(seed)"
   ],
   "outputs": [],
   "execution_count": 10
  },
  {
   "cell_type": "code",
   "metadata": {
    "collapsed": false,
    "jupyter": {
     "outputs_hidden": false
    },
    "pycharm": {
     "name": "#%%\n"
    },
    "ExecuteTime": {
     "end_time": "2024-07-25T05:38:27.866639Z",
     "start_time": "2024-07-25T05:38:27.863130Z"
    }
   },
   "source": [
    "times=30\n",
    "n_components=20"
   ],
   "outputs": [],
   "execution_count": 11
  },
  {
   "cell_type": "markdown",
   "metadata": {
    "collapsed": false,
    "jupyter": {
     "outputs_hidden": false
    },
    "pycharm": {
     "name": "#%% md\n"
    }
   },
   "source": [
    "# Helper Methods"
   ]
  },
  {
   "cell_type": "code",
   "metadata": {
    "collapsed": false,
    "jupyter": {
     "outputs_hidden": false
    },
    "pycharm": {
     "name": "#%%\n"
    },
    "ExecuteTime": {
     "end_time": "2024-07-25T05:38:27.874556Z",
     "start_time": "2024-07-25T05:38:27.869848Z"
    }
   },
   "source": [
    "# def literal_eval_list(list_string):\n",
    "#     list_string_temp=list_string.values.tolist()\n",
    "#     list_string_all = []\n",
    "#     for value in list_string_temp:\n",
    "#         list_string_all.append(ast.literal_eval(value))\n",
    "#     \n",
    "#     list_numpy = np.asarray(list_string_all)\n",
    "#     return list_numpy\n"
   ],
   "outputs": [],
   "execution_count": 12
  },
  {
   "metadata": {
    "ExecuteTime": {
     "end_time": "2024-07-25T05:38:27.884057Z",
     "start_time": "2024-07-25T05:38:27.876751Z"
    }
   },
   "cell_type": "code",
   "source": "",
   "outputs": [],
   "execution_count": 13
  },
  {
   "metadata": {
    "ExecuteTime": {
     "end_time": "2024-07-25T05:38:27.892974Z",
     "start_time": "2024-07-25T05:38:27.885768Z"
    }
   },
   "cell_type": "code",
   "source": "",
   "outputs": [],
   "execution_count": 14
  },
  {
   "cell_type": "code",
   "metadata": {
    "collapsed": false,
    "jupyter": {
     "outputs_hidden": false
    },
    "pycharm": {
     "name": "#%%\n"
    },
    "ExecuteTime": {
     "end_time": "2024-07-25T05:38:27.901600Z",
     "start_time": "2024-07-25T05:38:27.894677Z"
    }
   },
   "source": [
    "\n",
    "    \n",
    "    "
   ],
   "outputs": [],
   "execution_count": 15
  },
  {
   "cell_type": "code",
   "metadata": {
    "collapsed": false,
    "jupyter": {
     "outputs_hidden": false
    },
    "pycharm": {
     "name": "#%%\n"
    },
    "ExecuteTime": {
     "end_time": "2024-07-25T05:38:27.909763Z",
     "start_time": "2024-07-25T05:38:27.903334Z"
    }
   },
   "source": "",
   "outputs": [],
   "execution_count": 16
  },
  {
   "metadata": {
    "ExecuteTime": {
     "end_time": "2024-07-25T05:38:27.920864Z",
     "start_time": "2024-07-25T05:38:27.911457Z"
    }
   },
   "cell_type": "code",
   "source": [
    "def train_and_eval(data_groupbyCID,times,n_components=None):\n",
    "    mserrorrs_corssvalidated = []\n",
    "    correlations_corssvalidated = []\n",
    "    predicteds = []\n",
    "    y_tests = []\n",
    "    runs = []\n",
    "    CIDs = []\n",
    "    \n",
    "    X=np.asarray(data_groupbyCID.embeddings.values.tolist())\n",
    "    # if y_i is not None:\n",
    "    #     y=np.asarray(data_groupbyCID.y.values.tolist())[:,y_i].reshape(-1,1)\n",
    "    # else:\n",
    "    y=np.asarray(data_groupbyCID.y.values.tolist())\n",
    "    for i in range(times):\n",
    "        X_train, X_test, y_train, y_test,CID_train, CID_test = train_test_split(X, y,data_groupbyCID.CID, test_size=0.2, random_state=seed+i) \n",
    "        linreg,X_test = pipeline_regression(X_train,y_train,X_test,custom_linear_regression,seed,n_components=n_components)\n",
    "        \n",
    "        predicted, mseerrors, correlations=metrics_per_descritor(X_test,y_test,linreg)\n",
    "        mserrorrs_corssvalidated.append(mseerrors)\n",
    "        correlations_corssvalidated.append(correlations)\n",
    "        predicteds.extend(predicted)\n",
    "        y_tests.extend(y_test)\n",
    "        runs.extend([i]*len(y_test))\n",
    "        CIDs.extend(CID_test)\n",
    "        \n",
    "        \n",
    "    return CIDs,predicteds,y_tests,runs,mserrorrs_corssvalidated, correlations_corssvalidated"
   ],
   "outputs": [],
   "execution_count": 17
  },
  {
   "cell_type": "code",
   "metadata": {
    "ExecuteTime": {
     "end_time": "2024-07-25T05:40:52.868226Z",
     "start_time": "2024-07-25T05:40:52.858523Z"
    }
   },
   "source": [
    "def min_max_extraction(data_groupbyCID,times,y_i=None):\n",
    "    min_max_dfs = []\n",
    "    X=np.asarray(data_groupbyCID.embeddings.values.tolist())\n",
    "    if y_i is not None:\n",
    "        y=np.asarray(data_groupbyCID.y.values.tolist())[:,y_i].reshape(-1,1)\n",
    "    else:\n",
    "       y=np.asarray(data_groupbyCID.y.values.tolist())\n",
    "    for i in range(times):\n",
    "        \n",
    "        X_train, X_test, y_train, y_test = train_test_split(X, y, test_size=0.2, random_state=seed+i)  \n",
    "        # print(X_train.shape,\"x shape\")\n",
    "        # print(y_train.shape,\"y shape\")\n",
    "        df = pd.DataFrame(y_test)\n",
    "\n",
    "        # Step 3: Extract the min and max values for each column\n",
    "        min_values = df.min()\n",
    "        max_values = df.max()\n",
    "\n",
    "       # Create DataFrames for min and max values with an additional column for the label\n",
    "        min_df = pd.DataFrame(min_values).T\n",
    "        min_df['Type'] = 'Min'\n",
    "    \n",
    "        max_df = pd.DataFrame(max_values).T\n",
    "        max_df['Type'] = 'Max'\n",
    "    \n",
    "        # Concatenate the min and max DataFrames\n",
    "        min_max_df = pd.concat([min_df, max_df])\n",
    "        min_max_df['Dataset'] = i\n",
    "    \n",
    "        # Append the concatenated DataFrame to the lis\n",
    "    \n",
    "        # Append the min_max_df to the list\n",
    "        min_max_dfs.append(min_max_df)\n",
    "    \n",
    "    final_df = pd.concat(min_max_dfs)   \n",
    "        # Step 4: Create a new DataFrame with the min and max values per column\n",
    "    final_df.set_index(['Dataset', 'Type'], inplace=True)\n",
    "    return final_df\n",
    "    # min_max_df = pd.DataFrame([min_values, max_values], index=['Min', 'Max'])\n",
    "        \n"
   ],
   "outputs": [],
   "execution_count": 28
  },
  {
   "cell_type": "code",
   "metadata": {
    "collapsed": false,
    "jupyter": {
     "outputs_hidden": false
    },
    "pycharm": {
     "name": "#%%\n"
    },
    "ExecuteTime": {
     "end_time": "2024-07-25T05:38:27.948196Z",
     "start_time": "2024-07-25T05:38:27.935688Z"
    }
   },
   "source": [
    "def pipeline(model_name,input_file,input_file_alva=None,times=30,n_components=None,ds=\"keller\",count=False):\n",
    "    # input_file_keller = base_path+'openpom/data/curated_datasets/embeddings/molformer/keller_molformer_embeddings_13_Apr17.csv'\n",
    "    df=pd.read_csv(input_file)\n",
    "    df=prepare_dataset(df,'embeddings','y')\n",
    "    df_groupbyCID=grand_average(df,ds)\n",
    "    df_groupbyCIDSubject=average_over_subject(df,ds)\n",
    "    \n",
    "    \n",
    "\n",
    "    if input_file_alva is not None:\n",
    "        \n",
    "        df_alva = select_features(input_file_alva)\n",
    "        df_alva = df_alva.drop_duplicates(subset=['CID'])\n",
    "        del df_groupbyCID['embeddings']\n",
    "        df_groupbyCID= pd.merge(df_alva,df_groupbyCID,on=\"CID\")\n",
    "    \n",
    "        \n",
    "    \n",
    "    if count:\n",
    "        min_max_df=min_max_extraction(df_groupbyCID,times)\n",
    "        return min_max_df\n",
    "    else:\n",
    "        CIDs, predicteds, y_tests,runs, mserrorrs_df_corssvalidated, correlations_df_corssvalidated=train_and_eval(df_groupbyCID,times=times,n_components=n_components)\n",
    "   \n",
    "    mserrorrs_corssvalidated_df,statistics_correlations_corssvalidated_df,pvalues_correlations_corssvalidated_df=post_process_results_df(mserrorrs_df_corssvalidated, correlations_df_corssvalidated)\n",
    "    df_df_mse= pd.DataFrame(mserrorrs_corssvalidated_df)\n",
    "    # df_df_mse = df_df_mse.T\n",
    "    df_df_mse['model'] = model_name\n",
    "    df_df_cor= pd.DataFrame(statistics_correlations_corssvalidated_df)\n",
    "    df_df_cor['model'] = model_name\n",
    "    print(np.asarray(predicteds).shape,np.asarray(y_tests).shape, np.asarray(runs).shape, np.asarray(CIDs).shape)\n",
    "    \n",
    "    # I want to make a dataframe with the predicted values, the true values and the run number for each prediction, (192, 22) (192, 22) (192,) should be converted to (196, 22+22+1), \n",
    "    df_predictions = pd.DataFrame(np.concatenate([np.asarray(CIDs).reshape(-1,1),np.asarray(predicteds),np.asarray(y_tests),np.asarray(runs).reshape(-1,1)],axis=1))\n",
    "    df_predictions['model'] = model_name\n",
    "    #and add a prefix to the columns to indicate the predicted vs true values\n",
    "    tasks_length = len(sagar_tasks) if ds.startswith('sagar') else len(keller_tasks)\n",
    "    df_predictions.columns = ['CID']+[str(i)+'_predicted' for i in range(tasks_length)]+[str(i)+'_true' for i in range(tasks_length,int(tasks_length*2))]+['run']+['model']\n",
    "    \n",
    "    # df_predictions = pd.DataFrame(np.concatenate([np.asarray(predicteds),np.asarray(y_tests),np.asarray(runs).reshape(-1,1)],axis=1))\n",
    "    # df_predictions['model'] = model_name\n",
    "    \n",
    "    \n",
    "    return df_predictions,df_df_mse, df_df_cor"
   ],
   "outputs": [],
   "execution_count": 19
  },
  {
   "cell_type": "code",
   "metadata": {
    "collapsed": false,
    "jupyter": {
     "outputs_hidden": false
    },
    "pycharm": {
     "name": "#%%\n"
    },
    "ExecuteTime": {
     "end_time": "2024-07-25T05:38:27.959006Z",
     "start_time": "2024-07-25T05:38:27.949998Z"
    }
   },
   "source": [
    "def compute_correlation(times,n_components,input_file_molformer,input_file_pom,input_file_alva,input_file_molformerfinetuned,ds=\"keller\"):\n",
    "    df_keller_cor_pom, df_keller_mse_pom, df_keller_cor_alva, df_keller_mse_alva, df_predictions_pom,df_predictions_alva = None,None,None,None,None,None\n",
    "    \n",
    "    # df_predictions_pom, df_keller_mse_pom, df_keller_cor_pom = pipeline('pom',input_file_pom,times=times,n_components=n_components,ds=ds)\n",
    "    # \n",
    "    # df_predictions_alva,df_keller_mse_alva, df_keller_cor_alva = pipeline('alva',input_file_pom,input_file_alva,times=times,n_components=n_components,ds=ds)\n",
    "    # \n",
    "    corrs_molformer=[]\n",
    "    corrs_molformerfinetuned = [] \n",
    "    # \n",
    "    mses_molformer=[]\n",
    "    mses_molformerfinetuned=[]\n",
    "    # \n",
    "    \n",
    "    df_predictions_molformers=[]\n",
    "    df_predictions_molformerfinetuneds=[]\n",
    "\n",
    "    for i in [0,1,2,3,4,5,6,7,8,9,10,11,13]:\n",
    "\n",
    "    # for i in [0,1]:\n",
    "        # input_file_keller_molformer = input_file_molformer+str(i)+'_Apr17.csv'\n",
    "        # df_predictions_molformer,df_keller_mse_molformer, df_keller_cor_molformer = pipeline('molformer',input_file_keller_molformer,times=times,n_components=n_components,ds=ds)\n",
    "        # df_predictions_molformer['layer'] = i\n",
    "        # corrs_molformer.append(df_keller_cor_molformer)\n",
    "        # mses_molformer.append(df_keller_mse_molformer)\n",
    "        # df_predictions_molformers.append(df_predictions_molformer)\n",
    "\n",
    "\n",
    "\n",
    "        input_file_keller_molformerfinetuned = input_file_molformerfinetuned+str(i)+'_model_1_Apr17.csv'\n",
    "   \n",
    "\n",
    "        df_predictions_molformerfinetuned,df_keller_mse_molformerfinetuned, df_keller_cor_molformerfinetuned = pipeline('molformerfinetuned',input_file_keller_molformerfinetuned,times=times,n_components=n_components,ds=ds)\n",
    "        df_predictions_molformerfinetuned['layer'] = i\n",
    "        print(\"df_keller_molformer\", df_keller_cor_molformerfinetuned.columns.values.tolist())\n",
    "        corrs_molformerfinetuned.append(df_keller_cor_molformerfinetuned)\n",
    "        mses_molformerfinetuned.append(df_keller_mse_molformerfinetuned)\n",
    "        df_predictions_molformerfinetuneds.append(df_predictions_molformerfinetuned)\n",
    "    \n",
    "       \n",
    "\n",
    "    # df_predictions_pom['layer'] = 13\n",
    "    # df_predictions_alva['layer'] = 13\n",
    "\n",
    "    return corrs_molformer,mses_molformer,df_keller_cor_pom,df_keller_mse_pom,df_keller_cor_alva,df_keller_mse_alva,corrs_molformerfinetuned,mses_molformerfinetuned,df_predictions_molformers,df_predictions_pom,df_predictions_alva,df_predictions_molformerfinetuneds"
   ],
   "outputs": [],
   "execution_count": 20
  },
  {
   "cell_type": "code",
   "metadata": {
    "ExecuteTime": {
     "end_time": "2024-07-25T05:39:51.834395Z",
     "start_time": "2024-07-25T05:39:51.828258Z"
    }
   },
   "source": [
    "def count_df_x_keller(times , ds=\"keller\"):\n",
    "\n",
    "    # for i in [0,13]:\n",
    "    if ds==\"keller\":\n",
    "        input_file_keller_molformer = base_path+'curated_datasets/embeddings/molformer/keller_molformer_embeddings_'+str(13)+'_Apr17.csv'\n",
    "        min_max_df = pipeline('molformer',input_file_keller_molformer,times=times,n_components=n_components,count=True)\n",
    "    elif ds==\"sagar\":\n",
    "        input_file_sagar_molformer = base_path+'curated_datasets/embeddings/molformer/sagar_molformer_embeddings_'+str(13)+'_Apr17.csv'\n",
    "        min_max_df = pipeline('molformer',input_file_sagar_molformer,times=times,n_components=n_components,ds=\"sagar\",count=True)\n",
    "\n",
    "\n",
    "\n",
    "\n",
    "    return min_max_df"
   ],
   "outputs": [],
   "execution_count": 26
  },
  {
   "cell_type": "code",
   "metadata": {
    "collapsed": false,
    "jupyter": {
     "outputs_hidden": false
    },
    "pycharm": {
     "name": "#%%\n"
    },
    "ExecuteTime": {
     "end_time": "2024-07-25T05:38:27.969810Z",
     "start_time": "2024-07-25T05:38:27.965511Z"
    }
   },
   "source": [
    "def post_process_tocsv(corrs,tasks,title):\n",
    "    corrs[0][\"layer\"]=0\n",
    "    corrss = corrs[0]\n",
    "    for i in range(1,13):\n",
    "        corrs[i][\"layer\"] = i\n",
    "        corrss  = pd.concat([corrss, corrs[i]])\n",
    "        print(\"i\", i )\n",
    "    del corrss['model']\n",
    "    print(corrss.columns.values.tolist(),\"columns\")\n",
    "    corrss.columns = tasks+[\"layer\"]    \n",
    "    corrss['model']=title\n",
    "    return corrss"
   ],
   "outputs": [],
   "execution_count": 22
  },
  {
   "cell_type": "code",
   "metadata": {
    "collapsed": false,
    "jupyter": {
     "outputs_hidden": false
    },
    "pycharm": {
     "name": "#%%\n"
    }
   },
   "source": [
    "def save_data(ds,df_cor_pom,df_cor_alva,df_mse_pom,df_mse_alva,corrs_molfomer,mses_molformer, corrs_molfomerfinetuned,mses_molfomerfinetuned):\n",
    "    if ds==\"keller\":\n",
    "        tasks= keller_tasks\n",
    "    elif ds==\"sagar\":\n",
    "        tasks= sagar_tasks\n",
    "    else:\n",
    "        raise ValueError(\"Invalid dataset\")\n",
    "    \n",
    "    # df_cor_pom.columns = tasks+[\"model\"]\n",
    "    # df_cor_pom.to_csv('df_'+ds+'_cor_pom.csv', index=False)  \n",
    "    # \n",
    "    # df_mse_pom.columns  = tasks+[\"model\"]\n",
    "    # df_mse_pom.to_csv('df_'+ds+'_mse_pom.csv', index=False)  \n",
    "    # \n",
    "    # df_cor_alva.columns = tasks+[\"model\"]\n",
    "    # df_cor_alva.to_csv('df_'+ds+'_cor_alva.csv', index=False)\n",
    "    #\n",
    "    # df_mse_alva.columns = tasks+[\"model\"]\n",
    "    # df_mse_alva.to_csv('df_'+ds+'_mse_alva.csv', index=False)\n",
    "    # \n",
    "    # corrs_molfomer_df = post_process_tocsv(corrs_molfomer,tasks)\n",
    "    # corrs_molfomer_df.to_csv('df_'+ds+'_corrs_molfomer.csv', index=False)   \n",
    "    # \n",
    "    # mses_molformer_df = post_process_tocsv(mses_molformer,tasks)\n",
    "    # mses_molformer_df.to_csv('df_'+ds+'_mses_molfomer.csv', index=False)   \n",
    "    # \n",
    "    # corrs_molfomer_df = post_process_tocsv(corrs_molfomer,tasks)\n",
    "    # corrs_molfomer_df.to_csv('df_'+ds+'_corrs_molfomer.csv', index=False)   \n",
    "    # \n",
    "    # mses_molformer_df = post_process_tocsv(mses_molformer,tasks)\n",
    "    # mses_molformer_df.to_csv('df_'+ds+'_mses_molfomer.csv', index=False)\n",
    "\n",
    "\n",
    "    # \n",
    "    # df_cor_alva.columns = tasks+[\"model\"]\n",
    "    # df_cor_alva.to_csv('df_'+ds+'_cor_mordred.csv', index=False)\n",
    "    # \n",
    "    # df_mse_alva.columns = tasks+[\"model\"]\n",
    "    # df_mse_alva.to_csv('df_'+ds+'_mse_mordred.csv', index=False)\n",
    "\n",
    "    corrs_molfomerfinetuned_df = post_process_tocsv(corrs_molfomerfinetuned,tasks,\"molformerfinetuned\")\n",
    "    corrs_molfomerfinetuned_df.to_csv('df_'+ds+'_corrs_molfomerfinetuned.csv', index=False)   \n",
    "\n",
    "    mses_molfomerfinetuned_df = post_process_tocsv(mses_molfomerfinetuned,tasks,\"molformerfinetuned\")\n",
    "    mses_molfomerfinetuned_df.to_csv('df_'+ds+'_mses_molfomerfinetuned.csv', index=False)   "
   ],
   "outputs": [],
   "execution_count": null
  },
  {
   "metadata": {},
   "cell_type": "code",
   "source": "",
   "outputs": [],
   "execution_count": null
  },
  {
   "metadata": {},
   "cell_type": "code",
   "source": [
    "def concat_dfs(df_predictions_molformers,df_predictions_pom,df_predictions_alva):\n",
    "    df_predictions = pd.concat([df_predictions_molformers[0],df_predictions_molformers[1],df_predictions_molformers[2],df_predictions_molformers[3],df_predictions_molformers[4],df_predictions_molformers[5],df_predictions_molformers[6],df_predictions_molformers[7],df_predictions_molformers[8],df_predictions_molformers[9],df_predictions_molformers[10],df_predictions_molformers[11],df_predictions_molformers[12],df_predictions_pom,df_predictions_alva])\n",
    "    return df_predictions"
   ],
   "outputs": [],
   "execution_count": null
  },
  {
   "cell_type": "markdown",
   "metadata": {
    "collapsed": false,
    "jupyter": {
     "outputs_hidden": false
    },
    "pycharm": {
     "name": "#%% md\n"
    }
   },
   "source": [
    "# Extracting Representations"
   ]
  },
  {
   "cell_type": "markdown",
   "metadata": {
    "collapsed": false,
    "jupyter": {
     "outputs_hidden": false
    },
    "pycharm": {
     "name": "#%% md\n"
    }
   },
   "source": [
    "## Keller"
   ]
  },
  {
   "cell_type": "markdown",
   "metadata": {},
   "source": [
    "### Representations"
   ]
  },
  {
   "cell_type": "code",
   "metadata": {
    "collapsed": false,
    "jupyter": {
     "outputs_hidden": false
    },
    "pycharm": {
     "name": "#%%\n"
    },
    "ExecuteTime": {
     "end_time": "2024-07-21T17:14:25.022156Z",
     "start_time": "2024-07-21T16:59:59.606440Z"
    }
   },
   "source": [
    "input_file_keller_pom = base_path+'curated_datasets/embeddings/pom/keller_pom_embeddings_Apr17.csv'\n",
    "input_file_keller_dam = base_path+'curated_datasets/alva/keller_molecules_alva_17Apr.csv'\n",
    "input_file_keller_dam_mordred = base_path+'curated_datasets/mordred/keller_molecules_mordred_17Apr.csv'\n",
    "input_file_keller_molformer = base_path+'curated_datasets/embeddings/molformer/keller_molformer_embeddings_'\n",
    "input_file_keller_molformerfinetuned = base_path+'curated_datasets/embeddings/molformerfinetuned/keller_molformerfinetuned_embeddings_'\n",
    "corrs_molfomer,mses_molformer,df_keller_cor_pom,df_keller_mse_pom,df_keller_cor_alva,df_keller_mse_alva,df_keller_cor_molformerfinetuned,df_keller_mse_molformerfinetuned,df_predictions_molformers,df_predictions_pom,df_predictions_alva,df_predictions_molformerfinetuned =compute_correlation(times, n_components,input_file_keller_molformer,input_file_keller_pom,input_file_keller_dam_mordred,input_file_keller_molformerfinetuned,ds=\"keller2\")\n",
    "# pd.read_csv(input_file_keller_molformerfinetuned+str(0)+'_model_1_Apr17.csv')\n",
    " "
   ],
   "execution_count": 25,
   "outputs": []
  },
  {
   "metadata": {},
   "cell_type": "code",
   "execution_count": null,
   "source": "",
   "outputs": []
  },
  {
   "metadata": {
    "ExecuteTime": {
     "end_time": "2024-07-17T15:44:53.981171Z",
     "start_time": "2024-07-17T15:44:53.960276Z"
    }
   },
   "cell_type": "code",
   "source": "df_keller_cor_molformerfinetuned",
   "execution_count": 49,
   "outputs": []
  },
  {
   "metadata": {},
   "cell_type": "code",
   "source": [
    "# df_predictions = concat_dfs(df_predictions_molformers,df_predictions_pom,df_predictions_alva)\n",
    "# save_predictions(df_predictions,ds=\"keller\")"
   ],
   "execution_count": null,
   "outputs": []
  },
  {
   "metadata": {},
   "cell_type": "code",
   "source": "# pd.read_csv('kellerpredictions.csv')",
   "execution_count": null,
   "outputs": []
  },
  {
   "metadata": {
    "ExecuteTime": {
     "end_time": "2024-07-21T17:14:25.071699Z",
     "start_time": "2024-07-21T17:14:25.023950Z"
    }
   },
   "cell_type": "code",
   "source": "save_data(\"keller\",df_keller_cor_pom,df_keller_cor_alva,df_keller_mse_pom,df_keller_mse_alva,corrs_molfomer,mses_molformer,df_keller_cor_molformerfinetuned,df_keller_mse_molformerfinetuned)",
   "execution_count": 26,
   "outputs": []
  },
  {
   "metadata": {
    "ExecuteTime": {
     "end_time": "2024-07-25T05:41:32.188016Z",
     "start_time": "2024-07-25T05:41:04.864895Z"
    }
   },
   "cell_type": "code",
   "source": [
    "min_max_df =count_df_x_keller(times )\n",
    "min_max_df.to_csv('keller_min_max.csv', index=True)"
   ],
   "outputs": [],
   "execution_count": 29
  },
  {
   "cell_type": "markdown",
   "metadata": {},
   "source": "## Sagar"
  },
  {
   "metadata": {},
   "cell_type": "markdown",
   "source": "### Representations\n"
  },
  {
   "cell_type": "code",
   "metadata": {
    "collapsed": false,
    "jupyter": {
     "outputs_hidden": false
    },
    "pycharm": {
     "name": "#%%\n"
    },
    "ExecuteTime": {
     "end_time": "2024-07-21T18:34:18.316911Z",
     "start_time": "2024-07-21T18:32:02.150199Z"
    }
   },
   "source": [
    "input_file_sagar_pom = base_path+'curated_datasets/embeddings/pom/sagar_pom_embeddings_Apr17.csv'\n",
    "\n",
    "input_file_sagar_alva = base_path+'curated_datasets/alva/sagar_molecules_alva_17Apr.csv'\n",
    "input_file_sagar_mordred = base_path+'curated_datasets/mordred/sagar_molecules_mordred_17Apr.csv'\n",
    "input_file_sagar_molformer = base_path+'curated_datasets/embeddings/molformer/sagar_molformer_embeddings_'\n",
    "input_file_sagar_molformerfinetuned = base_path+'curated_datasets/embeddings/molformerfinetuned/sagar_molformerfinetuned_embeddings_'\n",
    "\n",
    "\n",
    "corrs_molfomer_sagar,mses_molformer_sagar,df_sagar_cor_pom,df_sagar_mse_pom,df_sagar_cor_alva,df_sagar_mse_alva,df_sagar_cor_molformerfinetuned,df_sagar_mse_molformerfinetuned,df_sagar_predictions_molformers,df_sagar_predictions_pom,df_sagar_predictions_alva ,df_sagar_predictions_molformerfinetuned=compute_correlation(times , n_components,input_file_sagar_molformer, input_file_sagar_pom,input_file_sagar_mordred,input_file_sagar_molformerfinetuned, ds=\"sagar2\")"
   ],
   "execution_count": 31,
   "outputs": []
  },
  {
   "metadata": {
    "ExecuteTime": {
     "end_time": "2024-07-21T18:17:15.207555Z",
     "start_time": "2024-07-21T18:17:14.939426Z"
    }
   },
   "cell_type": "code",
   "source": "# pd.read_csv(input_file_sagar_molformerfinetuned+str(0)+'_model_1_Apr17.csv')",
   "execution_count": 29,
   "outputs": []
  },
  {
   "metadata": {},
   "cell_type": "code",
   "source": [
    "df_predictions_sagar = concat_dfs(df_sagar_predictions_molformers,df_sagar_predictions_pom,df_sagar_predictions_alva)\n",
    "save_predictions(df_predictions_sagar,ds=\"sagar\")"
   ],
   "execution_count": null,
   "outputs": []
  },
  {
   "cell_type": "code",
   "metadata": {
    "collapsed": false,
    "jupyter": {
     "outputs_hidden": false
    },
    "pycharm": {
     "name": "#%%\n"
    },
    "ExecuteTime": {
     "end_time": "2024-07-21T18:34:18.356167Z",
     "start_time": "2024-07-21T18:34:18.318571Z"
    }
   },
   "source": "save_data(\"sagar\",df_sagar_cor_pom,df_sagar_cor_alva,df_sagar_mse_pom,df_sagar_mse_alva,corrs_molfomer_sagar,mses_molformer_sagar,df_sagar_cor_molformerfinetuned,df_sagar_mse_molformerfinetuned)",
   "execution_count": 32,
   "outputs": []
  },
  {
   "cell_type": "code",
   "metadata": {
    "ExecuteTime": {
     "end_time": "2024-07-25T05:42:11.197019Z",
     "start_time": "2024-07-25T05:42:10.260277Z"
    }
   },
   "source": [
    "min_max_df =count_df_x_keller(times ,ds=\"sagar\")\n",
    "min_max_df.to_csv('sagar_min_max.csv', index=True)   "
   ],
   "outputs": [],
   "execution_count": 31
  },
  {
   "metadata": {},
   "cell_type": "markdown",
   "source": "## Draviensk "
  },
  {
   "metadata": {},
   "cell_type": "markdown",
   "source": "### Representations"
  },
  {
   "metadata": {
    "ExecuteTime": {
     "end_time": "2024-07-21T18:42:47.429146Z",
     "start_time": "2024-07-21T18:42:47.378751Z"
    }
   },
   "cell_type": "code",
   "source": [
    "input_file_dravinsk_pom = base_path+'curated_datasets/embeddings/pom/dravienks1985App1_pom_embeddings_Apr17.csv'\n",
    "input_file_dravinsk_alva = base_path+'curated_datasets/alva/dravienks1985App1_molecules_alva_17Apr.csv'\n",
    "input_file_dravinsk_molformer = base_path+'curated_datasets/embeddings/molformer/dravienks1985App1_molformer_embeddings_'\n",
    "\n",
    "corrs_molfomer_dravinsk,mses_molformer_dravinsk,df_dravinsk_cor_pom,df_dravinsk_mse_pom,df_dravinsk_cor_alva,df_dravinsk_mse_alva =compute_correlation(times , n_components,input_file_dravinsk_molformer,input_file_dravinsk_pom,input_file_dravinsk_alva,ds=\"dravinsk\")   \n"
   ],
   "execution_count": 33,
   "outputs": []
  },
  {
   "metadata": {},
   "cell_type": "code",
   "source": "save_data(\"dravienks1985App1\",df_dravinsk_cor_pom,df_dravinsk_cor_alva,df_dravinsk_mse_pom,df_dravinsk_mse_alva,corrs_molfomer_dravinsk,mses_molformer_dravinsk)",
   "execution_count": null,
   "outputs": []
  },
  {
   "metadata": {},
   "cell_type": "code",
   "source": [
    "input_file_dravinsk_molformer = base_path+'curated_datasets/embeddings/molformer/dravienks1985App1_molformer_embeddings_13_Apr17.csv'\n",
    "file = pd.read_csv(input_file_dravinsk_molformer)"
   ],
   "execution_count": null,
   "outputs": []
  },
  {
   "metadata": {},
   "cell_type": "code",
   "source": "",
   "execution_count": null,
   "outputs": []
  },
  {
   "metadata": {},
   "cell_type": "code",
   "source": "# iffd",
   "execution_count": null,
   "outputs": []
  },
  {
   "metadata": {},
   "cell_type": "code",
   "source": "",
   "execution_count": null,
   "outputs": []
  }
 ],
 "metadata": {
  "kernelspec": {
   "display_name": "Python 3 (ipykernel)",
   "language": "python",
   "name": "python3"
  },
  "language_info": {
   "codemirror_mode": {
    "name": "ipython",
    "version": 3
   },
   "file_extension": ".py",
   "mimetype": "text/x-python",
   "name": "python",
   "nbconvert_exporter": "python",
   "pygments_lexer": "ipython3",
   "version": "3.9.18"
  },
  "toc-autonumbering": true,
  "toc-showmarkdowntxt": true
 },
 "nbformat": 4,
 "nbformat_minor": 4
}

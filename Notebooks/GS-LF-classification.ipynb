{
 "cells": [
  {
   "cell_type": "markdown",
   "metadata": {
    "collapsed": false,
    "jupyter": {
     "outputs_hidden": false
    },
    "pycharm": {
     "name": "#%% md\n"
    }
   },
   "source": [
    "# Load checkpoint and imports"
   ]
  },
  {
   "cell_type": "code",
   "metadata": {
    "collapsed": false,
    "jupyter": {
     "outputs_hidden": false
    },
    "pycharm": {
     "name": "#%%\n"
    },
    "ExecuteTime": {
     "end_time": "2024-06-07T09:15:33.496939Z",
     "start_time": "2024-06-07T09:15:33.492074Z"
    }
   },
   "source": [
    "device_name='cpu'"
   ],
   "outputs": [],
   "execution_count": 1
  },
  {
   "cell_type": "code",
   "metadata": {
    "ExecuteTime": {
     "end_time": "2024-06-07T09:15:35.233400Z",
     "start_time": "2024-06-07T09:15:35.221519Z"
    }
   },
   "source": [
    "# ! conda remove openpom\n",
    "import sys\n",
    "sys.path.remove('/Users/farzaneh/opt/anaconda3/envs/open_pom/lib/python39.zip')"
   ],
   "outputs": [
    {
     "ename": "ValueError",
     "evalue": "list.remove(x): x not in list",
     "output_type": "error",
     "traceback": [
      "\u001B[0;31m---------------------------------------------------------------------------\u001B[0m",
      "\u001B[0;31mValueError\u001B[0m                                Traceback (most recent call last)",
      "Cell \u001B[0;32mIn[2], line 3\u001B[0m\n\u001B[1;32m      1\u001B[0m \u001B[38;5;66;03m# ! conda remove openpom\u001B[39;00m\n\u001B[1;32m      2\u001B[0m \u001B[38;5;28;01mimport\u001B[39;00m \u001B[38;5;21;01msys\u001B[39;00m\n\u001B[0;32m----> 3\u001B[0m \u001B[43msys\u001B[49m\u001B[38;5;241;43m.\u001B[39;49m\u001B[43mpath\u001B[49m\u001B[38;5;241;43m.\u001B[39;49m\u001B[43mremove\u001B[49m\u001B[43m(\u001B[49m\u001B[38;5;124;43m'\u001B[39;49m\u001B[38;5;124;43m/Users/farzaneh/opt/anaconda3/envs/open_pom/lib/python39.zip\u001B[39;49m\u001B[38;5;124;43m'\u001B[39;49m\u001B[43m)\u001B[49m\n",
      "\u001B[0;31mValueError\u001B[0m: list.remove(x): x not in list"
     ]
    }
   ],
   "execution_count": 2
  },
  {
   "cell_type": "code",
   "execution_count": 5,
   "metadata": {
    "collapsed": false,
    "jupyter": {
     "outputs_hidden": false
    },
    "pycharm": {
     "name": "#%%\n"
    }
   },
   "outputs": [
    {
     "name": "stdout",
     "output_type": "stream",
     "text": [
      "['/Volumes/work/phd/Olfaction/molformer-main/notebooks/pretrained_molformer', '/Users/farzaneh/opt/anaconda3/envs/open_pom/lib/python3.9', '/Users/farzaneh/opt/anaconda3/envs/open_pom/lib/python3.9/lib-dynload', '', '/Users/farzaneh/.local/lib/python3.9/site-packages', '/Users/farzaneh/opt/anaconda3/envs/open_pom/lib/python3.9/site-packages', '/Volumes/work/openpom']\n",
      "/Volumes/work/phd/Olfaction/molformer-main/notebooks/pretrained_molformer dsss\n"
     ]
    },
    {
     "ename": "ModuleNotFoundError",
     "evalue": "No module named 'utils'",
     "output_type": "error",
     "traceback": [
      "\u001B[0;31m---------------------------------------------------------------------------\u001B[0m",
      "\u001B[0;31mModuleNotFoundError\u001B[0m                       Traceback (most recent call last)",
      "Cell \u001B[0;32mIn[5], line 26\u001B[0m\n\u001B[1;32m     21\u001B[0m \u001B[38;5;28;01mimport\u001B[39;00m \u001B[38;5;21;01mos\u001B[39;00m\u001B[38;5;241m,\u001B[39m \u001B[38;5;21;01msys\u001B[39;00m\n\u001B[1;32m     23\u001B[0m \u001B[38;5;66;03m# dir_path = os.path.dirname(os.path.realpath(__file__))\u001B[39;00m\n\u001B[1;32m     24\u001B[0m \u001B[38;5;66;03m# parent_dir_path = os.path.abspath(os.path.join(dir_path, os.pardir))\u001B[39;00m\n\u001B[1;32m     25\u001B[0m \u001B[38;5;66;03m# sys.path.insert(0, parent_dir_path)\u001B[39;00m\n\u001B[0;32m---> 26\u001B[0m \u001B[38;5;28;01mfrom\u001B[39;00m \u001B[38;5;21;01mutils\u001B[39;00m\u001B[38;5;21;01m.\u001B[39;00m\u001B[38;5;21;01mcustom_models\u001B[39;00m  \u001B[38;5;28;01mimport\u001B[39;00m \u001B[38;5;241m*\u001B[39m\n\u001B[1;32m     29\u001B[0m \u001B[38;5;66;03m# from sklearn.model_selection import GridSearchCV\u001B[39;00m\n\u001B[1;32m     30\u001B[0m \n\u001B[1;32m     31\u001B[0m \u001B[38;5;66;03m# base_directory= '/local_storage/datasets/farzaneh'\u001B[39;00m\n",
      "\u001B[0;31mModuleNotFoundError\u001B[0m: No module named 'utils'"
     ]
    }
   ],
   "source": [
    "import pandas as pd\n",
    "import ast\n",
    "import numpy as np\n",
    "base_path  = '../../../../../../T5 EVO/alignment_olfaction_datasets/data/'\n",
    "from skmultilearn.adapt import MLkNN\n",
    "from sklearn.model_selection import GridSearchCV\n",
    "import random\n",
    "from sklearn.linear_model import LogisticRegression\n",
    "# from sklearn.metrics import jaccard_score\n",
    "from sklearn.multiclass import OneVsRestClassifier\n",
    "from sklearn.metrics import roc_auc_score\n",
    "from openpom.utils.data_utils import get_class_imbalance_ratio\n",
    "import deepchem as dc\n",
    "import os\n",
    "import sys\n",
    "print(sys.path)\n",
    "# sys.path.append('/Volumes/work/phd/Olfaction/molformer-main')\n",
    "# sys.path.append('/Volumes/work/phd/Olfaction/molformer-main/openpom/utils')\n",
    "\n",
    "print(os.getcwd(),\"dsss\")\n",
    "import os, sys\n",
    "\n",
    "# dir_path = os.path.dirname(os.path.realpath(__file__))\n",
    "# parent_dir_path = os.path.abspath(os.path.join(dir_path, os.pardir))\n",
    "# sys.path.insert(0, parent_dir_path)\n",
    "from utils.custom_models  import *\n",
    "\n",
    "\n",
    "# from sklearn.model_selection import GridSearchCV\n",
    "\n",
    "# base_directory= '/local_storage/datasets/farzaneh'"
   ]
  },
  {
   "cell_type": "code",
   "execution_count": null,
   "metadata": {
    "collapsed": false,
    "jupyter": {
     "outputs_hidden": false
    },
    "pycharm": {
     "name": "#%%\n"
    }
   },
   "outputs": [],
   "source": [
    "seed = 2024\n",
    "np.random.seed(seed)\n",
    "random.seed(seed)\n",
    "# torch.cuda.manual_seed_all(seed)"
   ]
  },
  {
   "cell_type": "markdown",
   "metadata": {
    "collapsed": false,
    "jupyter": {
     "outputs_hidden": false
    },
    "pycharm": {
     "name": "#%% md\n"
    }
   },
   "source": [
    "# helper methods"
   ]
  },
  {
   "cell_type": "code",
   "execution_count": null,
   "metadata": {
    "collapsed": false,
    "jupyter": {
     "outputs_hidden": false
    },
    "pycharm": {
     "name": "#%%\n"
    }
   },
   "outputs": [],
   "source": [
    "def metrics(y_true,y_predicted_prob):\n",
    "    y_pred = np.round(y_predicted_prob)\n",
    "    average_type = [None, 'macro' , 'weighted']\n",
    "\n",
    "    # for average in average_type:\n",
    "    ap = average_precision_score(y_true, y_predicted_prob,average=None)\n",
    "    ap_macro = average_precision_score(y_true, y_predicted_prob,average='macro')\n",
    "    ap_weighted = average_precision_score(y_true, y_predicted_prob,average='weighted')\n",
    "    \n",
    "    precision = precision_score(y_true, y_pred,average=None)\n",
    "    precision_macro = precision_score(y_true, y_pred,average='macro')\n",
    "    precision_weighted = precision_score(y_true, y_pred,average='weighted')\n",
    "\n",
    "\n",
    "    recall = recall_score(y_true, y_pred,average=None)\n",
    "    recall_macro = recall_score(y_true, y_pred,average='macro')\n",
    "    recall_weighted = recall_score(y_true, y_pred,average='weighted')\n",
    "\n",
    "\n",
    "    f1 = f1_score(y_true, y_pred,average=None)\n",
    "    f1_macro = f1_score(y_true, y_pred,average='macro')\n",
    "    f1_weighted = f1_score(y_true, y_pred,average='weighted')\n",
    "\n",
    "    \n",
    "    # true_labels = np.round(y_true)\n",
    "    \n",
    "    # print(true_labels)\n",
    "    # print(y_true)\n",
    "    return ap_macro,precision_macro,recall_macro,f1_macro\n",
    "    "
   ]
  },
  {
   "cell_type": "code",
   "execution_count": null,
   "metadata": {
    "collapsed": false,
    "jupyter": {
     "outputs_hidden": false
    },
    "pycharm": {
     "name": "#%%\n"
    }
   },
   "outputs": [],
   "source": [
    "def custom_logistic_regression(X,y):\n",
    "\n",
    "    \n",
    "    logreg = LogisticRegression(max_iter=1000,random_state=seed,n_jobs=-1)\n",
    "    # base_lr = LogisticRegression()\n",
    "    ovr = OneVsRestClassifier(logreg)\n",
    "    estimator=ovr.fit(X, y)\n",
    "    # estimator= logreg.fit(X,y)\n",
    "    return estimator"
   ]
  },
  {
   "cell_type": "code",
   "execution_count": null,
   "metadata": {
    "collapsed": false,
    "jupyter": {
     "outputs_hidden": false
    },
    "pycharm": {
     "name": "#%%\n"
    }
   },
   "outputs": [],
   "source": [
    "def pipeline_regression(data_groupbyCID,times,n_components=None,seed=seed):\n",
    "    mserrorrs_corssvalidated = []\n",
    "    correlations_corssvalidated = []\n",
    "    for i in range(times):\n",
    "        X=np.asarray(data_groupbyCID.embeddings.values.tolist())\n",
    "        y=np.asarray(data_groupbyCID.y.values.tolist())\n",
    "        # print(\"min\", X.min())\n",
    "        # print(\"max\", X.max())\n",
    "          \n",
    "        # print(\"X\",X)\n",
    "        X_train, X_test, y_train, y_test = train_test_split(X, y, test_size=0.2, random_state=seed+i)  \n",
    "        scaler = StandardScaler()\n",
    "        X_train = scaler.fit_transform(X_train)\n",
    "        X_test = scaler.transform(X_test)\n",
    "        if n_components is not None:\n",
    "            pca = PCA(n_components=n_components)\n",
    "            X_train=pca.fit_transform(X_train)\n",
    "            X_test=pca.transform(X_test)\n",
    "        linreg =custom_logistic_regression(X_train,y_train)\n",
    "        mseerrors, correlations=metrics_per_descritor(X_test,y_test,[str(i) for i in range(y.shape[1])],linreg)\n",
    "        mserrorrs_corssvalidated.append(mseerrors)\n",
    "        correlations_corssvalidated.append(correlations)\n",
    "    return mserrorrs_corssvalidated, correlations_corssvalidated"
   ]
  },
  {
   "cell_type": "code",
   "execution_count": null,
   "metadata": {
    "collapsed": false,
    "jupyter": {
     "outputs_hidden": false
    },
    "pycharm": {
     "name": "#%%\n"
    }
   },
   "outputs": [],
   "source": [
    "def mAP(targs, preds, pos_thr=0.5):\n",
    "    \"\"\"Returns the model's average precision for each class\n",
    "    Return:\n",
    "        ap (FloatTensor): 1xK tensor, with avg precision for each class k\n",
    "    \"\"\"\n",
    "    def average_precision(output, target):\n",
    "        epsilon = 1e-8\n",
    "\n",
    "        # sort examples\n",
    "        indices = output.argsort()[::-1]\n",
    "        # Computes prec@i\n",
    "        total_count_ = np.cumsum(np.ones((len(output), 1)))\n",
    "\n",
    "        target_ = target[indices]\n",
    "        ind = target_ == 1\n",
    "        pos_count_ = np.cumsum(ind)\n",
    "        total = pos_count_[-1]\n",
    "        pos_count_[np.logical_not(ind)] = 0\n",
    "        pp = pos_count_ / total_count_\n",
    "        precision_at_i_ = np.sum(pp)\n",
    "        precision_at_i = precision_at_i_ / (total + epsilon)\n",
    "\n",
    "        return precision_at_i\n",
    "\n",
    "    if np.size(preds) == 0:\n",
    "        return 0\n",
    "    ap = np.zeros((preds.shape[1]))\n",
    "    # compute average precision for each class\n",
    "    for k in range(preds.shape[1]):\n",
    "        scores = preds[:, k]\n",
    "        targets = targs[:, k]\n",
    "        ap[k] = average_precision(scores, targets)\n",
    "    tp, fp, fn, tn = [], [], [], []\n",
    "    conf_matrices = []\n",
    "    \n",
    "    for k in range(preds.shape[0]):\n",
    "        scores = preds[k,:]\n",
    "        targets = targs[k,:]\n",
    "        pred = (scores > pos_thr).astype(np.int32)\n",
    "        tp.append(((pred + targets) == 2).sum())\n",
    "        fp.append(((pred - targets) == 1).sum())\n",
    "        fn.append(((pred - targets) == -1).sum())\n",
    "        tn.append(((pred + targets) == 0).sum())\n",
    "        conf_matrices.append(confusion_matrix(targets, pred))\n",
    "\n",
    "    p_c = [tp[i] / (tp[i] + fp[i]) if tp[i] > 0 else 0.0 for i in range(len(tp))]\n",
    "    r_c = [tp[i] / (tp[i] + fn[i]) if tp[i] > 0 else 0.0\n",
    "                for i in range(len(tp))]\n",
    "    f_c = [2 * p_c[i] * r_c[i] / (p_c[i] + r_c[i]) if tp[i] > 0 else 0.0\n",
    "                for i in range(len(tp))]\n",
    "\n",
    "    mean_p_c = sum(p_c) / len(p_c)\n",
    "    mean_r_c = sum(r_c) / len(r_c)\n",
    "    mean_f_c = sum(f_c) / len(f_c)\n",
    "\n",
    "    p_o = sum(tp) / (np.array(tp) + np.array(fp)).sum()\n",
    "    r_o = sum(tp) / (np.array(tp) + np.array(fn)).sum()\n",
    "    f_o = 2 * p_o * r_o / (p_o + r_o)\n",
    "    roc_auc=roc_auc_score(targs, preds)\n",
    "\n",
    "    return ap.mean(), mean_p_c, mean_r_c, mean_f_c, p_o, r_o, f_o,roc_auc, conf_matrices\n",
    "\n",
    "\n",
    "def tune_multilabel_thresholds(raw_scores, labels):\n",
    "    scores = 1. / (1. + np.exp(-1. * raw_scores))\n",
    "    threshs = np.zeros(labels.shape[1])\n",
    "\n",
    "    for j in range(labels.shape[1]):\n",
    "        precision, recall, thresholds = precision_recall_curve(labels[:, j], scores[:, j])\n",
    "        fscore = (2 * precision * recall) / (precision + recall)\n",
    "        threshs[j] = thresholds[np.argmax(fscore)]\n",
    "\n",
    "    return threshs"
   ]
  },
  {
   "cell_type": "code",
   "execution_count": null,
   "metadata": {
    "collapsed": false,
    "jupyter": {
     "outputs_hidden": false
    },
    "pycharm": {
     "name": "#%%\n"
    }
   },
   "outputs": [],
   "source": [
    "def run_linear_classifier(modeldeepchem,embedding_dataset,embedding_test_dataset,metric,metric_str,nb_epoch = 2):\n",
    "    start_time = datetime.now()\n",
    "    \n",
    "    train_scores=[]\n",
    "    valid_scores=[]\n",
    "    losses=[]\n",
    "    for epoch in range(1, nb_epoch+1):\n",
    "        loss = modeldeepchem.fit(\n",
    "              embedding_dataset,\n",
    "              nb_epoch=1,\n",
    "              max_checkpoints_to_keep=1,\n",
    "              deterministic=False,\n",
    "              restore=epoch>1)\n",
    "        losses.append(loss)\n",
    "    \n",
    "    modeldeepchem.save_checkpoint()\n",
    "    end_time = datetime.now()\n",
    "    return modeldeepchem,train_scores,valid_scores,losses\n"
   ]
  },
  {
   "cell_type": "code",
   "execution_count": null,
   "metadata": {
    "collapsed": false,
    "jupyter": {
     "outputs_hidden": false
    },
    "pycharm": {
     "name": "#%%\n"
    }
   },
   "outputs": [],
   "source": [
    "def create_linear_classifier(TASKS, n_classes,train_ratios,mode=\"classification\"):\n",
    "    n_classes = 1\n",
    "    n_tasks= len(TASKS)\n",
    "    if mode == \"classification\":\n",
    "        model = NonLinearModel(n_tasks).to(device_name)\n",
    "    elif mode == \"classification_small\":\n",
    "        model = LinearModelSmall(n_tasks).to(device_name)\n",
    "    elif mode == \"linear_classification\":\n",
    "        model = LinearModel(n_tasks).to(device_name)\n",
    "        \n",
    "    # model.n_tasks=n_tasks\n",
    "    model.n_classes=1\n",
    "    \n",
    "    # ratios = get_class_imbalance_ratio(train_dataset)\n",
    "    lr = 1e-4\n",
    "    \n",
    "    learning_rate = 0.001\n",
    "    modeldeepchem = LinearModelMultiLabelDeepchem(\\\n",
    "        model=model,class_imbalance_ratio=train_ratios,loss_aggr_type='sum',\\\n",
    "        device_name=device_name,mode=mode,optimizer_name = 'adam',\\\n",
    "        learning_rate=learning_rate,batch_size=128)\n",
    "    \n",
    "    return modeldeepchem\n",
    "    "
   ]
  },
  {
   "cell_type": "code",
   "execution_count": null,
   "metadata": {
    "collapsed": false,
    "jupyter": {
     "outputs_hidden": false
    },
    "pycharm": {
     "name": "#%%\n"
    }
   },
   "outputs": [],
   "source": [
    "def prepare_dataset(ds):\n",
    "    ds['y'] = ds['y'].apply(ast.literal_eval)\n",
    "    ds['embeddings'] = ds['embeddings'].apply(ast.literal_eval)\n",
    "    return ds"
   ]
  },
  {
   "cell_type": "code",
   "execution_count": null,
   "metadata": {
    "collapsed": false,
    "jupyter": {
     "outputs_hidden": false
    },
    "pycharm": {
     "name": "#%%\n"
    }
   },
   "outputs": [],
   "source": [
    "def prepare_dataset_proba(ds):\n",
    "    ds['y'] = ds['y'].apply(ast.literal_eval)\n",
    "    ds['proba'] = ds['proba'].apply(ast.literal_eval)\n",
    "    return ds"
   ]
  },
  {
   "cell_type": "code",
   "execution_count": null,
   "metadata": {
    "collapsed": false,
    "jupyter": {
     "outputs_hidden": false
    },
    "pycharm": {
     "name": "#%%\n"
    }
   },
   "outputs": [],
   "source": [
    "def select_features(input_file):\n",
    "    ds_alva = pd.read_csv(input_file)\n",
    "\n",
    "\n",
    "    chemical_features_r=[\"nCIR\",\n",
    "                     \"ZM1\", \n",
    "                     \"GNar\", \n",
    "                     \"S1K\", \n",
    "                     \"piPC08\",\n",
    "                     \"MATS1v\",\n",
    "                     \"MATS7v\",\n",
    "                     \"GATS1v\", \n",
    "                     \"Eig05_AEA(bo)\", \n",
    "                     \"SM02_AEA(bo)\",\n",
    "                     \"SM03_AEA(dm)\",\n",
    "                     \"SM10_AEA(dm)\",\n",
    "                     \"SM13_AEA(dm)\",\n",
    "                      \"SpMin3_Bh(v)\",\n",
    "                     \"RDF035v\",\n",
    "                     \"G1m\",\n",
    "                     \"G1v\",\n",
    "                     \"G1e\",\n",
    "                     \"G3s\",\n",
    "                     \"R8u+\",\n",
    "                     \"nRCOSR\"]\n",
    "\n",
    "    nonStereoSMILE = list(map(lambda x: \"nonStereoSMILES___\" + x, chemical_features_r))\n",
    "    # IsomericSMILES = list(map(lambda x: \"IsomericSMILES___\" + x, chemical_features_r))\n",
    "    selected_features = nonStereoSMILE\n",
    "    features= ['main_idx','nonStereoSMILES']+selected_features\n",
    "    # print(\"cc1\", ds_alva.columns.values.tolist())\n",
    "    ds_alva= ds_alva.rename(columns={\"Unnamed: 0\":\"main_idx\"})\n",
    "    # print(\"cc2\", ds_alva.columns.values.tolist())\n",
    "    ds_alva_selected = ds_alva[features]\n",
    "    ds_alva_selected = ds_alva_selected.fillna(0)\n",
    "    ds_alva_selected['embeddings'] = ds_alva_selected[selected_features].values.tolist()\n",
    "    return ds_alva_selected"
   ]
  },
  {
   "cell_type": "code",
   "execution_count": null,
   "metadata": {
    "collapsed": false,
    "jupyter": {
     "outputs_hidden": false
    },
    "pycharm": {
     "name": "#%%\n"
    }
   },
   "outputs": [],
   "source": [
    "def pipeline(input_file_alva,gs_lf_molformer,times=30,n_components=None,ds=\"keller\",seed=seed):\n",
    "    # input_file_keller = base_path+'openpom/data/curated_datasets/embeddings/molformer/keller_molformer_embeddings_13_Apr17.csv'\n",
    "    \n",
    "\n",
    "    \n",
    "    keller_alva = select_features(input_file_keller_alva)\n",
    "    keller_groupbyCID= pd.merge(keller_alva,keller_behavior,on=\"CID\")\n",
    "    \n",
    "        \n",
    "    mserrorrs_keller_corssvalidated, correlations_keller_corssvalidated=pipeline_regression(keller_groupbyCID,times=times,n_components=n_components,seed=seed)\n",
    "    mserrorrs_mean_keller,mserrorrs_std_keller,correlations_mean_keller,correlations_std_keller =post_process_results(mserrorrs_keller_corssvalidated, correlations_keller_corssvalidated)\n",
    "    mserrorrs_corssvalidated_keller,statistics_correlations_corssvalidated_keller,pvalues_correlations_corssvalidated_keller=post_process_results_df(mserrorrs_keller_corssvalidated, correlations_keller_corssvalidated)\n",
    "    df_keller_mse= pd.DataFrame(mserrorrs_corssvalidated_keller)\n",
    "    df_keller_mse['model'] = model_name\n",
    "    df_keller_cor= pd.DataFrame(statistics_correlations_corssvalidated_keller)\n",
    "    df_keller_cor['model'] = model_name\n",
    "    # df_keller = pd.concat((df_keller_molformer,df_keller_pom))\n",
    "    return df_keller_mse, df_keller_cor"
   ]
  },
  {
   "cell_type": "markdown",
   "metadata": {
    "collapsed": false,
    "jupyter": {
     "outputs_hidden": false
    },
    "pycharm": {
     "name": "#%% md\n"
    }
   },
   "source": [
    "## Loading MolFormer Model"
   ]
  },
  {
   "cell_type": "markdown",
   "metadata": {
    "collapsed": false,
    "jupyter": {
     "outputs_hidden": false
    },
    "pycharm": {
     "name": "#%% md\n"
    }
   },
   "source": [
    "# Loading Human Embeddings"
   ]
  },
  {
   "cell_type": "markdown",
   "metadata": {
    "collapsed": false,
    "jupyter": {
     "outputs_hidden": false
    },
    "pycharm": {
     "name": "#%% md\n"
    }
   },
   "source": [
    "## Extracting embedding from MoLFormer for GS-LF"
   ]
  },
  {
   "cell_type": "code",
   "execution_count": null,
   "metadata": {
    "collapsed": false,
    "jupyter": {
     "outputs_hidden": false
    },
    "pycharm": {
     "name": "#%%\n"
    }
   },
   "outputs": [],
   "source": [
    " \n",
    "\n",
    "gs_lf_tasks = [\n",
    "'alcoholic', 'aldehydic', 'alliaceous', 'almond', 'amber', 'animal',\n",
    "'anisic', 'apple', 'apricot', 'aromatic', 'balsamic', 'banana', 'beefy',\n",
    "'bergamot', 'berry', 'bitter', 'black currant', 'brandy', 'burnt',\n",
    "'buttery', 'cabbage', 'camphoreous', 'caramellic', 'cedar', 'celery',\n",
    "'chamomile', 'cheesy', 'cherry', 'chocolate', 'cinnamon', 'citrus', 'clean',\n",
    "'clove', 'cocoa', 'coconut', 'coffee', 'cognac', 'cooked', 'cooling',\n",
    "'cortex', 'coumarinic', 'creamy', 'cucumber', 'dairy', 'dry', 'earthy',\n",
    "'ethereal', 'fatty', 'fermented', 'fishy', 'floral', 'fresh', 'fruit skin',\n",
    "'fruity', 'garlic', 'gassy', 'geranium', 'grape', 'grapefruit', 'grassy',\n",
    "'green', 'hawthorn', 'hay', 'hazelnut', 'herbal', 'honey', 'hyacinth',\n",
    "'jasmin', 'juicy', 'ketonic', 'lactonic', 'lavender', 'leafy', 'leathery',\n",
    "'lemon', 'lily', 'malty', 'meaty', 'medicinal', 'melon', 'metallic',\n",
    "'milky', 'mint', 'muguet', 'mushroom', 'musk', 'musty', 'natural', 'nutty',\n",
    "'odorless', 'oily', 'onion', 'orange', 'orangeflower', 'orris', 'ozone',\n",
    "'peach', 'pear', 'phenolic', 'pine', 'pineapple', 'plum', 'popcorn',\n",
    "'potato', 'powdery', 'pungent', 'radish', 'raspberry', 'ripe', 'roasted',\n",
    "'rose', 'rummy', 'sandalwood', 'savory', 'sharp', 'smoky', 'soapy',\n",
    "'solvent', 'sour', 'spicy', 'strawberry', 'sulfurous', 'sweaty', 'sweet',\n",
    "'tea', 'terpenic', 'tobacco', 'tomato', 'tropical', 'vanilla', 'vegetable',\n",
    "'vetiver', 'violet', 'warm', 'waxy', 'weedy', 'winey', 'woody'\n",
    "]\n",
    "# input_file = '/local_storage/datasets/farzaneh/alignment_olfaction_datasets/curated_datasets/mols_datasets/curated_GS_LF_merged_4983.csv' # or new downloaded file path\n",
    "# smiles_field = 'nonStereoSMILES'\n",
    "\n"
   ]
  },
  {
   "cell_type": "code",
   "execution_count": null,
   "metadata": {
    "collapsed": false,
    "jupyter": {
     "outputs_hidden": false
    },
    "pycharm": {
     "name": "#%%\n"
    }
   },
   "outputs": [],
   "source": [
    "\n",
    "input_file_molformer = base_path+'curated_datasets/embeddings/molformer/gslf_molformer_embeddings_13_Apr17.csv'\n",
    "gs_lf_molformer=pd.read_csv(input_file_molformer)\n",
    "gs_lf_molformer=prepare_dataset(gs_lf_molformer)\n",
    "input_file_indices = base_path+'curated_datasets/embeddings/pom/gslf-splits-idx.csv' # or new downloaded file path\n",
    "indices = pd.read_csv(input_file_indices)\n",
    "indices_train = indices.loc[indices['split']=='train']['main_idx'].values.tolist()\n",
    "indices_valid = indices.loc[indices['split']=='valid']['main_idx'].values.tolist()\n",
    "indices_test = indices.loc[indices['split']=='test']['main_idx'].values.tolist()\n",
    "gs_lf_molformer_np = np.asarray(gs_lf_molformer.embeddings.tolist())\n",
    "gs_lf_molformer_y = np.asarray(gs_lf_molformer.y.tolist())\n",
    "gs_lf_molformer_embeddings_train = gs_lf_molformer_np[indices_train]\n",
    "gs_lf_molformer_y_train = gs_lf_molformer_y[indices_train]\n",
    "\n",
    "gs_lf_molformer_embeddings_test = gs_lf_molformer_np[indices_test]\n",
    "gs_lf_molformer_y_test = gs_lf_molformer_y[indices_test]\n",
    "\n",
    "gs_lf_molformer_embeddings_valid = gs_lf_molformer_np[indices_valid]\n",
    "gs_lf_molformer_y_valid = gs_lf_molformer_y[indices_valid]\n",
    "\n",
    "embedding_train_dataset_gslf = dc.data.DiskDataset.from_numpy(gs_lf_molformer_embeddings_train,gs_lf_molformer_y_train)\n",
    "embedding_test_dataset_gslf = dc.data.DiskDataset.from_numpy(gs_lf_molformer_embeddings_test,gs_lf_molformer_y_test)\n",
    "embedding_valid_dataset_gslf = dc.data.DiskDataset.from_numpy(gs_lf_molformer_embeddings_valid,gs_lf_molformer_y_valid)"
   ]
  },
  {
   "cell_type": "code",
   "execution_count": null,
   "metadata": {
    "collapsed": false,
    "jupyter": {
     "outputs_hidden": false
    },
    "pycharm": {
     "name": "#%%\n"
    }
   },
   "outputs": [],
   "source": [
    "\n",
    "input_file_pom = base_path + 'curated_datasets/proba/pom/gslf_pom_proba_Apr24.csv'\n",
    "gs_lf_pom=pd.read_csv(input_file_pom)\n",
    "gs_lf_pom=prepare_dataset_proba(gs_lf_pom)\n",
    "gs_lf_pom.columns.values.tolist()\n",
    "gs_lf_pom_np = np.asarray(gs_lf_pom.proba.tolist())\n",
    "gs_lf_pom_y = np.asarray(gs_lf_pom.y.tolist())\n",
    "\n",
    "\n",
    "gs_lf_pom_proba_train = gs_lf_pom_np[indices_train]\n",
    "gs_lf_pom_y_train = gs_lf_pom_y[indices_train]\n",
    "\n",
    "gs_lf_pom_proba_test = gs_lf_pom_np[indices_test]\n",
    "gs_lf_pom_y_test = gs_lf_pom_y[indices_test]\n",
    "\n",
    "gs_lf_pom_proba_valid = gs_lf_pom_np[indices_valid]\n",
    "gs_lf_pom_y_valid = gs_lf_pom_y[indices_valid]\n",
    "\n",
    "\n",
    "\n",
    "gs_lf_pom_embeddings_train = gs_lf_pom_np[indices_train]\n",
    "gs_lf_pom_y_train = gs_lf_pom_y[indices_train]\n",
    "\n",
    "gs_lf_pom_embeddings_test = gs_lf_pom_np[indices_test]\n",
    "gs_lf_pom_y_test = gs_lf_pom_y[indices_test]\n",
    "\n",
    "gs_lf_pom_embeddings_valid = gs_lf_pom_np[indices_valid]\n",
    "gs_lf_pom_y_valid = gs_lf_pom_y[indices_valid]\n",
    "\n",
    "\n",
    "\n",
    "embedding_train_dataset_gslf_pom = dc.data.DiskDataset.from_numpy(gs_lf_pom_embeddings_train,gs_lf_pom_y_train)\n",
    "embedding_test_dataset_gslf_pom = dc.data.DiskDataset.from_numpy(gs_lf_pom_embeddings_test,gs_lf_pom_y_test)\n",
    "embedding_valid_dataset_gslf_pom = dc.data.DiskDataset.from_numpy(gs_lf_pom_embeddings_valid,gs_lf_pom_y_valid)"
   ]
  },
  {
   "cell_type": "code",
   "execution_count": null,
   "metadata": {
    "collapsed": false,
    "jupyter": {
     "outputs_hidden": false
    },
    "pycharm": {
     "name": "#%%\n"
    }
   },
   "outputs": [],
   "source": [
    "# gs_lf_alva.columns.values.tolist()"
   ]
  },
  {
   "cell_type": "code",
   "execution_count": null,
   "metadata": {
    "collapsed": false,
    "jupyter": {
     "outputs_hidden": false
    },
    "pycharm": {
     "name": "#%%\n"
    }
   },
   "outputs": [],
   "source": []
  },
  {
   "cell_type": "code",
   "execution_count": null,
   "metadata": {
    "collapsed": false,
    "jupyter": {
     "outputs_hidden": false
    },
    "pycharm": {
     "name": "#%%\n"
    }
   },
   "outputs": [],
   "source": [
    "input_file_alva= base_path+'curated_datasets/alva/gslf_molecules_alva_17Apr.csv'\n",
    "# gs_lf_alva=pd.read_csv(input_file_alva)\n",
    "# gs_lf_alva=pd.read_csv(input_file_alva)\n",
    "\n",
    "gs_lf_alva=select_features(input_file_alva)\n",
    "# gs_lf_alva #keep embeddings\n",
    "\n",
    "gs_lf_y=gs_lf_pom.copy() #only keep y\n",
    "gs_lf_y.index.names = ['main_idx'] \n",
    "# del gs_lf_y['embeddings']\n",
    "gs_lf_alva=pd.merge(gs_lf_alva, gs_lf_y, on='main_idx')\n",
    "# gs_lf_alva\n",
    "# gs_lf_alva.columns.values.tolist()\n",
    "gs_lf_alva_np = np.asarray(gs_lf_alva.embeddings.tolist())\n",
    "gs_lf_alva_y = np.asarray(gs_lf_alva.y.tolist())\n",
    "\n",
    "\n",
    "gs_lf_alva_features_train = gs_lf_alva_np[indices_train]\n",
    "gs_lf_alva_y_train = gs_lf_alva_y[indices_train]\n",
    "\n",
    "gs_lf_alva_features_test = gs_lf_alva_np[indices_test]\n",
    "gs_lf_alva_y_test = gs_lf_alva_y[indices_test]\n",
    "\n",
    "gs_lf_alva_features_valid = gs_lf_alva_np[indices_valid]\n",
    "gs_lf_alva_y_valid = gs_lf_alva_y[indices_valid]\n",
    "\n",
    "# gs_lf_y.columns."
   ]
  },
  {
   "cell_type": "code",
   "execution_count": null,
   "metadata": {
    "collapsed": false,
    "jupyter": {
     "outputs_hidden": false
    },
    "pycharm": {
     "name": "#%%\n"
    }
   },
   "outputs": [],
   "source": [
    "embedding_train_dataset_gslf_alva = dc.data.DiskDataset.from_numpy(gs_lf_alva_features_train,gs_lf_alva_y_train)\n",
    "embedding_test_dataset_gslf_alva = dc.data.DiskDataset.from_numpy(gs_lf_alva_features_test,gs_lf_alva_y_test)\n",
    "embedding_valid_dataset_gslf_alva = dc.data.DiskDataset.from_numpy(gs_lf_alva_features_valid,gs_lf_alva_y_valid)"
   ]
  },
  {
   "cell_type": "markdown",
   "metadata": {
    "collapsed": false,
    "jupyter": {
     "outputs_hidden": false
    },
    "pycharm": {
     "name": "#%% md\n"
    }
   },
   "source": [
    "# Training a Linear Classifier using DeepChem "
   ]
  },
  {
   "cell_type": "markdown",
   "metadata": {
    "collapsed": false,
    "jupyter": {
     "outputs_hidden": false
    },
    "pycharm": {
     "name": "#%% md\n"
    }
   },
   "source": [
    "##  Training a non-Linear Classifier using DeepChem and Embeddding of GS-LF extracted from MoLFormer"
   ]
  },
  {
   "cell_type": "markdown",
   "metadata": {
    "collapsed": false,
    "jupyter": {
     "outputs_hidden": false
    },
    "pycharm": {
     "name": "#%% md\n"
    }
   },
   "source": [
    "### POM"
   ]
  },
  {
   "cell_type": "code",
   "execution_count": null,
   "metadata": {
    "collapsed": false,
    "jupyter": {
     "outputs_hidden": false
    },
    "pycharm": {
     "name": "#%%\n"
    }
   },
   "outputs": [],
   "source": [
    "mAP(gs_lf_pom_y_test, gs_lf_pom_proba_test, pos_thr=0.5)"
   ]
  },
  {
   "cell_type": "markdown",
   "metadata": {
    "collapsed": false,
    "jupyter": {
     "outputs_hidden": false
    },
    "pycharm": {
     "name": "#%% md\n"
    }
   },
   "source": [
    "### molformer"
   ]
  },
  {
   "cell_type": "code",
   "execution_count": null,
   "metadata": {
    "collapsed": false,
    "jupyter": {
     "outputs_hidden": false
    },
    "pycharm": {
     "name": "#%%\n"
    }
   },
   "outputs": [],
   "source": [
    "train_ratios = get_class_imbalance_ratio(embedding_train_dataset_gslf_pom)\n",
    "modeldeepchem_gslf = create_linear_classifier(gs_lf_tasks, 1,train_ratios,\"linear_classification\")\n",
    "metric_gslf = dc.metrics.Metric(dc.metrics.roc_auc_score)\n",
    "modeldeepchem_gslf,train_scores_gslf,test_scores_gslf,losses_gslf= run_linear_classifier(modeldeepchem_gslf,embedding_train_dataset_gslf_pom,embedding_test_dataset_gslf_pom,metric_gslf,'roc_auc_score',nb_epoch = 100)\n",
    "predicted_labels=modeldeepchem_gslf.predict(embedding_test_dataset_gslf)"
   ]
  },
  {
   "cell_type": "code",
   "execution_count": null,
   "metadata": {
    "collapsed": false,
    "jupyter": {
     "outputs_hidden": false
    },
    "pycharm": {
     "name": "#%%\n"
    }
   },
   "outputs": [],
   "source": [
    "mAP(gs_lf_molformer_y_test, predicted_labels, pos_thr=0.5)"
   ]
  },
  {
   "cell_type": "markdown",
   "metadata": {
    "collapsed": false,
    "jupyter": {
     "outputs_hidden": false
    },
    "pycharm": {
     "name": "#%% md\n"
    }
   },
   "source": [
    "### Alva"
   ]
  },
  {
   "cell_type": "code",
   "execution_count": null,
   "metadata": {
    "collapsed": false,
    "jupyter": {
     "outputs_hidden": false
    },
    "pycharm": {
     "name": "#%%\n"
    }
   },
   "outputs": [],
   "source": [
    "train_ratios = get_class_imbalance_ratio(embedding_train_dataset_gslf_alva)\n",
    "modeldeepchem_gslf_alva = create_linear_classifier(gs_lf_tasks, 1,train_ratios,\"classification_small\")\n",
    "metric_gslf = dc.metrics.Metric(dc.metrics.roc_auc_score)\n",
    "modeldeepchem_gslf_alva,train_scores_gslf_alva,test_scores_gslf_alva,losses_gslf_alva= run_linear_classifier(modeldeepchem_gslf_alva,embedding_train_dataset_gslf_alva,embedding_test_dataset_gslf_alva,metric_gslf,'roc_auc_score',nb_epoch = 100)\n",
    "predicted_labels=modeldeepchem_gslf_alva.predict(embedding_test_dataset_gslf_alva)"
   ]
  },
  {
   "cell_type": "code",
   "execution_count": null,
   "metadata": {
    "collapsed": false,
    "jupyter": {
     "outputs_hidden": false
    },
    "pycharm": {
     "name": "#%%\n"
    }
   },
   "outputs": [],
   "source": [
    "mAP(gs_lf_molformer_y_test, predicted_labels, pos_thr=0.5)"
   ]
  },
  {
   "cell_type": "markdown",
   "metadata": {
    "collapsed": false,
    "jupyter": {
     "outputs_hidden": false
    },
    "pycharm": {
     "name": "#%% md\n"
    }
   },
   "source": [
    "### POM"
   ]
  },
  {
   "cell_type": "code",
   "execution_count": null,
   "metadata": {
    "collapsed": false,
    "jupyter": {
     "outputs_hidden": false
    },
    "pycharm": {
     "name": "#%%\n"
    }
   },
   "outputs": [],
   "source": [
    "mAP(gs_lf_pom_y_test, gs_lf_pom_proba_test, pos_thr=0.5)"
   ]
  },
  {
   "cell_type": "markdown",
   "metadata": {
    "collapsed": false,
    "jupyter": {
     "outputs_hidden": false
    },
    "pycharm": {
     "name": "#%% md\n"
    }
   },
   "source": [
    "### molformer"
   ]
  },
  {
   "cell_type": "code",
   "execution_count": null,
   "metadata": {
    "collapsed": false,
    "jupyter": {
     "outputs_hidden": false
    },
    "pycharm": {
     "name": "#%%\n"
    }
   },
   "outputs": [],
   "source": [
    "train_ratios = get_class_imbalance_ratio(embedding_train_dataset_gslf)\n",
    "modeldeepchem_gslf = create_linear_classifier(gs_lf_tasks, 1,train_ratios)\n",
    "metric_gslf = dc.metrics.Metric(dc.metrics.roc_auc_score)\n",
    "modeldeepchem_gslf,train_scores_gslf,test_scores_gslf,losses_gslf= run_linear_classifier(modeldeepchem_gslf,embedding_train_dataset_gslf,embedding_test_dataset_gslf,metric_gslf,'roc_auc_score',nb_epoch = 100)\n",
    "predicted_labels=modeldeepchem_gslf.predict(embedding_test_dataset_gslf)"
   ]
  },
  {
   "cell_type": "code",
   "execution_count": null,
   "metadata": {
    "collapsed": false,
    "jupyter": {
     "outputs_hidden": false
    },
    "pycharm": {
     "name": "#%%\n"
    }
   },
   "outputs": [],
   "source": [
    "mAP(gs_lf_molformer_y_test, predicted_labels, pos_thr=0.5)"
   ]
  },
  {
   "cell_type": "markdown",
   "metadata": {
    "collapsed": false,
    "jupyter": {
     "outputs_hidden": false
    },
    "pycharm": {
     "name": "#%% md\n"
    }
   },
   "source": [
    "### Alva"
   ]
  },
  {
   "cell_type": "code",
   "execution_count": null,
   "metadata": {
    "collapsed": false,
    "jupyter": {
     "outputs_hidden": false
    },
    "pycharm": {
     "name": "#%%\n"
    }
   },
   "outputs": [],
   "source": [
    "train_ratios = get_class_imbalance_ratio(embedding_train_dataset_gslf_alva)\n",
    "# modeldeepchem_gslf_alva = create_linear_classifier(gs_lf_tasks, 1,train_ratios,\"classification_small\")\n",
    "modeldeepchem_gslf_alva = create_linear_classifier(gs_lf_tasks, 1,train_ratios)\n",
    "\n",
    "metric_gslf = dc.metrics.Metric(dc.metrics.roc_auc_score)\n",
    "modeldeepchem_gslf_alva,train_scores_gslf_alva,test_scores_gslf_alva,losses_gslf_alva= run_linear_classifier(modeldeepchem_gslf_alva,embedding_train_dataset_gslf_alva,embedding_test_dataset_gslf_alva,metric_gslf,'roc_auc_score',nb_epoch = 100)\n",
    "predicted_labels=modeldeepchem_gslf_alva.predict(embedding_test_dataset_gslf_alva)"
   ]
  },
  {
   "cell_type": "code",
   "execution_count": null,
   "metadata": {
    "collapsed": false,
    "jupyter": {
     "outputs_hidden": false
    },
    "pycharm": {
     "name": "#%%\n"
    }
   },
   "outputs": [],
   "source": [
    "mAP(gs_lf_molformer_y_test, predicted_labels, pos_thr=0.5)"
   ]
  },
  {
   "cell_type": "code",
   "execution_count": null,
   "metadata": {
    "collapsed": false,
    "jupyter": {
     "outputs_hidden": false
    },
    "pycharm": {
     "name": "#%%\n"
    }
   },
   "outputs": [],
   "source": []
  },
  {
   "cell_type": "code",
   "execution_count": null,
   "metadata": {
    "collapsed": false,
    "jupyter": {
     "outputs_hidden": false
    },
    "pycharm": {
     "name": "#%%\n"
    }
   },
   "outputs": [],
   "source": [
    "# mAP(gs_lf_alva_y_test, predicted_labels, pos_thr=0.5)"
   ]
  },
  {
   "cell_type": "code",
   "execution_count": null,
   "metadata": {
    "collapsed": false,
    "jupyter": {
     "outputs_hidden": false
    },
    "pycharm": {
     "name": "#%%\n"
    }
   },
   "outputs": [],
   "source": [
    "# estimator= custom_logistic_regression(gs_lf_alva_features_train,gs_lf_alva_y_train)\n",
    "# predicted_labels=estimator.predict(gs_lf_alva_features_test)"
   ]
  },
  {
   "cell_type": "code",
   "execution_count": null,
   "metadata": {
    "collapsed": false,
    "jupyter": {
     "outputs_hidden": false
    },
    "pycharm": {
     "name": "#%%\n"
    }
   },
   "outputs": [],
   "source": [
    "# mAP(gs_lf_molformer_y_test, predicted_labels, pos_thr=0.5)"
   ]
  },
  {
   "cell_type": "markdown",
   "metadata": {
    "collapsed": false,
    "jupyter": {
     "outputs_hidden": false
    },
    "pycharm": {
     "name": "#%% md\n"
    }
   },
   "source": [
    "##  Training a Linear Classifier using DeepChem and Embeddding of GS-LF extracted from MoLFormer"
   ]
  },
  {
   "cell_type": "markdown",
   "metadata": {
    "collapsed": false,
    "jupyter": {
     "outputs_hidden": false
    },
    "pycharm": {
     "name": "#%% md\n"
    }
   },
   "source": [
    "### POM"
   ]
  },
  {
   "cell_type": "code",
   "execution_count": null,
   "metadata": {
    "collapsed": false,
    "jupyter": {
     "outputs_hidden": false
    },
    "pycharm": {
     "name": "#%%\n"
    }
   },
   "outputs": [],
   "source": [
    "train_ratios = get_class_imbalance_ratio(embedding_train_dataset_gslf)\n",
    "modeldeepchem_gslf = create_linear_classifier(gs_lf_tasks, 1,train_ratios,mode =\"linear_classification\")\n",
    "metric_gslf = dc.metrics.Metric(dc.metrics.roc_auc_score)\n",
    "modeldeepchem_gslf,train_scores_gslf,test_scores_gslf,losses_gslf= run_linear_classifier(modeldeepchem_gslf,embedding_train_dataset_gslf,embedding_test_dataset_gslf,metric_gslf,'roc_auc_score',nb_epoch = 100)\n",
    "predicted_labels=modeldeepchem_gslf.predict(embedding_test_dataset_gslf)"
   ]
  },
  {
   "cell_type": "code",
   "execution_count": null,
   "metadata": {
    "collapsed": false,
    "jupyter": {
     "outputs_hidden": false
    },
    "pycharm": {
     "name": "#%%\n"
    }
   },
   "outputs": [],
   "source": [
    "mAP(gs_lf_pom_y_test, predicted_labels, pos_thr=0.5)"
   ]
  },
  {
   "cell_type": "markdown",
   "metadata": {
    "collapsed": false,
    "jupyter": {
     "outputs_hidden": false
    },
    "pycharm": {
     "name": "#%% md\n"
    }
   },
   "source": [
    "### molformer"
   ]
  },
  {
   "cell_type": "code",
   "execution_count": null,
   "metadata": {
    "collapsed": false,
    "jupyter": {
     "outputs_hidden": false
    },
    "pycharm": {
     "name": "#%%\n"
    }
   },
   "outputs": [],
   "source": [
    "train_ratios = get_class_imbalance_ratio(embedding_train_dataset_gslf)\n",
    "modeldeepchem_gslf = create_linear_classifier(gs_lf_tasks, 1,train_ratios,mode =\"linear_classification\")\n",
    "metric_gslf = dc.metrics.Metric(dc.metrics.roc_auc_score)\n",
    "modeldeepchem_gslf,train_scores_gslf,test_scores_gslf,losses_gslf= run_linear_classifier(modeldeepchem_gslf,embedding_train_dataset_gslf,embedding_test_dataset_gslf,metric_gslf,'roc_auc_score',nb_epoch = 100)\n",
    "predicted_labels=modeldeepchem_gslf.predict(embedding_test_dataset_gslf)"
   ]
  },
  {
   "cell_type": "code",
   "execution_count": null,
   "metadata": {
    "collapsed": false,
    "jupyter": {
     "outputs_hidden": false
    },
    "pycharm": {
     "name": "#%%\n"
    }
   },
   "outputs": [],
   "source": [
    "mAP(gs_lf_molformer_y_test, predicted_labels, pos_thr=0.5)"
   ]
  },
  {
   "cell_type": "markdown",
   "metadata": {
    "collapsed": false,
    "jupyter": {
     "outputs_hidden": false
    },
    "pycharm": {
     "name": "#%% md\n"
    }
   },
   "source": [
    "### Alva"
   ]
  },
  {
   "cell_type": "code",
   "execution_count": null,
   "metadata": {
    "collapsed": false,
    "jupyter": {
     "outputs_hidden": false
    },
    "pycharm": {
     "name": "#%%\n"
    }
   },
   "outputs": [],
   "source": [
    "train_ratios = get_class_imbalance_ratio(embedding_train_dataset_gslf_alva)\n",
    "modeldeepchem_gslf_alva = create_linear_classifier(gs_lf_tasks, 1,train_ratios,mode =\"linear_classification\")\n",
    "metric_gslf = dc.metrics.Metric(dc.metrics.roc_auc_score)\n",
    "modeldeepchem_gslf_alva,train_scores_gslf_alva,test_scores_gslf_alva,losses_gslf_alva= run_linear_classifier(modeldeepchem_gslf_alva,embedding_train_dataset_gslf_alva,embedding_test_dataset_gslf_alva,metric_gslf,'roc_auc_score',nb_epoch = 100)\n",
    "predicted_labels=modeldeepchem_gslf_alva.predict(embedding_test_dataset_gslf_alva)"
   ]
  },
  {
   "cell_type": "code",
   "execution_count": null,
   "metadata": {
    "collapsed": false,
    "jupyter": {
     "outputs_hidden": false
    },
    "pycharm": {
     "name": "#%%\n"
    }
   },
   "outputs": [],
   "source": [
    "mAP(gs_lf_molformer_y_test, predicted_labels, pos_thr=0.5)"
   ]
  },
  {
   "cell_type": "markdown",
   "metadata": {
    "collapsed": false,
    "jupyter": {
     "outputs_hidden": false
    },
    "pycharm": {
     "name": "#%% md\n"
    }
   },
   "source": [
    "### Alva"
   ]
  },
  {
   "cell_type": "code",
   "execution_count": null,
   "metadata": {
    "collapsed": false,
    "jupyter": {
     "outputs_hidden": false
    },
    "pycharm": {
     "name": "#%%\n"
    }
   },
   "outputs": [],
   "source": [
    "train_ratios = get_class_imbalance_ratio(embedding_train_dataset_gslf_alva)\n",
    "# modeldeepchem_gslf_alva = create_linear_classifier(gs_lf_tasks, 1,train_ratios,\"classification_small\")\n",
    "modeldeepchem_gslf_alva = create_linear_classifier(gs_lf_tasks, 1,train_ratios)\n",
    "\n",
    "metric_gslf = dc.metrics.Metric(dc.metrics.roc_auc_score)\n",
    "modeldeepchem_gslf_alva,train_scores_gslf_alva,test_scores_gslf_alva,losses_gslf_alva= run_linear_classifier(modeldeepchem_gslf_alva,embedding_train_dataset_gslf_alva,embedding_test_dataset_gslf_alva,metric_gslf,'roc_auc_score',nb_epoch = 100)\n",
    "predicted_labels=modeldeepchem_gslf_alva.predict(embedding_test_dataset_gslf_alva)"
   ]
  },
  {
   "cell_type": "code",
   "execution_count": null,
   "metadata": {
    "collapsed": false,
    "jupyter": {
     "outputs_hidden": false
    },
    "pycharm": {
     "name": "#%%\n"
    }
   },
   "outputs": [],
   "source": [
    "mAP(gs_lf_molformer_y_test, predicted_labels, pos_thr=0.5)"
   ]
  },
  {
   "cell_type": "code",
   "execution_count": null,
   "metadata": {
    "collapsed": false,
    "jupyter": {
     "outputs_hidden": false
    },
    "pycharm": {
     "name": "#%%\n"
    }
   },
   "outputs": [],
   "source": []
  },
  {
   "cell_type": "code",
   "execution_count": null,
   "metadata": {
    "collapsed": false,
    "jupyter": {
     "outputs_hidden": false
    },
    "pycharm": {
     "name": "#%%\n"
    }
   },
   "outputs": [],
   "source": [
    "# mAP(gs_lf_alva_y_test, predicted_labels, pos_thr=0.5)"
   ]
  },
  {
   "cell_type": "code",
   "execution_count": null,
   "metadata": {
    "collapsed": false,
    "jupyter": {
     "outputs_hidden": false
    },
    "pycharm": {
     "name": "#%%\n"
    }
   },
   "outputs": [],
   "source": [
    "# estimator= custom_logistic_regression(gs_lf_alva_features_train,gs_lf_alva_y_train)\n",
    "# predicted_labels=estimator.predict(gs_lf_alva_features_test)"
   ]
  },
  {
   "cell_type": "code",
   "execution_count": null,
   "metadata": {
    "collapsed": false,
    "jupyter": {
     "outputs_hidden": false
    },
    "pycharm": {
     "name": "#%%\n"
    }
   },
   "outputs": [],
   "source": [
    "# mAP(gs_lf_molformer_y_test, predicted_labels, pos_thr=0.5)"
   ]
  },
  {
   "cell_type": "markdown",
   "metadata": {
    "collapsed": false,
    "jupyter": {
     "outputs_hidden": false
    },
    "pycharm": {
     "name": "#%% md\n"
    }
   },
   "source": [
    "##  Training a Linear Classifier using DeepChem and Embeddding of GS-LF extracted from MoLFormer"
   ]
  },
  {
   "cell_type": "markdown",
   "metadata": {
    "collapsed": false,
    "jupyter": {
     "outputs_hidden": false
    },
    "pycharm": {
     "name": "#%% md\n"
    }
   },
   "source": [
    "### POM"
   ]
  },
  {
   "cell_type": "code",
   "execution_count": null,
   "metadata": {
    "collapsed": false,
    "jupyter": {
     "outputs_hidden": false
    },
    "pycharm": {
     "name": "#%%\n"
    }
   },
   "outputs": [],
   "source": [
    "train_ratios = get_class_imbalance_ratio(embedding_train_dataset_gslf)\n",
    "modeldeepchem_gslf = create_linear_classifier(gs_lf_tasks, 1,train_ratios,mode =\"linear_classification\")\n",
    "metric_gslf = dc.metrics.Metric(dc.metrics.roc_auc_score)\n",
    "modeldeepchem_gslf,train_scores_gslf,test_scores_gslf,losses_gslf= run_linear_classifier(modeldeepchem_gslf,embedding_train_dataset_gslf,embedding_test_dataset_gslf,metric_gslf,'roc_auc_score',nb_epoch = 100)\n",
    "predicted_labels=modeldeepchem_gslf.predict(embedding_test_dataset_gslf)"
   ]
  },
  {
   "cell_type": "code",
   "execution_count": null,
   "metadata": {
    "collapsed": false,
    "jupyter": {
     "outputs_hidden": false
    },
    "pycharm": {
     "name": "#%%\n"
    }
   },
   "outputs": [],
   "source": [
    "mAP(gs_lf_pom_y_test, predicted_labels, pos_thr=0.5)"
   ]
  },
  {
   "cell_type": "markdown",
   "metadata": {
    "collapsed": false,
    "jupyter": {
     "outputs_hidden": false
    },
    "pycharm": {
     "name": "#%% md\n"
    }
   },
   "source": [
    "### molformer"
   ]
  },
  {
   "cell_type": "code",
   "execution_count": null,
   "metadata": {
    "collapsed": false,
    "jupyter": {
     "outputs_hidden": false
    },
    "pycharm": {
     "name": "#%%\n"
    }
   },
   "outputs": [],
   "source": [
    "train_ratios = get_class_imbalance_ratio(embedding_train_dataset_gslf)\n",
    "modeldeepchem_gslf = create_linear_classifier(gs_lf_tasks, 1,train_ratios,mode =\"linear_classification\")\n",
    "metric_gslf = dc.metrics.Metric(dc.metrics.roc_auc_score)\n",
    "modeldeepchem_gslf,train_scores_gslf,test_scores_gslf,losses_gslf= run_linear_classifier(modeldeepchem_gslf,embedding_train_dataset_gslf,embedding_test_dataset_gslf,metric_gslf,'roc_auc_score',nb_epoch = 100)\n",
    "predicted_labels=modeldeepchem_gslf.predict(embedding_test_dataset_gslf)"
   ]
  },
  {
   "cell_type": "code",
   "execution_count": null,
   "metadata": {
    "collapsed": false,
    "jupyter": {
     "outputs_hidden": false
    },
    "pycharm": {
     "name": "#%%\n"
    }
   },
   "outputs": [],
   "source": [
    "mAP(gs_lf_molformer_y_test, predicted_labels, pos_thr=0.5)"
   ]
  },
  {
   "cell_type": "markdown",
   "metadata": {
    "collapsed": false,
    "jupyter": {
     "outputs_hidden": false
    },
    "pycharm": {
     "name": "#%% md\n"
    }
   },
   "source": [
    "### Alva"
   ]
  },
  {
   "cell_type": "code",
   "execution_count": null,
   "metadata": {
    "collapsed": false,
    "jupyter": {
     "outputs_hidden": false
    },
    "pycharm": {
     "name": "#%%\n"
    }
   },
   "outputs": [],
   "source": [
    "train_ratios = get_class_imbalance_ratio(embedding_train_dataset_gslf_alva)\n",
    "modeldeepchem_gslf_alva = create_linear_classifier(gs_lf_tasks, 1,train_ratios,mode =\"linear_classification\")\n",
    "metric_gslf = dc.metrics.Metric(dc.metrics.roc_auc_score)\n",
    "modeldeepchem_gslf_alva,train_scores_gslf_alva,test_scores_gslf_alva,losses_gslf_alva= run_linear_classifier(modeldeepchem_gslf_alva,embedding_train_dataset_gslf_alva,embedding_test_dataset_gslf_alva,metric_gslf,'roc_auc_score',nb_epoch = 100)\n",
    "predicted_labels=modeldeepchem_gslf_alva.predict(embedding_test_dataset_gslf_alva)"
   ]
  },
  {
   "cell_type": "code",
   "execution_count": null,
   "metadata": {
    "collapsed": false,
    "jupyter": {
     "outputs_hidden": false
    },
    "pycharm": {
     "name": "#%%\n"
    }
   },
   "outputs": [],
   "source": [
    "mAP(gs_lf_molformer_y_test, predicted_labels, pos_thr=0.5)"
   ]
  },
  {
   "cell_type": "code",
   "execution_count": null,
   "metadata": {
    "collapsed": false,
    "jupyter": {
     "outputs_hidden": false
    },
    "pycharm": {
     "name": "#%%\n"
    }
   },
   "outputs": [],
   "source": [
    "train_ratios = get_class_imbalance_ratio(embedding_train_dataset_gslf_alva)\n",
    "# modeldeepchem_gslf_alva = create_linear_classifier(gs_lf_tasks, 1,train_ratios,\"classification_small\")\n",
    "modeldeepchem_gslf_alva = create_linear_classifier(gs_lf_tasks, 1,train_ratios)\n",
    "\n",
    "metric_gslf = dc.metrics.Metric(dc.metrics.roc_auc_score)\n",
    "modeldeepchem_gslf_alva,train_scores_gslf_alva,test_scores_gslf_alva,losses_gslf_alva= run_linear_classifier(modeldeepchem_gslf_alva,embedding_train_dataset_gslf_alva,embedding_test_dataset_gslf_alva,metric_gslf,'roc_auc_score',nb_epoch = 100)\n",
    "predicted_labels=modeldeepchem_gslf_alva.predict(embedding_test_dataset_gslf_alva)"
   ]
  },
  {
   "cell_type": "code",
   "execution_count": null,
   "metadata": {
    "collapsed": false,
    "jupyter": {
     "outputs_hidden": false
    },
    "pycharm": {
     "name": "#%%\n"
    }
   },
   "outputs": [],
   "source": [
    "mAP(gs_lf_molformer_y_test, predicted_labels, pos_thr=0.5)"
   ]
  },
  {
   "cell_type": "code",
   "execution_count": null,
   "metadata": {
    "collapsed": false,
    "jupyter": {
     "outputs_hidden": false
    },
    "pycharm": {
     "name": "#%%\n"
    }
   },
   "outputs": [],
   "source": []
  },
  {
   "cell_type": "code",
   "execution_count": null,
   "metadata": {
    "collapsed": false,
    "jupyter": {
     "outputs_hidden": false
    },
    "pycharm": {
     "name": "#%%\n"
    }
   },
   "outputs": [],
   "source": [
    "# mAP(gs_lf_alva_y_test, predicted_labels, pos_thr=0.5)"
   ]
  },
  {
   "cell_type": "code",
   "execution_count": null,
   "metadata": {
    "collapsed": false,
    "jupyter": {
     "outputs_hidden": false
    },
    "pycharm": {
     "name": "#%%\n"
    }
   },
   "outputs": [],
   "source": [
    "# estimator= custom_logistic_regression(gs_lf_alva_features_train,gs_lf_alva_y_train)\n",
    "# predicted_labels=estimator.predict(gs_lf_alva_features_test)"
   ]
  },
  {
   "cell_type": "code",
   "execution_count": null,
   "metadata": {},
   "outputs": [],
   "source": [
    "# mAP(gs_lf_molformer_y_test, predicted_labels, pos_thr=0.5)"
   ]
  },
  {
   "cell_type": "markdown",
   "metadata": {},
   "source": [
    "##  Training a Linear Classifier using DeepChem and Embeddding of GS-LF extracted from MoLFormer"
   ]
  },
  {
   "cell_type": "markdown",
   "metadata": {},
   "source": [
    "### POM"
   ]
  },
  {
   "cell_type": "code",
   "execution_count": null,
   "metadata": {},
   "outputs": [],
   "source": [
    "train_ratios = get_class_imbalance_ratio(embedding_train_dataset_gslf)\n",
    "modeldeepchem_gslf = create_linear_classifier(gs_lf_tasks, 1,train_ratios,mode =\"linear_classification\")\n",
    "metric_gslf = dc.metrics.Metric(dc.metrics.roc_auc_score)\n",
    "modeldeepchem_gslf,train_scores_gslf,test_scores_gslf,losses_gslf= run_linear_classifier(modeldeepchem_gslf,embedding_train_dataset_gslf,embedding_test_dataset_gslf,metric_gslf,'roc_auc_score',nb_epoch = 100)\n",
    "predicted_labels=modeldeepchem_gslf.predict(embedding_test_dataset_gslf)"
   ]
  },
  {
   "cell_type": "code",
   "execution_count": null,
   "metadata": {
    "collapsed": false,
    "jupyter": {
     "outputs_hidden": false
    },
    "pycharm": {
     "name": "#%%\n"
    }
   },
   "outputs": [],
   "source": [
    "mAP(gs_lf_pom_y_test, predicted_labels, pos_thr=0.5)"
   ]
  },
  {
   "cell_type": "markdown",
   "metadata": {},
   "source": [
    "### molformer"
   ]
  },
  {
   "cell_type": "code",
   "execution_count": null,
   "metadata": {
    "collapsed": false,
    "jupyter": {
     "outputs_hidden": false
    },
    "pycharm": {
     "name": "#%%\n"
    }
   },
   "outputs": [],
   "source": [
    "train_ratios = get_class_imbalance_ratio(embedding_train_dataset_gslf)\n",
    "modeldeepchem_gslf = create_linear_classifier(gs_lf_tasks, 1,train_ratios,mode =\"linear_classification\")\n",
    "metric_gslf = dc.metrics.Metric(dc.metrics.roc_auc_score)\n",
    "modeldeepchem_gslf,train_scores_gslf,test_scores_gslf,losses_gslf= run_linear_classifier(modeldeepchem_gslf,embedding_train_dataset_gslf,embedding_test_dataset_gslf,metric_gslf,'roc_auc_score',nb_epoch = 100)\n",
    "predicted_labels=modeldeepchem_gslf.predict(embedding_test_dataset_gslf)"
   ]
  },
  {
   "cell_type": "code",
   "execution_count": null,
   "metadata": {
    "collapsed": false,
    "jupyter": {
     "outputs_hidden": false
    },
    "pycharm": {
     "name": "#%%\n"
    }
   },
   "outputs": [],
   "source": [
    "mAP(gs_lf_molformer_y_test, predicted_labels, pos_thr=0.5)"
   ]
  },
  {
   "cell_type": "markdown",
   "metadata": {},
   "source": [
    "### Alva"
   ]
  },
  {
   "cell_type": "code",
   "execution_count": null,
   "metadata": {
    "collapsed": false,
    "jupyter": {
     "outputs_hidden": false
    },
    "pycharm": {
     "name": "#%%\n"
    }
   },
   "outputs": [],
   "source": [
    "train_ratios = get_class_imbalance_ratio(embedding_train_dataset_gslf_alva)\n",
    "modeldeepchem_gslf_alva = create_linear_classifier(gs_lf_tasks, 1,train_ratios,mode =\"linear_classification\")\n",
    "metric_gslf = dc.metrics.Metric(dc.metrics.roc_auc_score)\n",
    "modeldeepchem_gslf_alva,train_scores_gslf_alva,test_scores_gslf_alva,losses_gslf_alva= run_linear_classifier(modeldeepchem_gslf_alva,embedding_train_dataset_gslf_alva,embedding_test_dataset_gslf_alva,metric_gslf,'roc_auc_score',nb_epoch = 100)\n",
    "predicted_labels=modeldeepchem_gslf_alva.predict(embedding_test_dataset_gslf_alva)"
   ]
  },
  {
   "cell_type": "code",
   "execution_count": null,
   "metadata": {
    "collapsed": false,
    "jupyter": {
     "outputs_hidden": false
    },
    "pycharm": {
     "name": "#%%\n"
    }
   },
   "outputs": [],
   "source": [
    "mAP(gs_lf_molformer_y_test, predicted_labels, pos_thr=0.5)"
   ]
  }
 ],
 "metadata": {
  "kernelspec": {
   "display_name": "Python 3 (ipykernel)",
   "language": "python",
   "name": "python3"
  },
  "language_info": {
   "codemirror_mode": {
    "name": "ipython",
    "version": 3
   },
   "file_extension": ".py",
   "mimetype": "text/x-python",
   "name": "python",
   "nbconvert_exporter": "python",
   "pygments_lexer": "ipython3",
   "version": "3.9.18"
  },
  "toc-autonumbering": true,
  "toc-showmarkdowntxt": true
 },
 "nbformat": 4,
 "nbformat_minor": 4
}

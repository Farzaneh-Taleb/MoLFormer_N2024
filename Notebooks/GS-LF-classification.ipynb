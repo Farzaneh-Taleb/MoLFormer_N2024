{
 "cells": [
  {
   "cell_type": "markdown",
   "metadata": {
    "collapsed": false,
    "jupyter": {
     "outputs_hidden": false
    },
    "pycharm": {
     "name": "#%% md\n"
    }
   },
   "source": [
    "# Load checkpoint and imports"
   ]
  },
  {
   "cell_type": "code",
   "metadata": {
    "collapsed": false,
    "jupyter": {
     "outputs_hidden": false
    },
    "pycharm": {
     "name": "#%%\n"
    },
    "ExecuteTime": {
     "end_time": "2024-06-07T09:51:06.030114Z",
     "start_time": "2024-06-07T09:51:06.023772Z"
    }
   },
   "source": [
    "device_name='cpu'"
   ],
   "outputs": [],
   "execution_count": 1
  },
  {
   "metadata": {
    "ExecuteTime": {
     "end_time": "2024-06-07T09:51:06.770096Z",
     "start_time": "2024-06-07T09:51:06.767254Z"
    }
   },
   "cell_type": "code",
   "source": [
    "import os\n",
    "import sys\n",
    "parent_dir = \"/Midgard/home/farzantn/phd/Olfaction/MoLFormer_N2024\"\n",
    "sys.path.append(parent_dir)\n",
    "parent_dir=\"/Midgard/home/farzantn/mambaforge/envs/MolTran_CUDA11_cuda/lib/python3.8\"\n",
    "sys.path.append(parent_dir)"
   ],
   "outputs": [],
   "execution_count": 2
  },
  {
   "cell_type": "code",
   "metadata": {
    "ExecuteTime": {
     "end_time": "2024-06-07T09:51:07.675148Z",
     "start_time": "2024-06-07T09:51:07.662291Z"
    }
   },
   "source": [
    "# ! conda remove openpom\n",
    "import sys\n",
    "sys.path.remove('/Users/farzaneh/opt/anaconda3/envs/open_pom/lib/python39.zip')"
   ],
   "outputs": [
    {
     "ename": "ValueError",
     "evalue": "list.remove(x): x not in list",
     "output_type": "error",
     "traceback": [
      "\u001B[0;31m---------------------------------------------------------------------------\u001B[0m",
      "\u001B[0;31mValueError\u001B[0m                                Traceback (most recent call last)",
      "Cell \u001B[0;32mIn[3], line 3\u001B[0m\n\u001B[1;32m      1\u001B[0m \u001B[38;5;66;03m# ! conda remove openpom\u001B[39;00m\n\u001B[1;32m      2\u001B[0m \u001B[38;5;28;01mimport\u001B[39;00m \u001B[38;5;21;01msys\u001B[39;00m\n\u001B[0;32m----> 3\u001B[0m \u001B[43msys\u001B[49m\u001B[38;5;241;43m.\u001B[39;49m\u001B[43mpath\u001B[49m\u001B[38;5;241;43m.\u001B[39;49m\u001B[43mremove\u001B[49m\u001B[43m(\u001B[49m\u001B[38;5;124;43m'\u001B[39;49m\u001B[38;5;124;43m/Users/farzaneh/opt/anaconda3/envs/open_pom/lib/python39.zip\u001B[39;49m\u001B[38;5;124;43m'\u001B[39;49m\u001B[43m)\u001B[49m\n",
      "\u001B[0;31mValueError\u001B[0m: list.remove(x): x not in list"
     ]
    }
   ],
   "execution_count": 3
  },
  {
   "cell_type": "code",
   "metadata": {
    "collapsed": false,
    "jupyter": {
     "outputs_hidden": false
    },
    "pycharm": {
     "name": "#%%\n"
    },
    "ExecuteTime": {
     "end_time": "2024-06-07T09:51:21.631451Z",
     "start_time": "2024-06-07T09:51:08.985466Z"
    }
   },
   "source": [
    "import pandas as pd\n",
    "import ast\n",
    "import numpy as np\n",
    "# base_path  = '../../../../../../T5 EVO/alignment_olfaction_datasets/data/'\n",
    "base_path = '/local_storage/datasets/farzaneh/alignment_olfaction_datasets/'\n",
    "\n",
    "import random\n",
    "from sklearn.linear_model import LogisticRegression\n",
    "from sklearn.multiclass import OneVsRestClassifier\n",
    "from sklearn.metrics import roc_auc_score\n",
    "from custom_utils.data_utils import get_class_imbalance_ratio\n",
    "import deepchem as dc\n",
    "from utils.custom_models  import *\n",
    "from constants import gs_lf_tasks\n",
    "from utils.prepare_datasets import *\n"
   ],
   "outputs": [
    {
     "name": "stderr",
     "output_type": "stream",
     "text": [
      "Skipped loading some Tensorflow models, missing a dependency. No module named 'tensorflow'\n",
      "Skipped loading modules with pytorch-geometric dependency, missing a dependency. No module named 'torch_geometric'\n",
      "Skipped loading modules with pytorch-geometric dependency, missing a dependency. cannot import name 'DMPNN' from 'deepchem.models.torch_models' (/Midgard/home/farzantn/mambaforge/envs/Mol/lib/python3.8/site-packages/deepchem/models/torch_models/__init__.py)\n",
      "Skipped loading some Jax models, missing a dependency. No module named 'jax'\n"
     ]
    }
   ],
   "execution_count": 4
  },
  {
   "cell_type": "code",
   "metadata": {
    "collapsed": false,
    "jupyter": {
     "outputs_hidden": false
    },
    "pycharm": {
     "name": "#%%\n"
    },
    "ExecuteTime": {
     "end_time": "2024-06-07T09:51:21.636081Z",
     "start_time": "2024-06-07T09:51:21.633061Z"
    }
   },
   "source": [
    "seed = 2024\n",
    "np.random.seed(seed)\n",
    "random.seed(seed)\n",
    "# torch.cuda.manual_seed_all(seed)"
   ],
   "outputs": [],
   "execution_count": 5
  },
  {
   "cell_type": "markdown",
   "metadata": {
    "collapsed": false,
    "jupyter": {
     "outputs_hidden": false
    },
    "pycharm": {
     "name": "#%% md\n"
    }
   },
   "source": [
    "# helper methods"
   ]
  },
  {
   "cell_type": "code",
   "metadata": {
    "collapsed": false,
    "jupyter": {
     "outputs_hidden": false
    },
    "pycharm": {
     "name": "#%%\n"
    },
    "ExecuteTime": {
     "end_time": "2024-06-07T09:51:24.199302Z",
     "start_time": "2024-06-07T09:51:24.196475Z"
    }
   },
   "source": [
    "# def metrics(y_true,y_predicted_prob):\n",
    "#     y_pred = np.round(y_predicted_prob)\n",
    "#     average_type = [None, 'macro' , 'weighted']\n",
    "# \n",
    "#     # for average in average_type:\n",
    "#     ap = average_precision_score(y_true, y_predicted_prob,average=None)\n",
    "#     ap_macro = average_precision_score(y_true, y_predicted_prob,average='macro')\n",
    "#     ap_weighted = average_precision_score(y_true, y_predicted_prob,average='weighted')\n",
    "#     \n",
    "#     precision = precision_score(y_true, y_pred,average=None)\n",
    "#     precision_macro = precision_score(y_true, y_pred,average='macro')\n",
    "#     precision_weighted = precision_score(y_true, y_pred,average='weighted')\n",
    "# \n",
    "# \n",
    "#     recall = recall_score(y_true, y_pred,average=None)\n",
    "#     recall_macro = recall_score(y_true, y_pred,average='macro')\n",
    "#     recall_weighted = recall_score(y_true, y_pred,average='weighted')\n",
    "# \n",
    "# \n",
    "#     f1 = f1_score(y_true, y_pred,average=None)\n",
    "#     f1_macro = f1_score(y_true, y_pred,average='macro')\n",
    "#     f1_weighted = f1_score(y_true, y_pred,average='weighted')\n",
    "# \n",
    "#     \n",
    "#     # true_labels = np.round(y_true)\n",
    "#     \n",
    "#     # print(true_labels)\n",
    "#     # print(y_true)\n",
    "#     return ap_macro,precision_macro,recall_macro,f1_macro\n",
    "#     "
   ],
   "outputs": [],
   "execution_count": 6
  },
  {
   "cell_type": "code",
   "metadata": {
    "collapsed": false,
    "jupyter": {
     "outputs_hidden": false
    },
    "pycharm": {
     "name": "#%%\n"
    },
    "ExecuteTime": {
     "end_time": "2024-06-07T09:51:24.842772Z",
     "start_time": "2024-06-07T09:51:24.839860Z"
    }
   },
   "source": [
    "def custom_logistic_regression(X,y):\n",
    "    logreg = LogisticRegression(max_iter=1000,random_state=seed,n_jobs=-1)\n",
    "    ovr = OneVsRestClassifier(logreg)\n",
    "    estimator=ovr.fit(X, y)\n",
    "    return estimator"
   ],
   "outputs": [],
   "execution_count": 7
  },
  {
   "cell_type": "code",
   "metadata": {
    "collapsed": false,
    "jupyter": {
     "outputs_hidden": false
    },
    "pycharm": {
     "name": "#%%\n"
    },
    "ExecuteTime": {
     "end_time": "2024-06-07T09:51:25.402900Z",
     "start_time": "2024-06-07T09:51:25.398131Z"
    }
   },
   "source": [
    "def pipeline_regression(data_groupbyCID,times,n_components=None,seed=seed):\n",
    "    mserrorrs_corssvalidated = []\n",
    "    correlations_corssvalidated = []\n",
    "    for i in range(times):\n",
    "        X=np.asarray(data_groupbyCID.embeddings.values.tolist())\n",
    "        y=np.asarray(data_groupbyCID.y.values.tolist())\n",
    "        # print(\"min\", X.min())\n",
    "        # print(\"max\", X.max())\n",
    "          \n",
    "        # print(\"X\",X)\n",
    "        X_train, X_test, y_train, y_test = train_test_split(X, y, test_size=0.2, random_state=seed+i)  \n",
    "        scaler = StandardScaler()\n",
    "        X_train = scaler.fit_transform(X_train)\n",
    "        X_test = scaler.transform(X_test)\n",
    "        if n_components is not None:\n",
    "            pca = PCA(n_components=n_components)\n",
    "            X_train=pca.fit_transform(X_train)\n",
    "            X_test=pca.transform(X_test)\n",
    "        linreg =custom_logistic_regression(X_train,y_train)\n",
    "        mseerrors, correlations=metrics_per_descritor(X_test,y_test,[str(i) for i in range(y.shape[1])],linreg)\n",
    "        mserrorrs_corssvalidated.append(mseerrors)\n",
    "        correlations_corssvalidated.append(correlations)\n",
    "    return mserrorrs_corssvalidated, correlations_corssvalidated"
   ],
   "outputs": [],
   "execution_count": 8
  },
  {
   "cell_type": "code",
   "metadata": {
    "collapsed": false,
    "jupyter": {
     "outputs_hidden": false
    },
    "pycharm": {
     "name": "#%%\n"
    },
    "ExecuteTime": {
     "end_time": "2024-06-07T09:51:25.901101Z",
     "start_time": "2024-06-07T09:51:25.890336Z"
    }
   },
   "source": [
    "def mAP(targs, preds, pos_thr=0.5):\n",
    "    \"\"\"Returns the model's average precision for each class\n",
    "    Return:\n",
    "        ap (FloatTensor): 1xK tensor, with avg precision for each class k\n",
    "    \"\"\"\n",
    "    def average_precision(output, target):\n",
    "        epsilon = 1e-8\n",
    "\n",
    "        # sort examples\n",
    "        indices = output.argsort()[::-1]\n",
    "        # Computes prec@i\n",
    "        total_count_ = np.cumsum(np.ones((len(output), 1)))\n",
    "\n",
    "        target_ = target[indices]\n",
    "        ind = target_ == 1\n",
    "        pos_count_ = np.cumsum(ind)\n",
    "        total = pos_count_[-1]\n",
    "        pos_count_[np.logical_not(ind)] = 0\n",
    "        pp = pos_count_ / total_count_\n",
    "        precision_at_i_ = np.sum(pp)\n",
    "        precision_at_i = precision_at_i_ / (total + epsilon)\n",
    "\n",
    "        return precision_at_i\n",
    "\n",
    "    if np.size(preds) == 0:\n",
    "        return 0\n",
    "    ap = np.zeros((preds.shape[1]))\n",
    "    # compute average precision for each class\n",
    "    for k in range(preds.shape[1]):\n",
    "        scores = preds[:, k]\n",
    "        targets = targs[:, k]\n",
    "        ap[k] = average_precision(scores, targets)\n",
    "    tp, fp, fn, tn = [], [], [], []\n",
    "    conf_matrices = []\n",
    "    \n",
    "    for k in range(preds.shape[0]):\n",
    "        scores = preds[k,:]\n",
    "        targets = targs[k,:]\n",
    "        pred = (scores > pos_thr).astype(np.int32)\n",
    "        tp.append(((pred + targets) == 2).sum())\n",
    "        fp.append(((pred - targets) == 1).sum())\n",
    "        fn.append(((pred - targets) == -1).sum())\n",
    "        tn.append(((pred + targets) == 0).sum())\n",
    "        conf_matrices.append(confusion_matrix(targets, pred))\n",
    "\n",
    "    p_c = [tp[i] / (tp[i] + fp[i]) if tp[i] > 0 else 0.0 for i in range(len(tp))]\n",
    "    r_c = [tp[i] / (tp[i] + fn[i]) if tp[i] > 0 else 0.0\n",
    "                for i in range(len(tp))]\n",
    "    f_c = [2 * p_c[i] * r_c[i] / (p_c[i] + r_c[i]) if tp[i] > 0 else 0.0\n",
    "                for i in range(len(tp))]\n",
    "\n",
    "    mean_p_c = sum(p_c) / len(p_c)\n",
    "    mean_r_c = sum(r_c) / len(r_c)\n",
    "    mean_f_c = sum(f_c) / len(f_c)\n",
    "\n",
    "    p_o = sum(tp) / (np.array(tp) + np.array(fp)).sum()\n",
    "    r_o = sum(tp) / (np.array(tp) + np.array(fn)).sum()\n",
    "    f_o = 2 * p_o * r_o / (p_o + r_o)\n",
    "    roc_auc=roc_auc_score(targs, preds)\n",
    "\n",
    "    return ap.mean(), mean_p_c, mean_r_c, mean_f_c, p_o, r_o, f_o,roc_auc, conf_matrices\n",
    "\n",
    "\n",
    "def tune_multilabel_thresholds(raw_scores, labels):\n",
    "    scores = 1. / (1. + np.exp(-1. * raw_scores))\n",
    "    threshs = np.zeros(labels.shape[1])\n",
    "\n",
    "    for j in range(labels.shape[1]):\n",
    "        precision, recall, thresholds = precision_recall_curve(labels[:, j], scores[:, j])\n",
    "        fscore = (2 * precision * recall) / (precision + recall)\n",
    "        threshs[j] = thresholds[np.argmax(fscore)]\n",
    "\n",
    "    return threshs"
   ],
   "outputs": [],
   "execution_count": 9
  },
  {
   "cell_type": "code",
   "metadata": {
    "collapsed": false,
    "jupyter": {
     "outputs_hidden": false
    },
    "pycharm": {
     "name": "#%%\n"
    },
    "ExecuteTime": {
     "end_time": "2024-06-07T09:51:26.426606Z",
     "start_time": "2024-06-07T09:51:26.423065Z"
    }
   },
   "source": [
    "def run_linear_classifier(modeldeepchem,embedding_dataset,embedding_test_dataset,metric,metric_str,nb_epoch = 2):\n",
    "    start_time = datetime.now()\n",
    "    \n",
    "    train_scores=[]\n",
    "    valid_scores=[]\n",
    "    losses=[]\n",
    "    for epoch in range(1, nb_epoch+1):\n",
    "        loss = modeldeepchem.fit(\n",
    "              embedding_dataset,\n",
    "              nb_epoch=1,\n",
    "              max_checkpoints_to_keep=1,\n",
    "              deterministic=False,\n",
    "              restore=epoch>1)\n",
    "        losses.append(loss)\n",
    "    \n",
    "    modeldeepchem.save_checkpoint()\n",
    "    end_time = datetime.now()\n",
    "    return modeldeepchem,train_scores,valid_scores,losses\n"
   ],
   "outputs": [],
   "execution_count": 10
  },
  {
   "cell_type": "code",
   "metadata": {
    "collapsed": false,
    "jupyter": {
     "outputs_hidden": false
    },
    "pycharm": {
     "name": "#%%\n"
    },
    "ExecuteTime": {
     "end_time": "2024-06-07T09:51:26.746876Z",
     "start_time": "2024-06-07T09:51:26.743062Z"
    }
   },
   "source": [
    "def create_linear_classifier(TASKS, n_classes,train_ratios,mode=\"classification\"):\n",
    "    n_classes = 1\n",
    "    n_tasks= len(TASKS)\n",
    "    if mode == \"classification\":\n",
    "        model = NonLinearModel(n_tasks).to(device_name)\n",
    "    elif mode == \"classification_small\":\n",
    "        model = LinearModelSmall(n_tasks).to(device_name)\n",
    "    elif mode == \"linear_classification\":\n",
    "        model = LinearModel(n_tasks).to(device_name)\n",
    "        \n",
    "    # model.n_tasks=n_tasks\n",
    "    model.n_classes=1\n",
    "    \n",
    "    # ratios = get_class_imbalance_ratio(train_dataset)\n",
    "    lr = 1e-4\n",
    "    \n",
    "    learning_rate = 0.001\n",
    "    modeldeepchem = LinearModelMultiLabelDeepchem(\\\n",
    "        model=model,class_imbalance_ratio=train_ratios,loss_aggr_type='sum',\\\n",
    "        device_name=device_name,mode=mode,optimizer_name = 'adam',\\\n",
    "        learning_rate=learning_rate,batch_size=128)\n",
    "    \n",
    "    return modeldeepchem\n",
    "    "
   ],
   "outputs": [],
   "execution_count": 11
  },
  {
   "cell_type": "code",
   "metadata": {
    "collapsed": false,
    "jupyter": {
     "outputs_hidden": false
    },
    "pycharm": {
     "name": "#%%\n"
    },
    "ExecuteTime": {
     "end_time": "2024-06-07T09:51:27.071951Z",
     "start_time": "2024-06-07T09:51:27.070017Z"
    }
   },
   "source": [
    "# def prepare_dataset(ds):\n",
    "#     ds['y'] = ds['y'].apply(ast.literal_eval)\n",
    "#     ds['embeddings'] = ds['embeddings'].apply(ast.literal_eval)\n",
    "#     return ds"
   ],
   "outputs": [],
   "execution_count": 12
  },
  {
   "cell_type": "code",
   "metadata": {
    "collapsed": false,
    "jupyter": {
     "outputs_hidden": false
    },
    "pycharm": {
     "name": "#%%\n"
    },
    "ExecuteTime": {
     "end_time": "2024-06-07T09:51:27.371830Z",
     "start_time": "2024-06-07T09:51:27.369786Z"
    }
   },
   "source": [
    "# def prepare_dataset_proba(ds):\n",
    "#     ds['y'] = ds['y'].apply(ast.literal_eval)\n",
    "#     ds['proba'] = ds['proba'].apply(ast.literal_eval)\n",
    "#     return ds"
   ],
   "outputs": [],
   "execution_count": 13
  },
  {
   "cell_type": "code",
   "metadata": {
    "collapsed": false,
    "jupyter": {
     "outputs_hidden": false
    },
    "pycharm": {
     "name": "#%%\n"
    },
    "ExecuteTime": {
     "end_time": "2024-06-07T09:51:27.651229Z",
     "start_time": "2024-06-07T09:51:27.647208Z"
    }
   },
   "source": [
    "def select_features(input_file):\n",
    "    ds_alva = pd.read_csv(input_file)\n",
    "\n",
    "\n",
    "    chemical_features_r=[\"nCIR\",\n",
    "                     \"ZM1\", \n",
    "                     \"GNar\", \n",
    "                     \"S1K\", \n",
    "                     \"piPC08\",\n",
    "                     \"MATS1v\",\n",
    "                     \"MATS7v\",\n",
    "                     \"GATS1v\", \n",
    "                     \"Eig05_AEA(bo)\", \n",
    "                     \"SM02_AEA(bo)\",\n",
    "                     \"SM03_AEA(dm)\",\n",
    "                     \"SM10_AEA(dm)\",\n",
    "                     \"SM13_AEA(dm)\",\n",
    "                      \"SpMin3_Bh(v)\",\n",
    "                     \"RDF035v\",\n",
    "                     \"G1m\",\n",
    "                     \"G1v\",\n",
    "                     \"G1e\",\n",
    "                     \"G3s\",\n",
    "                     \"R8u+\",\n",
    "                     \"nRCOSR\"]\n",
    "\n",
    "    nonStereoSMILE = list(map(lambda x: \"nonStereoSMILES___\" + x, chemical_features_r))\n",
    "    # IsomericSMILES = list(map(lambda x: \"IsomericSMILES___\" + x, chemical_features_r))\n",
    "    selected_features = nonStereoSMILE\n",
    "    features= ['main_idx','nonStereoSMILES']+selected_features\n",
    "    # print(\"cc1\", ds_alva.columns.values.tolist())\n",
    "    ds_alva= ds_alva.rename(columns={\"Unnamed: 0\":\"main_idx\"})\n",
    "    # print(\"cc2\", ds_alva.columns.values.tolist())\n",
    "    ds_alva_selected = ds_alva[features]\n",
    "    ds_alva_selected = ds_alva_selected.fillna(0)\n",
    "    ds_alva_selected['embeddings'] = ds_alva_selected[selected_features].values.tolist()\n",
    "    return ds_alva_selected"
   ],
   "outputs": [],
   "execution_count": 14
  },
  {
   "cell_type": "code",
   "metadata": {
    "collapsed": false,
    "jupyter": {
     "outputs_hidden": false
    },
    "pycharm": {
     "name": "#%%\n"
    },
    "ExecuteTime": {
     "end_time": "2024-06-07T09:51:27.892985Z",
     "start_time": "2024-06-07T09:51:27.888399Z"
    }
   },
   "source": [
    "def pipeline(input_file_alva,gs_lf_molformer,times=30,n_components=None,ds=\"keller\",seed=seed):\n",
    "    # input_file_keller = base_path+'openpom/data/curated_datasets/embeddings/molformer/keller_molformer_embeddings_13_Apr17.csv'\n",
    "    \n",
    "\n",
    "    \n",
    "    keller_alva = select_features(input_file_keller_alva)\n",
    "    keller_groupbyCID= pd.merge(keller_alva,keller_behavior,on=\"CID\")\n",
    "    \n",
    "        \n",
    "    mserrorrs_keller_corssvalidated, correlations_keller_corssvalidated=pipeline_regression(keller_groupbyCID,times=times,n_components=n_components,seed=seed)\n",
    "    mserrorrs_mean_keller,mserrorrs_std_keller,correlations_mean_keller,correlations_std_keller =post_process_results(mserrorrs_keller_corssvalidated, correlations_keller_corssvalidated)\n",
    "    mserrorrs_corssvalidated_keller,statistics_correlations_corssvalidated_keller,pvalues_correlations_corssvalidated_keller=post_process_results_df(mserrorrs_keller_corssvalidated, correlations_keller_corssvalidated)\n",
    "    df_keller_mse= pd.DataFrame(mserrorrs_corssvalidated_keller)\n",
    "    df_keller_mse['model'] = model_name\n",
    "    df_keller_cor= pd.DataFrame(statistics_correlations_corssvalidated_keller)\n",
    "    df_keller_cor['model'] = model_name\n",
    "    # df_keller = pd.concat((df_keller_molformer,df_keller_pom))\n",
    "    return df_keller_mse, df_keller_cor"
   ],
   "outputs": [],
   "execution_count": 15
  },
  {
   "cell_type": "markdown",
   "metadata": {
    "collapsed": false,
    "jupyter": {
     "outputs_hidden": false
    },
    "pycharm": {
     "name": "#%% md\n"
    }
   },
   "source": [
    "## Loading MolFormer Model"
   ]
  },
  {
   "cell_type": "markdown",
   "metadata": {
    "collapsed": false,
    "jupyter": {
     "outputs_hidden": false
    },
    "pycharm": {
     "name": "#%% md\n"
    }
   },
   "source": [
    "# Loading Human Embeddings"
   ]
  },
  {
   "cell_type": "markdown",
   "metadata": {
    "collapsed": false,
    "jupyter": {
     "outputs_hidden": false
    },
    "pycharm": {
     "name": "#%% md\n"
    }
   },
   "source": [
    "## Extracting embedding from MoLFormer for GS-LF"
   ]
  },
  {
   "metadata": {
    "ExecuteTime": {
     "end_time": "2024-06-07T09:51:29.179424Z",
     "start_time": "2024-06-07T09:51:29.169329Z"
    }
   },
   "cell_type": "code",
   "source": "indices_train,indices_valid,indices_test = extract_set_idxs(base_path, indices_path='curated_datasets/embeddings/pom/gslf-splits-idx.csv')",
   "outputs": [],
   "execution_count": 16
  },
  {
   "cell_type": "code",
   "metadata": {
    "collapsed": false,
    "jupyter": {
     "outputs_hidden": false
    },
    "pycharm": {
     "name": "#%%\n"
    },
    "ExecuteTime": {
     "end_time": "2024-06-07T09:51:39.881845Z",
     "start_time": "2024-06-07T09:51:29.850259Z"
    }
   },
   "source": [
    "gs_lf_molformer, gs_lf_molformer_np,gs_lf_molformer_y,gs_lf_molformer_embeddings_train,gs_lf_molformer_y_train,gs_lf_molformer_embeddings_valid,gs_lf_molformer_y_valid,gs_lf_molformer_embeddings_test,gs_lf_molformer_y_test = extract_set_from_indices(base_path, 'curated_datasets/embeddings/molformer/gslf_molformer_embeddings_13_Apr17.csv','embeddings','y', indices_train, indices_valid, indices_test)\n",
    "\n",
    "\n",
    "\n",
    "# input_file_molformer = base_path+'curated_datasets/embeddings/molformer/gslf_molformer_embeddings_13_Apr17.csv'\n",
    "# gs_lf_molformer=pd.read_csv(input_file_molformer)\n",
    "# gs_lf_molformer=prepare_dataset(gs_lf_molformer,'embeddings','y')\n",
    "# \n",
    "# gs_lf_molformer_np = np.asarray(gs_lf_molformer['embeddings'].tolist())\n",
    "# gs_lf_molformer_y = np.asarray(gs_lf_molformer['y'].tolist())\n",
    "# \n",
    "# gs_lf_molformer_embeddings_train = gs_lf_molformer_np[indices_train]\n",
    "# gs_lf_molformer_y_train = gs_lf_molformer_y[indices_train]\n",
    "# \n",
    "# gs_lf_molformer_embeddings_test = gs_lf_molformer_np[indices_test]\n",
    "# gs_lf_molformer_y_test = gs_lf_molformer_y[indices_test]\n",
    "# \n",
    "# gs_lf_molformer_embeddings_valid = gs_lf_molformer_np[indices_valid]\n",
    "# gs_lf_molformer_y_valid = gs_lf_molformer_y[indices_valid]\n",
    "\n",
    "# embedding_train_dataset_gslf = dc.data.DiskDataset.from_numpy(gs_lf_molformer_embeddings_train,gs_lf_molformer_y_train)\n",
    "# embedding_test_dataset_gslf = dc.data.DiskDataset.from_numpy(gs_lf_molformer_embeddings_test,gs_lf_molformer_y_test)\n",
    "# embedding_valid_dataset_gslf = dc.data.DiskDataset.from_numpy(gs_lf_molformer_embeddings_valid,gs_lf_molformer_y_valid)"
   ],
   "outputs": [],
   "execution_count": 17
  },
  {
   "cell_type": "code",
   "metadata": {
    "collapsed": false,
    "jupyter": {
     "outputs_hidden": false
    },
    "pycharm": {
     "name": "#%%\n"
    },
    "ExecuteTime": {
     "end_time": "2024-06-07T09:51:41.771552Z",
     "start_time": "2024-06-07T09:51:39.883389Z"
    }
   },
   "source": [
    "\n",
    "# input_file_pom = base_path + 'curated_datasets/proba/pom/gslf_pom_proba_Apr24.csv'\n",
    "# gs_lf_pom=pd.read_csv(input_file_pom)\n",
    "# gs_lf_pom=prepare_dataset(gs_lf_pom,'proba','y')\n",
    "# \n",
    "# gs_lf_pom_np = np.asarray(gs_lf_pom['proba'].tolist())\n",
    "# gs_lf_pom_y = np.asarray(gs_lf_pom['y'].tolist())\n",
    "# \n",
    "# gs_lf_pom_proba_train = gs_lf_pom_np[indices_train]\n",
    "# gs_lf_pom_y_train = gs_lf_pom_y[indices_train]\n",
    "# \n",
    "# gs_lf_pom_proba_test = gs_lf_pom_np[indices_test]\n",
    "# gs_lf_pom_y_test = gs_lf_pom_y[indices_test]\n",
    "# \n",
    "# gs_lf_pom_proba_valid = gs_lf_pom_np[indices_valid]\n",
    "# gs_lf_pom_y_valid = gs_lf_pom_y[indices_valid]\n",
    "\n",
    "gs_lf_pom, gs_lf_pom_np,gs_lf_pom_y,gs_lf_pom_proba_train,gs_lf_pom_y_train,gs_lf_pom_proba_valid,gs_lf_pom_y_valid,gs_lf_pom_proba_test,gs_lf_pom_y_test = extract_set_from_indices(base_path, 'curated_datasets/proba/pom/gslf_pom_proba_Apr24.csv','proba','y', indices_train, indices_valid, indices_test)\n",
    "\n",
    "\n",
    "\n",
    "# gs_lf_pom_embeddings_train = gs_lf_pom_np[indices_train]\n",
    "# gs_lf_pom_y_train = gs_lf_pom_y[indices_train]\n",
    "# \n",
    "# gs_lf_pom_embeddings_test = gs_lf_pom_np[indices_test]\n",
    "# gs_lf_pom_y_test = gs_lf_pom_y[indices_test]\n",
    "# \n",
    "# gs_lf_pom_embeddings_valid = gs_lf_pom_np[indices_valid]\n",
    "# gs_lf_pom_y_valid = gs_lf_pom_y[indices_valid]\n",
    "\n",
    "\n",
    "\n",
    "# embedding_train_dataset_gslf_pom = dc.data.DiskDataset.from_numpy(gs_lf_pom_embeddings_train,gs_lf_pom_y_train)\n",
    "# embedding_test_dataset_gslf_pom = dc.data.DiskDataset.from_numpy(gs_lf_pom_embeddings_test,gs_lf_pom_y_test)\n",
    "# embedding_valid_dataset_gslf_pom = dc.data.DiskDataset.from_numpy(gs_lf_pom_embeddings_valid,gs_lf_pom_y_valid)"
   ],
   "outputs": [],
   "execution_count": 18
  },
  {
   "cell_type": "code",
   "metadata": {
    "collapsed": false,
    "jupyter": {
     "outputs_hidden": false
    },
    "pycharm": {
     "name": "#%%\n"
    },
    "ExecuteTime": {
     "end_time": "2024-06-07T09:50:02.528891Z",
     "start_time": "2024-06-07T09:50:02.525143Z"
    }
   },
   "source": [
    "# gs_lf_alva.columns.values.tolist()"
   ],
   "outputs": [],
   "execution_count": 17
  },
  {
   "cell_type": "code",
   "metadata": {
    "collapsed": false,
    "jupyter": {
     "outputs_hidden": false
    },
    "pycharm": {
     "name": "#%%\n"
    },
    "ExecuteTime": {
     "end_time": "2024-06-07T09:50:02.721343Z",
     "start_time": "2024-06-07T09:50:02.719380Z"
    }
   },
   "source": [],
   "outputs": [],
   "execution_count": 17
  },
  {
   "cell_type": "code",
   "metadata": {
    "collapsed": false,
    "jupyter": {
     "outputs_hidden": false
    },
    "pycharm": {
     "name": "#%%\n"
    },
    "ExecuteTime": {
     "end_time": "2024-06-07T09:50:02.847371Z",
     "start_time": "2024-06-07T09:50:02.829850Z"
    }
   },
   "source": [
    "input_file_alva= base_path+'curated_datasets/alva/gslf_molecules_alva_17Apr.csv'\n",
    "gs_lf_alva=select_features(input_file_alva)\n",
    "# gs_lf_alva #keep embeddings\n",
    "\n",
    "gs_lf_y=gs_lf_pom.copy() #only keep y\n",
    "gs_lf_y.index.names = ['main_idx'] \n",
    "# del gs_lf_y['embeddings']\n",
    "gs_lf_alva=pd.merge(gs_lf_alva, gs_lf_y, on='main_idx')\n",
    "# gs_lf_alva\n",
    "# gs_lf_alva.columns.values.tolist()\n",
    "gs_lf_alva_np = np.asarray(gs_lf_alva.embeddings.tolist())\n",
    "gs_lf_alva_y = np.asarray(gs_lf_alva.y.tolist())\n",
    "\n",
    "\n",
    "gs_lf_alva_features_train = gs_lf_alva_np[indices_train]\n",
    "gs_lf_alva_y_train = gs_lf_alva_y[indices_train]\n",
    "\n",
    "gs_lf_alva_features_test = gs_lf_alva_np[indices_test]\n",
    "gs_lf_alva_y_test = gs_lf_alva_y[indices_test]\n",
    "\n",
    "gs_lf_alva_features_valid = gs_lf_alva_np[indices_valid]\n",
    "gs_lf_alva_y_valid = gs_lf_alva_y[indices_valid]\n",
    "\n",
    "# gs_lf_y.columns."
   ],
   "outputs": [
    {
     "ename": "NameError",
     "evalue": "name 'base_path' is not defined",
     "output_type": "error",
     "traceback": [
      "\u001B[0;31m---------------------------------------------------------------------------\u001B[0m",
      "\u001B[0;31mNameError\u001B[0m                                 Traceback (most recent call last)",
      "Cell \u001B[0;32mIn[18], line 1\u001B[0m\n\u001B[0;32m----> 1\u001B[0m input_file_alva\u001B[38;5;241m=\u001B[39m \u001B[43mbase_path\u001B[49m\u001B[38;5;241m+\u001B[39m\u001B[38;5;124m'\u001B[39m\u001B[38;5;124mcurated_datasets/alva/gslf_molecules_alva_17Apr.csv\u001B[39m\u001B[38;5;124m'\u001B[39m\n\u001B[1;32m      2\u001B[0m \u001B[38;5;66;03m# gs_lf_alva=pd.read_csv(input_file_alva)\u001B[39;00m\n\u001B[1;32m      3\u001B[0m \u001B[38;5;66;03m# gs_lf_alva=pd.read_csv(input_file_alva)\u001B[39;00m\n\u001B[1;32m      5\u001B[0m gs_lf_alva\u001B[38;5;241m=\u001B[39mselect_features(input_file_alva)\n",
      "\u001B[0;31mNameError\u001B[0m: name 'base_path' is not defined"
     ]
    }
   ],
   "execution_count": 18
  },
  {
   "cell_type": "code",
   "metadata": {
    "collapsed": false,
    "jupyter": {
     "outputs_hidden": false
    },
    "pycharm": {
     "name": "#%%\n"
    },
    "ExecuteTime": {
     "end_time": "2024-06-07T09:50:02.963635Z",
     "start_time": "2024-06-07T09:50:02.951115Z"
    }
   },
   "source": [
    "embedding_train_dataset_gslf_alva = dc.data.DiskDataset.from_numpy(gs_lf_alva_features_train,gs_lf_alva_y_train)\n",
    "embedding_test_dataset_gslf_alva = dc.data.DiskDataset.from_numpy(gs_lf_alva_features_test,gs_lf_alva_y_test)\n",
    "embedding_valid_dataset_gslf_alva = dc.data.DiskDataset.from_numpy(gs_lf_alva_features_valid,gs_lf_alva_y_valid)"
   ],
   "outputs": [
    {
     "ename": "NameError",
     "evalue": "name 'dc' is not defined",
     "output_type": "error",
     "traceback": [
      "\u001B[0;31m---------------------------------------------------------------------------\u001B[0m",
      "\u001B[0;31mNameError\u001B[0m                                 Traceback (most recent call last)",
      "Cell \u001B[0;32mIn[19], line 1\u001B[0m\n\u001B[0;32m----> 1\u001B[0m embedding_train_dataset_gslf_alva \u001B[38;5;241m=\u001B[39m \u001B[43mdc\u001B[49m\u001B[38;5;241m.\u001B[39mdata\u001B[38;5;241m.\u001B[39mDiskDataset\u001B[38;5;241m.\u001B[39mfrom_numpy(gs_lf_alva_features_train,gs_lf_alva_y_train)\n\u001B[1;32m      2\u001B[0m embedding_test_dataset_gslf_alva \u001B[38;5;241m=\u001B[39m dc\u001B[38;5;241m.\u001B[39mdata\u001B[38;5;241m.\u001B[39mDiskDataset\u001B[38;5;241m.\u001B[39mfrom_numpy(gs_lf_alva_features_test,gs_lf_alva_y_test)\n\u001B[1;32m      3\u001B[0m embedding_valid_dataset_gslf_alva \u001B[38;5;241m=\u001B[39m dc\u001B[38;5;241m.\u001B[39mdata\u001B[38;5;241m.\u001B[39mDiskDataset\u001B[38;5;241m.\u001B[39mfrom_numpy(gs_lf_alva_features_valid,gs_lf_alva_y_valid)\n",
      "\u001B[0;31mNameError\u001B[0m: name 'dc' is not defined"
     ]
    }
   ],
   "execution_count": 19
  },
  {
   "cell_type": "markdown",
   "metadata": {
    "collapsed": false,
    "jupyter": {
     "outputs_hidden": false
    },
    "pycharm": {
     "name": "#%% md\n"
    }
   },
   "source": [
    "# Training a Linear Classifier using DeepChem "
   ]
  },
  {
   "cell_type": "markdown",
   "metadata": {
    "collapsed": false,
    "jupyter": {
     "outputs_hidden": false
    },
    "pycharm": {
     "name": "#%% md\n"
    }
   },
   "source": [
    "##  Training a non-Linear Classifier using DeepChem and Embeddding of GS-LF extracted from MoLFormer"
   ]
  },
  {
   "cell_type": "markdown",
   "metadata": {
    "collapsed": false,
    "jupyter": {
     "outputs_hidden": false
    },
    "pycharm": {
     "name": "#%% md\n"
    }
   },
   "source": [
    "### POM"
   ]
  },
  {
   "cell_type": "code",
   "metadata": {
    "collapsed": false,
    "jupyter": {
     "outputs_hidden": false
    },
    "pycharm": {
     "name": "#%%\n"
    },
    "ExecuteTime": {
     "end_time": "2024-06-07T09:50:03.060848Z",
     "start_time": "2024-06-07T09:50:03.048819Z"
    }
   },
   "source": [
    "mAP(gs_lf_pom_y_test, gs_lf_pom_proba_test, pos_thr=0.5)"
   ],
   "outputs": [
    {
     "ename": "NameError",
     "evalue": "name 'gs_lf_pom_y_test' is not defined",
     "output_type": "error",
     "traceback": [
      "\u001B[0;31m---------------------------------------------------------------------------\u001B[0m",
      "\u001B[0;31mNameError\u001B[0m                                 Traceback (most recent call last)",
      "Cell \u001B[0;32mIn[20], line 1\u001B[0m\n\u001B[0;32m----> 1\u001B[0m mAP(\u001B[43mgs_lf_pom_y_test\u001B[49m, gs_lf_pom_proba_test, pos_thr\u001B[38;5;241m=\u001B[39m\u001B[38;5;241m0.5\u001B[39m)\n",
      "\u001B[0;31mNameError\u001B[0m: name 'gs_lf_pom_y_test' is not defined"
     ]
    }
   ],
   "execution_count": 20
  },
  {
   "cell_type": "markdown",
   "metadata": {
    "collapsed": false,
    "jupyter": {
     "outputs_hidden": false
    },
    "pycharm": {
     "name": "#%% md\n"
    }
   },
   "source": [
    "### molformer"
   ]
  },
  {
   "cell_type": "code",
   "metadata": {
    "collapsed": false,
    "jupyter": {
     "outputs_hidden": false
    },
    "pycharm": {
     "name": "#%%\n"
    },
    "ExecuteTime": {
     "end_time": "2024-06-07T09:50:03.249020Z",
     "start_time": "2024-06-07T09:50:03.217786Z"
    }
   },
   "source": [
    "train_ratios = get_class_imbalance_ratio(embedding_train_dataset_gslf_pom)\n",
    "modeldeepchem_gslf = create_linear_classifier(gs_lf_tasks, 1,train_ratios,\"linear_classification\")\n",
    "metric_gslf = dc.metrics.Metric(dc.metrics.roc_auc_score)\n",
    "modeldeepchem_gslf,train_scores_gslf,test_scores_gslf,losses_gslf= run_linear_classifier(modeldeepchem_gslf,embedding_train_dataset_gslf_pom,embedding_test_dataset_gslf_pom,metric_gslf,'roc_auc_score',nb_epoch = 100)\n",
    "predicted_labels=modeldeepchem_gslf.predict(embedding_test_dataset_gslf)"
   ],
   "outputs": [
    {
     "ename": "NameError",
     "evalue": "name 'get_class_imbalance_ratio' is not defined",
     "output_type": "error",
     "traceback": [
      "\u001B[0;31m---------------------------------------------------------------------------\u001B[0m",
      "\u001B[0;31mNameError\u001B[0m                                 Traceback (most recent call last)",
      "Cell \u001B[0;32mIn[21], line 1\u001B[0m\n\u001B[0;32m----> 1\u001B[0m train_ratios \u001B[38;5;241m=\u001B[39m \u001B[43mget_class_imbalance_ratio\u001B[49m(embedding_train_dataset_gslf_pom)\n\u001B[1;32m      2\u001B[0m modeldeepchem_gslf \u001B[38;5;241m=\u001B[39m create_linear_classifier(gs_lf_tasks, \u001B[38;5;241m1\u001B[39m,train_ratios,\u001B[38;5;124m\"\u001B[39m\u001B[38;5;124mlinear_classification\u001B[39m\u001B[38;5;124m\"\u001B[39m)\n\u001B[1;32m      3\u001B[0m metric_gslf \u001B[38;5;241m=\u001B[39m dc\u001B[38;5;241m.\u001B[39mmetrics\u001B[38;5;241m.\u001B[39mMetric(dc\u001B[38;5;241m.\u001B[39mmetrics\u001B[38;5;241m.\u001B[39mroc_auc_score)\n",
      "\u001B[0;31mNameError\u001B[0m: name 'get_class_imbalance_ratio' is not defined"
     ]
    }
   ],
   "execution_count": 21
  },
  {
   "cell_type": "code",
   "metadata": {
    "collapsed": false,
    "jupyter": {
     "outputs_hidden": false
    },
    "pycharm": {
     "name": "#%%\n"
    },
    "ExecuteTime": {
     "end_time": "2024-06-07T09:50:03.370613Z",
     "start_time": "2024-06-07T09:50:03.272815Z"
    }
   },
   "source": [
    "mAP(gs_lf_molformer_y_test, predicted_labels, pos_thr=0.5)"
   ],
   "outputs": [
    {
     "ename": "NameError",
     "evalue": "name 'gs_lf_molformer_y_test' is not defined",
     "output_type": "error",
     "traceback": [
      "\u001B[0;31m---------------------------------------------------------------------------\u001B[0m",
      "\u001B[0;31mNameError\u001B[0m                                 Traceback (most recent call last)",
      "Cell \u001B[0;32mIn[22], line 1\u001B[0m\n\u001B[0;32m----> 1\u001B[0m mAP(\u001B[43mgs_lf_molformer_y_test\u001B[49m, predicted_labels, pos_thr\u001B[38;5;241m=\u001B[39m\u001B[38;5;241m0.5\u001B[39m)\n",
      "\u001B[0;31mNameError\u001B[0m: name 'gs_lf_molformer_y_test' is not defined"
     ]
    }
   ],
   "execution_count": 22
  },
  {
   "cell_type": "markdown",
   "metadata": {
    "collapsed": false,
    "jupyter": {
     "outputs_hidden": false
    },
    "pycharm": {
     "name": "#%% md\n"
    }
   },
   "source": [
    "### Alva"
   ]
  },
  {
   "cell_type": "code",
   "metadata": {
    "collapsed": false,
    "jupyter": {
     "outputs_hidden": false
    },
    "pycharm": {
     "name": "#%%\n"
    },
    "ExecuteTime": {
     "end_time": "2024-06-07T09:50:03.586883Z",
     "start_time": "2024-06-07T09:50:03.573854Z"
    }
   },
   "source": [
    "train_ratios = get_class_imbalance_ratio(embedding_train_dataset_gslf_alva)\n",
    "modeldeepchem_gslf_alva = create_linear_classifier(gs_lf_tasks, 1,train_ratios,\"classification_small\")\n",
    "metric_gslf = dc.metrics.Metric(dc.metrics.roc_auc_score)\n",
    "modeldeepchem_gslf_alva,train_scores_gslf_alva,test_scores_gslf_alva,losses_gslf_alva= run_linear_classifier(modeldeepchem_gslf_alva,embedding_train_dataset_gslf_alva,embedding_test_dataset_gslf_alva,metric_gslf,'roc_auc_score',nb_epoch = 100)\n",
    "predicted_labels=modeldeepchem_gslf_alva.predict(embedding_test_dataset_gslf_alva)"
   ],
   "outputs": [
    {
     "ename": "NameError",
     "evalue": "name 'get_class_imbalance_ratio' is not defined",
     "output_type": "error",
     "traceback": [
      "\u001B[0;31m---------------------------------------------------------------------------\u001B[0m",
      "\u001B[0;31mNameError\u001B[0m                                 Traceback (most recent call last)",
      "Cell \u001B[0;32mIn[23], line 1\u001B[0m\n\u001B[0;32m----> 1\u001B[0m train_ratios \u001B[38;5;241m=\u001B[39m \u001B[43mget_class_imbalance_ratio\u001B[49m(embedding_train_dataset_gslf_alva)\n\u001B[1;32m      2\u001B[0m modeldeepchem_gslf_alva \u001B[38;5;241m=\u001B[39m create_linear_classifier(gs_lf_tasks, \u001B[38;5;241m1\u001B[39m,train_ratios,\u001B[38;5;124m\"\u001B[39m\u001B[38;5;124mclassification_small\u001B[39m\u001B[38;5;124m\"\u001B[39m)\n\u001B[1;32m      3\u001B[0m metric_gslf \u001B[38;5;241m=\u001B[39m dc\u001B[38;5;241m.\u001B[39mmetrics\u001B[38;5;241m.\u001B[39mMetric(dc\u001B[38;5;241m.\u001B[39mmetrics\u001B[38;5;241m.\u001B[39mroc_auc_score)\n",
      "\u001B[0;31mNameError\u001B[0m: name 'get_class_imbalance_ratio' is not defined"
     ]
    }
   ],
   "execution_count": 23
  },
  {
   "cell_type": "code",
   "metadata": {
    "collapsed": false,
    "jupyter": {
     "outputs_hidden": false
    },
    "pycharm": {
     "name": "#%%\n"
    },
    "ExecuteTime": {
     "end_time": "2024-06-07T09:50:03.694941Z",
     "start_time": "2024-06-07T09:50:03.683910Z"
    }
   },
   "source": [
    "mAP(gs_lf_molformer_y_test, predicted_labels, pos_thr=0.5)"
   ],
   "outputs": [
    {
     "ename": "NameError",
     "evalue": "name 'gs_lf_molformer_y_test' is not defined",
     "output_type": "error",
     "traceback": [
      "\u001B[0;31m---------------------------------------------------------------------------\u001B[0m",
      "\u001B[0;31mNameError\u001B[0m                                 Traceback (most recent call last)",
      "Cell \u001B[0;32mIn[24], line 1\u001B[0m\n\u001B[0;32m----> 1\u001B[0m mAP(\u001B[43mgs_lf_molformer_y_test\u001B[49m, predicted_labels, pos_thr\u001B[38;5;241m=\u001B[39m\u001B[38;5;241m0.5\u001B[39m)\n",
      "\u001B[0;31mNameError\u001B[0m: name 'gs_lf_molformer_y_test' is not defined"
     ]
    }
   ],
   "execution_count": 24
  },
  {
   "cell_type": "markdown",
   "metadata": {
    "collapsed": false,
    "jupyter": {
     "outputs_hidden": false
    },
    "pycharm": {
     "name": "#%% md\n"
    }
   },
   "source": [
    "### POM"
   ]
  },
  {
   "cell_type": "code",
   "metadata": {
    "collapsed": false,
    "jupyter": {
     "outputs_hidden": false
    },
    "pycharm": {
     "name": "#%%\n"
    },
    "ExecuteTime": {
     "end_time": "2024-06-07T09:50:03.785152Z",
     "start_time": "2024-06-07T09:50:03.774192Z"
    }
   },
   "source": [
    "mAP(gs_lf_pom_y_test, gs_lf_pom_proba_test, pos_thr=0.5)"
   ],
   "outputs": [
    {
     "ename": "NameError",
     "evalue": "name 'gs_lf_pom_y_test' is not defined",
     "output_type": "error",
     "traceback": [
      "\u001B[0;31m---------------------------------------------------------------------------\u001B[0m",
      "\u001B[0;31mNameError\u001B[0m                                 Traceback (most recent call last)",
      "Cell \u001B[0;32mIn[25], line 1\u001B[0m\n\u001B[0;32m----> 1\u001B[0m mAP(\u001B[43mgs_lf_pom_y_test\u001B[49m, gs_lf_pom_proba_test, pos_thr\u001B[38;5;241m=\u001B[39m\u001B[38;5;241m0.5\u001B[39m)\n",
      "\u001B[0;31mNameError\u001B[0m: name 'gs_lf_pom_y_test' is not defined"
     ]
    }
   ],
   "execution_count": 25
  },
  {
   "cell_type": "markdown",
   "metadata": {
    "collapsed": false,
    "jupyter": {
     "outputs_hidden": false
    },
    "pycharm": {
     "name": "#%% md\n"
    }
   },
   "source": [
    "### molformer"
   ]
  },
  {
   "cell_type": "code",
   "metadata": {
    "collapsed": false,
    "jupyter": {
     "outputs_hidden": false
    },
    "pycharm": {
     "name": "#%%\n"
    },
    "ExecuteTime": {
     "end_time": "2024-06-07T09:50:03.978742Z",
     "start_time": "2024-06-07T09:50:03.965958Z"
    }
   },
   "source": [
    "train_ratios = get_class_imbalance_ratio(embedding_train_dataset_gslf)\n",
    "modeldeepchem_gslf = create_linear_classifier(gs_lf_tasks, 1,train_ratios)\n",
    "metric_gslf = dc.metrics.Metric(dc.metrics.roc_auc_score)\n",
    "modeldeepchem_gslf,train_scores_gslf,test_scores_gslf,losses_gslf= run_linear_classifier(modeldeepchem_gslf,embedding_train_dataset_gslf,embedding_test_dataset_gslf,metric_gslf,'roc_auc_score',nb_epoch = 100)\n",
    "predicted_labels=modeldeepchem_gslf.predict(embedding_test_dataset_gslf)"
   ],
   "outputs": [
    {
     "ename": "NameError",
     "evalue": "name 'get_class_imbalance_ratio' is not defined",
     "output_type": "error",
     "traceback": [
      "\u001B[0;31m---------------------------------------------------------------------------\u001B[0m",
      "\u001B[0;31mNameError\u001B[0m                                 Traceback (most recent call last)",
      "Cell \u001B[0;32mIn[26], line 1\u001B[0m\n\u001B[0;32m----> 1\u001B[0m train_ratios \u001B[38;5;241m=\u001B[39m \u001B[43mget_class_imbalance_ratio\u001B[49m(embedding_train_dataset_gslf)\n\u001B[1;32m      2\u001B[0m modeldeepchem_gslf \u001B[38;5;241m=\u001B[39m create_linear_classifier(gs_lf_tasks, \u001B[38;5;241m1\u001B[39m,train_ratios)\n\u001B[1;32m      3\u001B[0m metric_gslf \u001B[38;5;241m=\u001B[39m dc\u001B[38;5;241m.\u001B[39mmetrics\u001B[38;5;241m.\u001B[39mMetric(dc\u001B[38;5;241m.\u001B[39mmetrics\u001B[38;5;241m.\u001B[39mroc_auc_score)\n",
      "\u001B[0;31mNameError\u001B[0m: name 'get_class_imbalance_ratio' is not defined"
     ]
    }
   ],
   "execution_count": 26
  },
  {
   "cell_type": "code",
   "metadata": {
    "collapsed": false,
    "jupyter": {
     "outputs_hidden": false
    },
    "pycharm": {
     "name": "#%%\n"
    },
    "ExecuteTime": {
     "end_time": "2024-06-07T09:50:04.108515Z",
     "start_time": "2024-06-07T09:50:04.096954Z"
    }
   },
   "source": [
    "mAP(gs_lf_molformer_y_test, predicted_labels, pos_thr=0.5)"
   ],
   "outputs": [
    {
     "ename": "NameError",
     "evalue": "name 'gs_lf_molformer_y_test' is not defined",
     "output_type": "error",
     "traceback": [
      "\u001B[0;31m---------------------------------------------------------------------------\u001B[0m",
      "\u001B[0;31mNameError\u001B[0m                                 Traceback (most recent call last)",
      "Cell \u001B[0;32mIn[27], line 1\u001B[0m\n\u001B[0;32m----> 1\u001B[0m mAP(\u001B[43mgs_lf_molformer_y_test\u001B[49m, predicted_labels, pos_thr\u001B[38;5;241m=\u001B[39m\u001B[38;5;241m0.5\u001B[39m)\n",
      "\u001B[0;31mNameError\u001B[0m: name 'gs_lf_molformer_y_test' is not defined"
     ]
    }
   ],
   "execution_count": 27
  },
  {
   "cell_type": "markdown",
   "metadata": {
    "collapsed": false,
    "jupyter": {
     "outputs_hidden": false
    },
    "pycharm": {
     "name": "#%% md\n"
    }
   },
   "source": [
    "### Alva"
   ]
  },
  {
   "cell_type": "code",
   "metadata": {
    "collapsed": false,
    "jupyter": {
     "outputs_hidden": false
    },
    "pycharm": {
     "name": "#%%\n"
    },
    "ExecuteTime": {
     "end_time": "2024-06-07T09:50:04.239894Z",
     "start_time": "2024-06-07T09:50:04.225872Z"
    }
   },
   "source": [
    "train_ratios = get_class_imbalance_ratio(embedding_train_dataset_gslf_alva)\n",
    "# modeldeepchem_gslf_alva = create_linear_classifier(gs_lf_tasks, 1,train_ratios,\"classification_small\")\n",
    "modeldeepchem_gslf_alva = create_linear_classifier(gs_lf_tasks, 1,train_ratios)\n",
    "\n",
    "metric_gslf = dc.metrics.Metric(dc.metrics.roc_auc_score)\n",
    "modeldeepchem_gslf_alva,train_scores_gslf_alva,test_scores_gslf_alva,losses_gslf_alva= run_linear_classifier(modeldeepchem_gslf_alva,embedding_train_dataset_gslf_alva,embedding_test_dataset_gslf_alva,metric_gslf,'roc_auc_score',nb_epoch = 100)\n",
    "predicted_labels=modeldeepchem_gslf_alva.predict(embedding_test_dataset_gslf_alva)"
   ],
   "outputs": [
    {
     "ename": "NameError",
     "evalue": "name 'get_class_imbalance_ratio' is not defined",
     "output_type": "error",
     "traceback": [
      "\u001B[0;31m---------------------------------------------------------------------------\u001B[0m",
      "\u001B[0;31mNameError\u001B[0m                                 Traceback (most recent call last)",
      "Cell \u001B[0;32mIn[28], line 1\u001B[0m\n\u001B[0;32m----> 1\u001B[0m train_ratios \u001B[38;5;241m=\u001B[39m \u001B[43mget_class_imbalance_ratio\u001B[49m(embedding_train_dataset_gslf_alva)\n\u001B[1;32m      2\u001B[0m \u001B[38;5;66;03m# modeldeepchem_gslf_alva = create_linear_classifier(gs_lf_tasks, 1,train_ratios,\"classification_small\")\u001B[39;00m\n\u001B[1;32m      3\u001B[0m modeldeepchem_gslf_alva \u001B[38;5;241m=\u001B[39m create_linear_classifier(gs_lf_tasks, \u001B[38;5;241m1\u001B[39m,train_ratios)\n",
      "\u001B[0;31mNameError\u001B[0m: name 'get_class_imbalance_ratio' is not defined"
     ]
    }
   ],
   "execution_count": 28
  },
  {
   "cell_type": "code",
   "metadata": {
    "collapsed": false,
    "jupyter": {
     "outputs_hidden": false
    },
    "pycharm": {
     "name": "#%%\n"
    },
    "ExecuteTime": {
     "end_time": "2024-06-07T09:50:04.314830Z",
     "start_time": "2024-06-07T09:50:04.303849Z"
    }
   },
   "source": [
    "mAP(gs_lf_molformer_y_test, predicted_labels, pos_thr=0.5)"
   ],
   "outputs": [
    {
     "ename": "NameError",
     "evalue": "name 'gs_lf_molformer_y_test' is not defined",
     "output_type": "error",
     "traceback": [
      "\u001B[0;31m---------------------------------------------------------------------------\u001B[0m",
      "\u001B[0;31mNameError\u001B[0m                                 Traceback (most recent call last)",
      "Cell \u001B[0;32mIn[29], line 1\u001B[0m\n\u001B[0;32m----> 1\u001B[0m mAP(\u001B[43mgs_lf_molformer_y_test\u001B[49m, predicted_labels, pos_thr\u001B[38;5;241m=\u001B[39m\u001B[38;5;241m0.5\u001B[39m)\n",
      "\u001B[0;31mNameError\u001B[0m: name 'gs_lf_molformer_y_test' is not defined"
     ]
    }
   ],
   "execution_count": 29
  },
  {
   "cell_type": "code",
   "metadata": {
    "collapsed": false,
    "jupyter": {
     "outputs_hidden": false
    },
    "pycharm": {
     "name": "#%%\n"
    },
    "ExecuteTime": {
     "end_time": "2024-06-07T09:50:04.504526Z",
     "start_time": "2024-06-07T09:50:04.502820Z"
    }
   },
   "source": [],
   "outputs": [],
   "execution_count": 29
  },
  {
   "cell_type": "code",
   "metadata": {
    "collapsed": false,
    "jupyter": {
     "outputs_hidden": false
    },
    "pycharm": {
     "name": "#%%\n"
    },
    "ExecuteTime": {
     "end_time": "2024-06-07T09:50:04.622556Z",
     "start_time": "2024-06-07T09:50:04.620633Z"
    }
   },
   "source": [
    "# mAP(gs_lf_alva_y_test, predicted_labels, pos_thr=0.5)"
   ],
   "outputs": [],
   "execution_count": 30
  },
  {
   "cell_type": "code",
   "metadata": {
    "collapsed": false,
    "jupyter": {
     "outputs_hidden": false
    },
    "pycharm": {
     "name": "#%%\n"
    },
    "ExecuteTime": {
     "end_time": "2024-06-07T09:50:04.732038Z",
     "start_time": "2024-06-07T09:50:04.730124Z"
    }
   },
   "source": [
    "# estimator= custom_logistic_regression(gs_lf_alva_features_train,gs_lf_alva_y_train)\n",
    "# predicted_labels=estimator.predict(gs_lf_alva_features_test)"
   ],
   "outputs": [],
   "execution_count": 31
  },
  {
   "cell_type": "code",
   "metadata": {
    "collapsed": false,
    "jupyter": {
     "outputs_hidden": false
    },
    "pycharm": {
     "name": "#%%\n"
    },
    "ExecuteTime": {
     "end_time": "2024-06-07T09:50:04.809475Z",
     "start_time": "2024-06-07T09:50:04.807491Z"
    }
   },
   "source": [
    "# mAP(gs_lf_molformer_y_test, predicted_labels, pos_thr=0.5)"
   ],
   "outputs": [],
   "execution_count": 32
  },
  {
   "cell_type": "markdown",
   "metadata": {
    "collapsed": false,
    "jupyter": {
     "outputs_hidden": false
    },
    "pycharm": {
     "name": "#%% md\n"
    }
   },
   "source": [
    "##  Training a Linear Classifier using DeepChem and Embeddding of GS-LF extracted from MoLFormer"
   ]
  },
  {
   "cell_type": "markdown",
   "metadata": {
    "collapsed": false,
    "jupyter": {
     "outputs_hidden": false
    },
    "pycharm": {
     "name": "#%% md\n"
    }
   },
   "source": [
    "### POM"
   ]
  },
  {
   "cell_type": "code",
   "metadata": {
    "collapsed": false,
    "jupyter": {
     "outputs_hidden": false
    },
    "pycharm": {
     "name": "#%%\n"
    },
    "ExecuteTime": {
     "end_time": "2024-06-07T09:50:04.983107Z",
     "start_time": "2024-06-07T09:50:04.969923Z"
    }
   },
   "source": [
    "train_ratios = get_class_imbalance_ratio(embedding_train_dataset_gslf)\n",
    "modeldeepchem_gslf = create_linear_classifier(gs_lf_tasks, 1,train_ratios,mode =\"linear_classification\")\n",
    "metric_gslf = dc.metrics.Metric(dc.metrics.roc_auc_score)\n",
    "modeldeepchem_gslf,train_scores_gslf,test_scores_gslf,losses_gslf= run_linear_classifier(modeldeepchem_gslf,embedding_train_dataset_gslf,embedding_test_dataset_gslf,metric_gslf,'roc_auc_score',nb_epoch = 100)\n",
    "predicted_labels=modeldeepchem_gslf.predict(embedding_test_dataset_gslf)"
   ],
   "outputs": [
    {
     "ename": "NameError",
     "evalue": "name 'get_class_imbalance_ratio' is not defined",
     "output_type": "error",
     "traceback": [
      "\u001B[0;31m---------------------------------------------------------------------------\u001B[0m",
      "\u001B[0;31mNameError\u001B[0m                                 Traceback (most recent call last)",
      "Cell \u001B[0;32mIn[33], line 1\u001B[0m\n\u001B[0;32m----> 1\u001B[0m train_ratios \u001B[38;5;241m=\u001B[39m \u001B[43mget_class_imbalance_ratio\u001B[49m(embedding_train_dataset_gslf)\n\u001B[1;32m      2\u001B[0m modeldeepchem_gslf \u001B[38;5;241m=\u001B[39m create_linear_classifier(gs_lf_tasks, \u001B[38;5;241m1\u001B[39m,train_ratios,mode \u001B[38;5;241m=\u001B[39m\u001B[38;5;124m\"\u001B[39m\u001B[38;5;124mlinear_classification\u001B[39m\u001B[38;5;124m\"\u001B[39m)\n\u001B[1;32m      3\u001B[0m metric_gslf \u001B[38;5;241m=\u001B[39m dc\u001B[38;5;241m.\u001B[39mmetrics\u001B[38;5;241m.\u001B[39mMetric(dc\u001B[38;5;241m.\u001B[39mmetrics\u001B[38;5;241m.\u001B[39mroc_auc_score)\n",
      "\u001B[0;31mNameError\u001B[0m: name 'get_class_imbalance_ratio' is not defined"
     ]
    }
   ],
   "execution_count": 33
  },
  {
   "cell_type": "code",
   "metadata": {
    "collapsed": false,
    "jupyter": {
     "outputs_hidden": false
    },
    "pycharm": {
     "name": "#%%\n"
    },
    "ExecuteTime": {
     "end_time": "2024-06-07T09:50:05.039838Z",
     "start_time": "2024-06-07T09:50:05.028924Z"
    }
   },
   "source": [
    "mAP(gs_lf_pom_y_test, predicted_labels, pos_thr=0.5)"
   ],
   "outputs": [
    {
     "ename": "NameError",
     "evalue": "name 'gs_lf_pom_y_test' is not defined",
     "output_type": "error",
     "traceback": [
      "\u001B[0;31m---------------------------------------------------------------------------\u001B[0m",
      "\u001B[0;31mNameError\u001B[0m                                 Traceback (most recent call last)",
      "Cell \u001B[0;32mIn[34], line 1\u001B[0m\n\u001B[0;32m----> 1\u001B[0m mAP(\u001B[43mgs_lf_pom_y_test\u001B[49m, predicted_labels, pos_thr\u001B[38;5;241m=\u001B[39m\u001B[38;5;241m0.5\u001B[39m)\n",
      "\u001B[0;31mNameError\u001B[0m: name 'gs_lf_pom_y_test' is not defined"
     ]
    }
   ],
   "execution_count": 34
  },
  {
   "cell_type": "markdown",
   "metadata": {
    "collapsed": false,
    "jupyter": {
     "outputs_hidden": false
    },
    "pycharm": {
     "name": "#%% md\n"
    }
   },
   "source": [
    "### molformer"
   ]
  },
  {
   "cell_type": "code",
   "metadata": {
    "collapsed": false,
    "jupyter": {
     "outputs_hidden": false
    },
    "pycharm": {
     "name": "#%%\n"
    },
    "ExecuteTime": {
     "end_time": "2024-06-07T09:50:05.202325Z",
     "start_time": "2024-06-07T09:50:05.189985Z"
    }
   },
   "source": [
    "train_ratios = get_class_imbalance_ratio(embedding_train_dataset_gslf)\n",
    "modeldeepchem_gslf = create_linear_classifier(gs_lf_tasks, 1,train_ratios,mode =\"linear_classification\")\n",
    "metric_gslf = dc.metrics.Metric(dc.metrics.roc_auc_score)\n",
    "modeldeepchem_gslf,train_scores_gslf,test_scores_gslf,losses_gslf= run_linear_classifier(modeldeepchem_gslf,embedding_train_dataset_gslf,embedding_test_dataset_gslf,metric_gslf,'roc_auc_score',nb_epoch = 100)\n",
    "predicted_labels=modeldeepchem_gslf.predict(embedding_test_dataset_gslf)"
   ],
   "outputs": [
    {
     "ename": "NameError",
     "evalue": "name 'get_class_imbalance_ratio' is not defined",
     "output_type": "error",
     "traceback": [
      "\u001B[0;31m---------------------------------------------------------------------------\u001B[0m",
      "\u001B[0;31mNameError\u001B[0m                                 Traceback (most recent call last)",
      "Cell \u001B[0;32mIn[35], line 1\u001B[0m\n\u001B[0;32m----> 1\u001B[0m train_ratios \u001B[38;5;241m=\u001B[39m \u001B[43mget_class_imbalance_ratio\u001B[49m(embedding_train_dataset_gslf)\n\u001B[1;32m      2\u001B[0m modeldeepchem_gslf \u001B[38;5;241m=\u001B[39m create_linear_classifier(gs_lf_tasks, \u001B[38;5;241m1\u001B[39m,train_ratios,mode \u001B[38;5;241m=\u001B[39m\u001B[38;5;124m\"\u001B[39m\u001B[38;5;124mlinear_classification\u001B[39m\u001B[38;5;124m\"\u001B[39m)\n\u001B[1;32m      3\u001B[0m metric_gslf \u001B[38;5;241m=\u001B[39m dc\u001B[38;5;241m.\u001B[39mmetrics\u001B[38;5;241m.\u001B[39mMetric(dc\u001B[38;5;241m.\u001B[39mmetrics\u001B[38;5;241m.\u001B[39mroc_auc_score)\n",
      "\u001B[0;31mNameError\u001B[0m: name 'get_class_imbalance_ratio' is not defined"
     ]
    }
   ],
   "execution_count": 35
  },
  {
   "cell_type": "code",
   "metadata": {
    "collapsed": false,
    "jupyter": {
     "outputs_hidden": false
    },
    "pycharm": {
     "name": "#%%\n"
    },
    "ExecuteTime": {
     "end_time": "2024-06-07T09:50:05.311963Z",
     "start_time": "2024-06-07T09:50:05.300145Z"
    }
   },
   "source": [
    "mAP(gs_lf_molformer_y_test, predicted_labels, pos_thr=0.5)"
   ],
   "outputs": [
    {
     "ename": "NameError",
     "evalue": "name 'gs_lf_molformer_y_test' is not defined",
     "output_type": "error",
     "traceback": [
      "\u001B[0;31m---------------------------------------------------------------------------\u001B[0m",
      "\u001B[0;31mNameError\u001B[0m                                 Traceback (most recent call last)",
      "Cell \u001B[0;32mIn[36], line 1\u001B[0m\n\u001B[0;32m----> 1\u001B[0m mAP(\u001B[43mgs_lf_molformer_y_test\u001B[49m, predicted_labels, pos_thr\u001B[38;5;241m=\u001B[39m\u001B[38;5;241m0.5\u001B[39m)\n",
      "\u001B[0;31mNameError\u001B[0m: name 'gs_lf_molformer_y_test' is not defined"
     ]
    }
   ],
   "execution_count": 36
  },
  {
   "cell_type": "markdown",
   "metadata": {
    "collapsed": false,
    "jupyter": {
     "outputs_hidden": false
    },
    "pycharm": {
     "name": "#%% md\n"
    }
   },
   "source": [
    "### Alva"
   ]
  },
  {
   "cell_type": "code",
   "metadata": {
    "collapsed": false,
    "jupyter": {
     "outputs_hidden": false
    },
    "pycharm": {
     "name": "#%%\n"
    },
    "ExecuteTime": {
     "end_time": "2024-06-07T09:50:05.463231Z",
     "start_time": "2024-06-07T09:50:05.448359Z"
    }
   },
   "source": [
    "train_ratios = get_class_imbalance_ratio(embedding_train_dataset_gslf_alva)\n",
    "modeldeepchem_gslf_alva = create_linear_classifier(gs_lf_tasks, 1,train_ratios,mode =\"linear_classification\")\n",
    "metric_gslf = dc.metrics.Metric(dc.metrics.roc_auc_score)\n",
    "modeldeepchem_gslf_alva,train_scores_gslf_alva,test_scores_gslf_alva,losses_gslf_alva= run_linear_classifier(modeldeepchem_gslf_alva,embedding_train_dataset_gslf_alva,embedding_test_dataset_gslf_alva,metric_gslf,'roc_auc_score',nb_epoch = 100)\n",
    "predicted_labels=modeldeepchem_gslf_alva.predict(embedding_test_dataset_gslf_alva)"
   ],
   "outputs": [
    {
     "ename": "NameError",
     "evalue": "name 'get_class_imbalance_ratio' is not defined",
     "output_type": "error",
     "traceback": [
      "\u001B[0;31m---------------------------------------------------------------------------\u001B[0m",
      "\u001B[0;31mNameError\u001B[0m                                 Traceback (most recent call last)",
      "Cell \u001B[0;32mIn[37], line 1\u001B[0m\n\u001B[0;32m----> 1\u001B[0m train_ratios \u001B[38;5;241m=\u001B[39m \u001B[43mget_class_imbalance_ratio\u001B[49m(embedding_train_dataset_gslf_alva)\n\u001B[1;32m      2\u001B[0m modeldeepchem_gslf_alva \u001B[38;5;241m=\u001B[39m create_linear_classifier(gs_lf_tasks, \u001B[38;5;241m1\u001B[39m,train_ratios,mode \u001B[38;5;241m=\u001B[39m\u001B[38;5;124m\"\u001B[39m\u001B[38;5;124mlinear_classification\u001B[39m\u001B[38;5;124m\"\u001B[39m)\n\u001B[1;32m      3\u001B[0m metric_gslf \u001B[38;5;241m=\u001B[39m dc\u001B[38;5;241m.\u001B[39mmetrics\u001B[38;5;241m.\u001B[39mMetric(dc\u001B[38;5;241m.\u001B[39mmetrics\u001B[38;5;241m.\u001B[39mroc_auc_score)\n",
      "\u001B[0;31mNameError\u001B[0m: name 'get_class_imbalance_ratio' is not defined"
     ]
    }
   ],
   "execution_count": 37
  },
  {
   "cell_type": "code",
   "metadata": {
    "collapsed": false,
    "jupyter": {
     "outputs_hidden": false
    },
    "pycharm": {
     "name": "#%%\n"
    },
    "ExecuteTime": {
     "end_time": "2024-06-07T09:50:05.681854Z",
     "start_time": "2024-06-07T09:50:05.670867Z"
    }
   },
   "source": [
    "mAP(gs_lf_molformer_y_test, predicted_labels, pos_thr=0.5)"
   ],
   "outputs": [
    {
     "ename": "NameError",
     "evalue": "name 'gs_lf_molformer_y_test' is not defined",
     "output_type": "error",
     "traceback": [
      "\u001B[0;31m---------------------------------------------------------------------------\u001B[0m",
      "\u001B[0;31mNameError\u001B[0m                                 Traceback (most recent call last)",
      "Cell \u001B[0;32mIn[38], line 1\u001B[0m\n\u001B[0;32m----> 1\u001B[0m mAP(\u001B[43mgs_lf_molformer_y_test\u001B[49m, predicted_labels, pos_thr\u001B[38;5;241m=\u001B[39m\u001B[38;5;241m0.5\u001B[39m)\n",
      "\u001B[0;31mNameError\u001B[0m: name 'gs_lf_molformer_y_test' is not defined"
     ]
    }
   ],
   "execution_count": 38
  },
  {
   "cell_type": "markdown",
   "metadata": {
    "collapsed": false,
    "jupyter": {
     "outputs_hidden": false
    },
    "pycharm": {
     "name": "#%% md\n"
    }
   },
   "source": [
    "### Alva"
   ]
  },
  {
   "cell_type": "code",
   "metadata": {
    "collapsed": false,
    "jupyter": {
     "outputs_hidden": false
    },
    "pycharm": {
     "name": "#%%\n"
    },
    "ExecuteTime": {
     "end_time": "2024-06-07T09:50:05.743974Z",
     "start_time": "2024-06-07T09:50:05.731882Z"
    }
   },
   "source": [
    "train_ratios = get_class_imbalance_ratio(embedding_train_dataset_gslf_alva)\n",
    "# modeldeepchem_gslf_alva = create_linear_classifier(gs_lf_tasks, 1,train_ratios,\"classification_small\")\n",
    "modeldeepchem_gslf_alva = create_linear_classifier(gs_lf_tasks, 1,train_ratios)\n",
    "\n",
    "metric_gslf = dc.metrics.Metric(dc.metrics.roc_auc_score)\n",
    "modeldeepchem_gslf_alva,train_scores_gslf_alva,test_scores_gslf_alva,losses_gslf_alva= run_linear_classifier(modeldeepchem_gslf_alva,embedding_train_dataset_gslf_alva,embedding_test_dataset_gslf_alva,metric_gslf,'roc_auc_score',nb_epoch = 100)\n",
    "predicted_labels=modeldeepchem_gslf_alva.predict(embedding_test_dataset_gslf_alva)"
   ],
   "outputs": [
    {
     "ename": "NameError",
     "evalue": "name 'get_class_imbalance_ratio' is not defined",
     "output_type": "error",
     "traceback": [
      "\u001B[0;31m---------------------------------------------------------------------------\u001B[0m",
      "\u001B[0;31mNameError\u001B[0m                                 Traceback (most recent call last)",
      "Cell \u001B[0;32mIn[39], line 1\u001B[0m\n\u001B[0;32m----> 1\u001B[0m train_ratios \u001B[38;5;241m=\u001B[39m \u001B[43mget_class_imbalance_ratio\u001B[49m(embedding_train_dataset_gslf_alva)\n\u001B[1;32m      2\u001B[0m \u001B[38;5;66;03m# modeldeepchem_gslf_alva = create_linear_classifier(gs_lf_tasks, 1,train_ratios,\"classification_small\")\u001B[39;00m\n\u001B[1;32m      3\u001B[0m modeldeepchem_gslf_alva \u001B[38;5;241m=\u001B[39m create_linear_classifier(gs_lf_tasks, \u001B[38;5;241m1\u001B[39m,train_ratios)\n",
      "\u001B[0;31mNameError\u001B[0m: name 'get_class_imbalance_ratio' is not defined"
     ]
    }
   ],
   "execution_count": 39
  },
  {
   "cell_type": "code",
   "metadata": {
    "collapsed": false,
    "jupyter": {
     "outputs_hidden": false
    },
    "pycharm": {
     "name": "#%%\n"
    },
    "ExecuteTime": {
     "end_time": "2024-06-07T09:50:05.942090Z",
     "start_time": "2024-06-07T09:50:05.930899Z"
    }
   },
   "source": [
    "mAP(gs_lf_molformer_y_test, predicted_labels, pos_thr=0.5)"
   ],
   "outputs": [
    {
     "ename": "NameError",
     "evalue": "name 'gs_lf_molformer_y_test' is not defined",
     "output_type": "error",
     "traceback": [
      "\u001B[0;31m---------------------------------------------------------------------------\u001B[0m",
      "\u001B[0;31mNameError\u001B[0m                                 Traceback (most recent call last)",
      "Cell \u001B[0;32mIn[40], line 1\u001B[0m\n\u001B[0;32m----> 1\u001B[0m mAP(\u001B[43mgs_lf_molformer_y_test\u001B[49m, predicted_labels, pos_thr\u001B[38;5;241m=\u001B[39m\u001B[38;5;241m0.5\u001B[39m)\n",
      "\u001B[0;31mNameError\u001B[0m: name 'gs_lf_molformer_y_test' is not defined"
     ]
    }
   ],
   "execution_count": 40
  },
  {
   "cell_type": "code",
   "metadata": {
    "collapsed": false,
    "jupyter": {
     "outputs_hidden": false
    },
    "pycharm": {
     "name": "#%%\n"
    },
    "ExecuteTime": {
     "end_time": "2024-06-07T09:50:06.038925Z",
     "start_time": "2024-06-07T09:50:06.035952Z"
    }
   },
   "source": [],
   "outputs": [],
   "execution_count": 40
  },
  {
   "cell_type": "code",
   "metadata": {
    "collapsed": false,
    "jupyter": {
     "outputs_hidden": false
    },
    "pycharm": {
     "name": "#%%\n"
    },
    "ExecuteTime": {
     "end_time": "2024-06-07T09:50:06.212795Z",
     "start_time": "2024-06-07T09:50:06.210836Z"
    }
   },
   "source": [
    "# mAP(gs_lf_alva_y_test, predicted_labels, pos_thr=0.5)"
   ],
   "outputs": [],
   "execution_count": 41
  },
  {
   "cell_type": "code",
   "metadata": {
    "collapsed": false,
    "jupyter": {
     "outputs_hidden": false
    },
    "pycharm": {
     "name": "#%%\n"
    },
    "ExecuteTime": {
     "end_time": "2024-06-07T09:50:06.331840Z",
     "start_time": "2024-06-07T09:50:06.329888Z"
    }
   },
   "source": [
    "# estimator= custom_logistic_regression(gs_lf_alva_features_train,gs_lf_alva_y_train)\n",
    "# predicted_labels=estimator.predict(gs_lf_alva_features_test)"
   ],
   "outputs": [],
   "execution_count": 42
  },
  {
   "cell_type": "code",
   "metadata": {
    "collapsed": false,
    "jupyter": {
     "outputs_hidden": false
    },
    "pycharm": {
     "name": "#%%\n"
    },
    "ExecuteTime": {
     "end_time": "2024-06-07T09:50:06.457873Z",
     "start_time": "2024-06-07T09:50:06.455879Z"
    }
   },
   "source": [
    "# mAP(gs_lf_molformer_y_test, predicted_labels, pos_thr=0.5)"
   ],
   "outputs": [],
   "execution_count": 43
  },
  {
   "cell_type": "markdown",
   "metadata": {
    "collapsed": false,
    "jupyter": {
     "outputs_hidden": false
    },
    "pycharm": {
     "name": "#%% md\n"
    }
   },
   "source": [
    "##  Training a Linear Classifier using DeepChem and Embeddding of GS-LF extracted from MoLFormer"
   ]
  },
  {
   "cell_type": "markdown",
   "metadata": {
    "collapsed": false,
    "jupyter": {
     "outputs_hidden": false
    },
    "pycharm": {
     "name": "#%% md\n"
    }
   },
   "source": [
    "### POM"
   ]
  },
  {
   "cell_type": "code",
   "metadata": {
    "collapsed": false,
    "jupyter": {
     "outputs_hidden": false
    },
    "pycharm": {
     "name": "#%%\n"
    },
    "ExecuteTime": {
     "end_time": "2024-06-07T09:50:06.587403Z",
     "start_time": "2024-06-07T09:50:06.574915Z"
    }
   },
   "source": [
    "train_ratios = get_class_imbalance_ratio(embedding_train_dataset_gslf)\n",
    "modeldeepchem_gslf = create_linear_classifier(gs_lf_tasks, 1,train_ratios,mode =\"linear_classification\")\n",
    "metric_gslf = dc.metrics.Metric(dc.metrics.roc_auc_score)\n",
    "modeldeepchem_gslf,train_scores_gslf,test_scores_gslf,losses_gslf= run_linear_classifier(modeldeepchem_gslf,embedding_train_dataset_gslf,embedding_test_dataset_gslf,metric_gslf,'roc_auc_score',nb_epoch = 100)\n",
    "predicted_labels=modeldeepchem_gslf.predict(embedding_test_dataset_gslf)"
   ],
   "outputs": [
    {
     "ename": "NameError",
     "evalue": "name 'get_class_imbalance_ratio' is not defined",
     "output_type": "error",
     "traceback": [
      "\u001B[0;31m---------------------------------------------------------------------------\u001B[0m",
      "\u001B[0;31mNameError\u001B[0m                                 Traceback (most recent call last)",
      "Cell \u001B[0;32mIn[44], line 1\u001B[0m\n\u001B[0;32m----> 1\u001B[0m train_ratios \u001B[38;5;241m=\u001B[39m \u001B[43mget_class_imbalance_ratio\u001B[49m(embedding_train_dataset_gslf)\n\u001B[1;32m      2\u001B[0m modeldeepchem_gslf \u001B[38;5;241m=\u001B[39m create_linear_classifier(gs_lf_tasks, \u001B[38;5;241m1\u001B[39m,train_ratios,mode \u001B[38;5;241m=\u001B[39m\u001B[38;5;124m\"\u001B[39m\u001B[38;5;124mlinear_classification\u001B[39m\u001B[38;5;124m\"\u001B[39m)\n\u001B[1;32m      3\u001B[0m metric_gslf \u001B[38;5;241m=\u001B[39m dc\u001B[38;5;241m.\u001B[39mmetrics\u001B[38;5;241m.\u001B[39mMetric(dc\u001B[38;5;241m.\u001B[39mmetrics\u001B[38;5;241m.\u001B[39mroc_auc_score)\n",
      "\u001B[0;31mNameError\u001B[0m: name 'get_class_imbalance_ratio' is not defined"
     ]
    }
   ],
   "execution_count": 44
  },
  {
   "cell_type": "code",
   "metadata": {
    "collapsed": false,
    "jupyter": {
     "outputs_hidden": false
    },
    "pycharm": {
     "name": "#%%\n"
    },
    "ExecuteTime": {
     "end_time": "2024-06-07T09:50:06.730112Z",
     "start_time": "2024-06-07T09:50:06.718909Z"
    }
   },
   "source": [
    "mAP(gs_lf_pom_y_test, predicted_labels, pos_thr=0.5)"
   ],
   "outputs": [
    {
     "ename": "NameError",
     "evalue": "name 'gs_lf_pom_y_test' is not defined",
     "output_type": "error",
     "traceback": [
      "\u001B[0;31m---------------------------------------------------------------------------\u001B[0m",
      "\u001B[0;31mNameError\u001B[0m                                 Traceback (most recent call last)",
      "Cell \u001B[0;32mIn[45], line 1\u001B[0m\n\u001B[0;32m----> 1\u001B[0m mAP(\u001B[43mgs_lf_pom_y_test\u001B[49m, predicted_labels, pos_thr\u001B[38;5;241m=\u001B[39m\u001B[38;5;241m0.5\u001B[39m)\n",
      "\u001B[0;31mNameError\u001B[0m: name 'gs_lf_pom_y_test' is not defined"
     ]
    }
   ],
   "execution_count": 45
  },
  {
   "cell_type": "markdown",
   "metadata": {
    "collapsed": false,
    "jupyter": {
     "outputs_hidden": false
    },
    "pycharm": {
     "name": "#%% md\n"
    }
   },
   "source": [
    "### molformer"
   ]
  },
  {
   "cell_type": "code",
   "metadata": {
    "collapsed": false,
    "jupyter": {
     "outputs_hidden": false
    },
    "pycharm": {
     "name": "#%%\n"
    },
    "ExecuteTime": {
     "end_time": "2024-06-07T09:50:06.925234Z",
     "start_time": "2024-06-07T09:50:06.912709Z"
    }
   },
   "source": [
    "train_ratios = get_class_imbalance_ratio(embedding_train_dataset_gslf)\n",
    "modeldeepchem_gslf = create_linear_classifier(gs_lf_tasks, 1,train_ratios,mode =\"linear_classification\")\n",
    "metric_gslf = dc.metrics.Metric(dc.metrics.roc_auc_score)\n",
    "modeldeepchem_gslf,train_scores_gslf,test_scores_gslf,losses_gslf= run_linear_classifier(modeldeepchem_gslf,embedding_train_dataset_gslf,embedding_test_dataset_gslf,metric_gslf,'roc_auc_score',nb_epoch = 100)\n",
    "predicted_labels=modeldeepchem_gslf.predict(embedding_test_dataset_gslf)"
   ],
   "outputs": [
    {
     "ename": "NameError",
     "evalue": "name 'get_class_imbalance_ratio' is not defined",
     "output_type": "error",
     "traceback": [
      "\u001B[0;31m---------------------------------------------------------------------------\u001B[0m",
      "\u001B[0;31mNameError\u001B[0m                                 Traceback (most recent call last)",
      "Cell \u001B[0;32mIn[46], line 1\u001B[0m\n\u001B[0;32m----> 1\u001B[0m train_ratios \u001B[38;5;241m=\u001B[39m \u001B[43mget_class_imbalance_ratio\u001B[49m(embedding_train_dataset_gslf)\n\u001B[1;32m      2\u001B[0m modeldeepchem_gslf \u001B[38;5;241m=\u001B[39m create_linear_classifier(gs_lf_tasks, \u001B[38;5;241m1\u001B[39m,train_ratios,mode \u001B[38;5;241m=\u001B[39m\u001B[38;5;124m\"\u001B[39m\u001B[38;5;124mlinear_classification\u001B[39m\u001B[38;5;124m\"\u001B[39m)\n\u001B[1;32m      3\u001B[0m metric_gslf \u001B[38;5;241m=\u001B[39m dc\u001B[38;5;241m.\u001B[39mmetrics\u001B[38;5;241m.\u001B[39mMetric(dc\u001B[38;5;241m.\u001B[39mmetrics\u001B[38;5;241m.\u001B[39mroc_auc_score)\n",
      "\u001B[0;31mNameError\u001B[0m: name 'get_class_imbalance_ratio' is not defined"
     ]
    }
   ],
   "execution_count": 46
  },
  {
   "cell_type": "code",
   "metadata": {
    "collapsed": false,
    "jupyter": {
     "outputs_hidden": false
    },
    "pycharm": {
     "name": "#%%\n"
    },
    "ExecuteTime": {
     "end_time": "2024-06-07T09:50:07.253233Z",
     "start_time": "2024-06-07T09:50:07.241932Z"
    }
   },
   "source": [
    "mAP(gs_lf_molformer_y_test, predicted_labels, pos_thr=0.5)"
   ],
   "outputs": [
    {
     "ename": "NameError",
     "evalue": "name 'gs_lf_molformer_y_test' is not defined",
     "output_type": "error",
     "traceback": [
      "\u001B[0;31m---------------------------------------------------------------------------\u001B[0m",
      "\u001B[0;31mNameError\u001B[0m                                 Traceback (most recent call last)",
      "Cell \u001B[0;32mIn[47], line 1\u001B[0m\n\u001B[0;32m----> 1\u001B[0m mAP(\u001B[43mgs_lf_molformer_y_test\u001B[49m, predicted_labels, pos_thr\u001B[38;5;241m=\u001B[39m\u001B[38;5;241m0.5\u001B[39m)\n",
      "\u001B[0;31mNameError\u001B[0m: name 'gs_lf_molformer_y_test' is not defined"
     ]
    }
   ],
   "execution_count": 47
  },
  {
   "cell_type": "markdown",
   "metadata": {
    "collapsed": false,
    "jupyter": {
     "outputs_hidden": false
    },
    "pycharm": {
     "name": "#%% md\n"
    }
   },
   "source": [
    "### Alva"
   ]
  },
  {
   "cell_type": "code",
   "metadata": {
    "collapsed": false,
    "jupyter": {
     "outputs_hidden": false
    },
    "pycharm": {
     "name": "#%%\n"
    },
    "ExecuteTime": {
     "end_time": "2024-06-07T09:50:07.508134Z",
     "start_time": "2024-06-07T09:50:07.494988Z"
    }
   },
   "source": [
    "train_ratios = get_class_imbalance_ratio(embedding_train_dataset_gslf_alva)\n",
    "modeldeepchem_gslf_alva = create_linear_classifier(gs_lf_tasks, 1,train_ratios,mode =\"linear_classification\")\n",
    "metric_gslf = dc.metrics.Metric(dc.metrics.roc_auc_score)\n",
    "modeldeepchem_gslf_alva,train_scores_gslf_alva,test_scores_gslf_alva,losses_gslf_alva= run_linear_classifier(modeldeepchem_gslf_alva,embedding_train_dataset_gslf_alva,embedding_test_dataset_gslf_alva,metric_gslf,'roc_auc_score',nb_epoch = 100)\n",
    "predicted_labels=modeldeepchem_gslf_alva.predict(embedding_test_dataset_gslf_alva)"
   ],
   "outputs": [
    {
     "ename": "NameError",
     "evalue": "name 'get_class_imbalance_ratio' is not defined",
     "output_type": "error",
     "traceback": [
      "\u001B[0;31m---------------------------------------------------------------------------\u001B[0m",
      "\u001B[0;31mNameError\u001B[0m                                 Traceback (most recent call last)",
      "Cell \u001B[0;32mIn[48], line 1\u001B[0m\n\u001B[0;32m----> 1\u001B[0m train_ratios \u001B[38;5;241m=\u001B[39m \u001B[43mget_class_imbalance_ratio\u001B[49m(embedding_train_dataset_gslf_alva)\n\u001B[1;32m      2\u001B[0m modeldeepchem_gslf_alva \u001B[38;5;241m=\u001B[39m create_linear_classifier(gs_lf_tasks, \u001B[38;5;241m1\u001B[39m,train_ratios,mode \u001B[38;5;241m=\u001B[39m\u001B[38;5;124m\"\u001B[39m\u001B[38;5;124mlinear_classification\u001B[39m\u001B[38;5;124m\"\u001B[39m)\n\u001B[1;32m      3\u001B[0m metric_gslf \u001B[38;5;241m=\u001B[39m dc\u001B[38;5;241m.\u001B[39mmetrics\u001B[38;5;241m.\u001B[39mMetric(dc\u001B[38;5;241m.\u001B[39mmetrics\u001B[38;5;241m.\u001B[39mroc_auc_score)\n",
      "\u001B[0;31mNameError\u001B[0m: name 'get_class_imbalance_ratio' is not defined"
     ]
    }
   ],
   "execution_count": 48
  },
  {
   "cell_type": "code",
   "metadata": {
    "collapsed": false,
    "jupyter": {
     "outputs_hidden": false
    },
    "pycharm": {
     "name": "#%%\n"
    },
    "ExecuteTime": {
     "end_time": "2024-06-07T09:50:07.777381Z",
     "start_time": "2024-06-07T09:50:07.766242Z"
    }
   },
   "source": [
    "mAP(gs_lf_molformer_y_test, predicted_labels, pos_thr=0.5)"
   ],
   "outputs": [
    {
     "ename": "NameError",
     "evalue": "name 'gs_lf_molformer_y_test' is not defined",
     "output_type": "error",
     "traceback": [
      "\u001B[0;31m---------------------------------------------------------------------------\u001B[0m",
      "\u001B[0;31mNameError\u001B[0m                                 Traceback (most recent call last)",
      "Cell \u001B[0;32mIn[49], line 1\u001B[0m\n\u001B[0;32m----> 1\u001B[0m mAP(\u001B[43mgs_lf_molformer_y_test\u001B[49m, predicted_labels, pos_thr\u001B[38;5;241m=\u001B[39m\u001B[38;5;241m0.5\u001B[39m)\n",
      "\u001B[0;31mNameError\u001B[0m: name 'gs_lf_molformer_y_test' is not defined"
     ]
    }
   ],
   "execution_count": 49
  },
  {
   "cell_type": "code",
   "metadata": {
    "collapsed": false,
    "jupyter": {
     "outputs_hidden": false
    },
    "pycharm": {
     "name": "#%%\n"
    }
   },
   "source": [
    "train_ratios = get_class_imbalance_ratio(embedding_train_dataset_gslf_alva)\n",
    "# modeldeepchem_gslf_alva = create_linear_classifier(gs_lf_tasks, 1,train_ratios,\"classification_small\")\n",
    "modeldeepchem_gslf_alva = create_linear_classifier(gs_lf_tasks, 1,train_ratios)\n",
    "\n",
    "metric_gslf = dc.metrics.Metric(dc.metrics.roc_auc_score)\n",
    "modeldeepchem_gslf_alva,train_scores_gslf_alva,test_scores_gslf_alva,losses_gslf_alva= run_linear_classifier(modeldeepchem_gslf_alva,embedding_train_dataset_gslf_alva,embedding_test_dataset_gslf_alva,metric_gslf,'roc_auc_score',nb_epoch = 100)\n",
    "predicted_labels=modeldeepchem_gslf_alva.predict(embedding_test_dataset_gslf_alva)"
   ],
   "outputs": [],
   "execution_count": null
  },
  {
   "cell_type": "code",
   "metadata": {
    "collapsed": false,
    "jupyter": {
     "outputs_hidden": false
    },
    "pycharm": {
     "name": "#%%\n"
    },
    "ExecuteTime": {
     "end_time": "2024-06-07T09:50:07.930552Z",
     "start_time": "2024-06-07T09:50:07.918975Z"
    }
   },
   "source": [
    "mAP(gs_lf_molformer_y_test, predicted_labels, pos_thr=0.5)"
   ],
   "outputs": [
    {
     "ename": "NameError",
     "evalue": "name 'gs_lf_molformer_y_test' is not defined",
     "output_type": "error",
     "traceback": [
      "\u001B[0;31m---------------------------------------------------------------------------\u001B[0m",
      "\u001B[0;31mNameError\u001B[0m                                 Traceback (most recent call last)",
      "Cell \u001B[0;32mIn[50], line 1\u001B[0m\n\u001B[0;32m----> 1\u001B[0m mAP(\u001B[43mgs_lf_molformer_y_test\u001B[49m, predicted_labels, pos_thr\u001B[38;5;241m=\u001B[39m\u001B[38;5;241m0.5\u001B[39m)\n",
      "\u001B[0;31mNameError\u001B[0m: name 'gs_lf_molformer_y_test' is not defined"
     ]
    }
   ],
   "execution_count": 50
  },
  {
   "cell_type": "code",
   "metadata": {
    "collapsed": false,
    "jupyter": {
     "outputs_hidden": false
    },
    "pycharm": {
     "name": "#%%\n"
    },
    "ExecuteTime": {
     "end_time": "2024-06-07T09:50:07.988001Z",
     "start_time": "2024-06-07T09:50:07.984940Z"
    }
   },
   "source": [],
   "outputs": [],
   "execution_count": 50
  },
  {
   "cell_type": "code",
   "metadata": {
    "collapsed": false,
    "jupyter": {
     "outputs_hidden": false
    },
    "pycharm": {
     "name": "#%%\n"
    },
    "ExecuteTime": {
     "end_time": "2024-06-07T09:50:08.131855Z",
     "start_time": "2024-06-07T09:50:08.129888Z"
    }
   },
   "source": [
    "# mAP(gs_lf_alva_y_test, predicted_labels, pos_thr=0.5)"
   ],
   "outputs": [],
   "execution_count": 51
  },
  {
   "cell_type": "code",
   "metadata": {
    "collapsed": false,
    "jupyter": {
     "outputs_hidden": false
    },
    "pycharm": {
     "name": "#%%\n"
    },
    "ExecuteTime": {
     "end_time": "2024-06-07T09:50:08.312324Z",
     "start_time": "2024-06-07T09:50:08.310230Z"
    }
   },
   "source": [
    "# estimator= custom_logistic_regression(gs_lf_alva_features_train,gs_lf_alva_y_train)\n",
    "# predicted_labels=estimator.predict(gs_lf_alva_features_test)"
   ],
   "outputs": [],
   "execution_count": 52
  },
  {
   "cell_type": "code",
   "metadata": {
    "ExecuteTime": {
     "end_time": "2024-06-07T09:50:08.375920Z",
     "start_time": "2024-06-07T09:50:08.371892Z"
    }
   },
   "source": [
    "# mAP(gs_lf_molformer_y_test, predicted_labels, pos_thr=0.5)"
   ],
   "outputs": [],
   "execution_count": 53
  },
  {
   "cell_type": "markdown",
   "metadata": {},
   "source": [
    "##  Training a Linear Classifier using DeepChem and Embeddding of GS-LF extracted from MoLFormer"
   ]
  },
  {
   "cell_type": "markdown",
   "metadata": {},
   "source": [
    "### POM"
   ]
  },
  {
   "cell_type": "code",
   "metadata": {
    "ExecuteTime": {
     "end_time": "2024-06-07T09:50:08.523792Z",
     "start_time": "2024-06-07T09:50:08.508329Z"
    }
   },
   "source": [
    "train_ratios = get_class_imbalance_ratio(embedding_train_dataset_gslf)\n",
    "modeldeepchem_gslf = create_linear_classifier(gs_lf_tasks, 1,train_ratios,mode =\"linear_classification\")\n",
    "metric_gslf = dc.metrics.Metric(dc.metrics.roc_auc_score)\n",
    "modeldeepchem_gslf,train_scores_gslf,test_scores_gslf,losses_gslf= run_linear_classifier(modeldeepchem_gslf,embedding_train_dataset_gslf,embedding_test_dataset_gslf,metric_gslf,'roc_auc_score',nb_epoch = 100)\n",
    "predicted_labels=modeldeepchem_gslf.predict(embedding_test_dataset_gslf)"
   ],
   "outputs": [
    {
     "ename": "NameError",
     "evalue": "name 'get_class_imbalance_ratio' is not defined",
     "output_type": "error",
     "traceback": [
      "\u001B[0;31m---------------------------------------------------------------------------\u001B[0m",
      "\u001B[0;31mNameError\u001B[0m                                 Traceback (most recent call last)",
      "Cell \u001B[0;32mIn[54], line 1\u001B[0m\n\u001B[0;32m----> 1\u001B[0m train_ratios \u001B[38;5;241m=\u001B[39m \u001B[43mget_class_imbalance_ratio\u001B[49m(embedding_train_dataset_gslf)\n\u001B[1;32m      2\u001B[0m modeldeepchem_gslf \u001B[38;5;241m=\u001B[39m create_linear_classifier(gs_lf_tasks, \u001B[38;5;241m1\u001B[39m,train_ratios,mode \u001B[38;5;241m=\u001B[39m\u001B[38;5;124m\"\u001B[39m\u001B[38;5;124mlinear_classification\u001B[39m\u001B[38;5;124m\"\u001B[39m)\n\u001B[1;32m      3\u001B[0m metric_gslf \u001B[38;5;241m=\u001B[39m dc\u001B[38;5;241m.\u001B[39mmetrics\u001B[38;5;241m.\u001B[39mMetric(dc\u001B[38;5;241m.\u001B[39mmetrics\u001B[38;5;241m.\u001B[39mroc_auc_score)\n",
      "\u001B[0;31mNameError\u001B[0m: name 'get_class_imbalance_ratio' is not defined"
     ]
    }
   ],
   "execution_count": 54
  },
  {
   "cell_type": "code",
   "metadata": {
    "collapsed": false,
    "jupyter": {
     "outputs_hidden": false
    },
    "pycharm": {
     "name": "#%%\n"
    },
    "ExecuteTime": {
     "end_time": "2024-06-07T09:50:08.608043Z",
     "start_time": "2024-06-07T09:50:08.595984Z"
    }
   },
   "source": [
    "mAP(gs_lf_pom_y_test, predicted_labels, pos_thr=0.5)"
   ],
   "outputs": [
    {
     "ename": "NameError",
     "evalue": "name 'gs_lf_pom_y_test' is not defined",
     "output_type": "error",
     "traceback": [
      "\u001B[0;31m---------------------------------------------------------------------------\u001B[0m",
      "\u001B[0;31mNameError\u001B[0m                                 Traceback (most recent call last)",
      "Cell \u001B[0;32mIn[55], line 1\u001B[0m\n\u001B[0;32m----> 1\u001B[0m mAP(\u001B[43mgs_lf_pom_y_test\u001B[49m, predicted_labels, pos_thr\u001B[38;5;241m=\u001B[39m\u001B[38;5;241m0.5\u001B[39m)\n",
      "\u001B[0;31mNameError\u001B[0m: name 'gs_lf_pom_y_test' is not defined"
     ]
    }
   ],
   "execution_count": 55
  },
  {
   "cell_type": "markdown",
   "metadata": {},
   "source": [
    "### molformer"
   ]
  },
  {
   "cell_type": "code",
   "metadata": {
    "collapsed": false,
    "jupyter": {
     "outputs_hidden": false
    },
    "pycharm": {
     "name": "#%%\n"
    },
    "ExecuteTime": {
     "end_time": "2024-06-07T09:50:08.830545Z",
     "start_time": "2024-06-07T09:50:08.816446Z"
    }
   },
   "source": [
    "train_ratios = get_class_imbalance_ratio(embedding_train_dataset_gslf)\n",
    "modeldeepchem_gslf = create_linear_classifier(gs_lf_tasks, 1,train_ratios,mode =\"linear_classification\")\n",
    "metric_gslf = dc.metrics.Metric(dc.metrics.roc_auc_score)\n",
    "modeldeepchem_gslf,train_scores_gslf,test_scores_gslf,losses_gslf= run_linear_classifier(modeldeepchem_gslf,embedding_train_dataset_gslf,embedding_test_dataset_gslf,metric_gslf,'roc_auc_score',nb_epoch = 100)\n",
    "predicted_labels=modeldeepchem_gslf.predict(embedding_test_dataset_gslf)"
   ],
   "outputs": [
    {
     "ename": "NameError",
     "evalue": "name 'get_class_imbalance_ratio' is not defined",
     "output_type": "error",
     "traceback": [
      "\u001B[0;31m---------------------------------------------------------------------------\u001B[0m",
      "\u001B[0;31mNameError\u001B[0m                                 Traceback (most recent call last)",
      "Cell \u001B[0;32mIn[56], line 1\u001B[0m\n\u001B[0;32m----> 1\u001B[0m train_ratios \u001B[38;5;241m=\u001B[39m \u001B[43mget_class_imbalance_ratio\u001B[49m(embedding_train_dataset_gslf)\n\u001B[1;32m      2\u001B[0m modeldeepchem_gslf \u001B[38;5;241m=\u001B[39m create_linear_classifier(gs_lf_tasks, \u001B[38;5;241m1\u001B[39m,train_ratios,mode \u001B[38;5;241m=\u001B[39m\u001B[38;5;124m\"\u001B[39m\u001B[38;5;124mlinear_classification\u001B[39m\u001B[38;5;124m\"\u001B[39m)\n\u001B[1;32m      3\u001B[0m metric_gslf \u001B[38;5;241m=\u001B[39m dc\u001B[38;5;241m.\u001B[39mmetrics\u001B[38;5;241m.\u001B[39mMetric(dc\u001B[38;5;241m.\u001B[39mmetrics\u001B[38;5;241m.\u001B[39mroc_auc_score)\n",
      "\u001B[0;31mNameError\u001B[0m: name 'get_class_imbalance_ratio' is not defined"
     ]
    }
   ],
   "execution_count": 56
  },
  {
   "cell_type": "code",
   "metadata": {
    "collapsed": false,
    "jupyter": {
     "outputs_hidden": false
    },
    "pycharm": {
     "name": "#%%\n"
    }
   },
   "source": [
    "mAP(gs_lf_molformer_y_test, predicted_labels, pos_thr=0.5)"
   ],
   "outputs": [],
   "execution_count": null
  },
  {
   "cell_type": "markdown",
   "metadata": {},
   "source": [
    "### Alva"
   ]
  },
  {
   "cell_type": "code",
   "metadata": {
    "collapsed": false,
    "jupyter": {
     "outputs_hidden": false
    },
    "pycharm": {
     "name": "#%%\n"
    },
    "ExecuteTime": {
     "end_time": "2024-06-07T09:50:08.997782Z",
     "start_time": "2024-06-07T09:50:08.980002Z"
    }
   },
   "source": [
    "train_ratios = get_class_imbalance_ratio(embedding_train_dataset_gslf_alva)\n",
    "modeldeepchem_gslf_alva = create_linear_classifier(gs_lf_tasks, 1,train_ratios,mode =\"linear_classification\")\n",
    "metric_gslf = dc.metrics.Metric(dc.metrics.roc_auc_score)\n",
    "modeldeepchem_gslf_alva,train_scores_gslf_alva,test_scores_gslf_alva,losses_gslf_alva= run_linear_classifier(modeldeepchem_gslf_alva,embedding_train_dataset_gslf_alva,embedding_test_dataset_gslf_alva,metric_gslf,'roc_auc_score',nb_epoch = 100)\n",
    "predicted_labels=modeldeepchem_gslf_alva.predict(embedding_test_dataset_gslf_alva)"
   ],
   "outputs": [
    {
     "ename": "NameError",
     "evalue": "name 'get_class_imbalance_ratio' is not defined",
     "output_type": "error",
     "traceback": [
      "\u001B[0;31m---------------------------------------------------------------------------\u001B[0m",
      "\u001B[0;31mNameError\u001B[0m                                 Traceback (most recent call last)",
      "Cell \u001B[0;32mIn[57], line 1\u001B[0m\n\u001B[0;32m----> 1\u001B[0m train_ratios \u001B[38;5;241m=\u001B[39m \u001B[43mget_class_imbalance_ratio\u001B[49m(embedding_train_dataset_gslf_alva)\n\u001B[1;32m      2\u001B[0m modeldeepchem_gslf_alva \u001B[38;5;241m=\u001B[39m create_linear_classifier(gs_lf_tasks, \u001B[38;5;241m1\u001B[39m,train_ratios,mode \u001B[38;5;241m=\u001B[39m\u001B[38;5;124m\"\u001B[39m\u001B[38;5;124mlinear_classification\u001B[39m\u001B[38;5;124m\"\u001B[39m)\n\u001B[1;32m      3\u001B[0m metric_gslf \u001B[38;5;241m=\u001B[39m dc\u001B[38;5;241m.\u001B[39mmetrics\u001B[38;5;241m.\u001B[39mMetric(dc\u001B[38;5;241m.\u001B[39mmetrics\u001B[38;5;241m.\u001B[39mroc_auc_score)\n",
      "\u001B[0;31mNameError\u001B[0m: name 'get_class_imbalance_ratio' is not defined"
     ]
    }
   ],
   "execution_count": 57
  },
  {
   "cell_type": "code",
   "metadata": {
    "collapsed": false,
    "jupyter": {
     "outputs_hidden": false
    },
    "pycharm": {
     "name": "#%%\n"
    },
    "ExecuteTime": {
     "end_time": "2024-06-07T09:50:09.052103Z",
     "start_time": "2024-06-07T09:50:09.040985Z"
    }
   },
   "source": [
    "mAP(gs_lf_molformer_y_test, predicted_labels, pos_thr=0.5)"
   ],
   "outputs": [
    {
     "ename": "NameError",
     "evalue": "name 'gs_lf_molformer_y_test' is not defined",
     "output_type": "error",
     "traceback": [
      "\u001B[0;31m---------------------------------------------------------------------------\u001B[0m",
      "\u001B[0;31mNameError\u001B[0m                                 Traceback (most recent call last)",
      "Cell \u001B[0;32mIn[58], line 1\u001B[0m\n\u001B[0;32m----> 1\u001B[0m mAP(\u001B[43mgs_lf_molformer_y_test\u001B[49m, predicted_labels, pos_thr\u001B[38;5;241m=\u001B[39m\u001B[38;5;241m0.5\u001B[39m)\n",
      "\u001B[0;31mNameError\u001B[0m: name 'gs_lf_molformer_y_test' is not defined"
     ]
    }
   ],
   "execution_count": 58
  }
 ],
 "metadata": {
  "kernelspec": {
   "display_name": "Python 3 (ipykernel)",
   "language": "python",
   "name": "python3"
  },
  "language_info": {
   "codemirror_mode": {
    "name": "ipython",
    "version": 3
   },
   "file_extension": ".py",
   "mimetype": "text/x-python",
   "name": "python",
   "nbconvert_exporter": "python",
   "pygments_lexer": "ipython3",
   "version": "3.9.18"
  },
  "toc-autonumbering": true,
  "toc-showmarkdowntxt": true
 },
 "nbformat": 4,
 "nbformat_minor": 4
}
